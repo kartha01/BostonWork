{
    "nbformat_minor": 0, 
    "cells": [
        {
            "execution_count": 1, 
            "cell_type": "code", 
            "metadata": {
                "collapsed": false
            }, 
            "outputs": [], 
            "source": "def setHadoopConfig(name):\n    prefix = \"fs.swift2d.service.\" + name\n    hconf = sc._jsc.hadoopConfiguration()\n    hconf.set(prefix + '.auth.url', 'https://identity.open.softlayer.com'+'/v3/auth/tokens')\n    hconf.set(prefix + '.auth.endpoint.prefix', 'endpoints')\n    hconf.set(prefix + '.tenant', 'a9fb4d478e3d40a8bbd54c5a2ecf25a3')\n    hconf.set(prefix + '.username', '6a4cc8251c1940179a6cccc9098a15e0')\n    hconf.set(prefix + '.password', 'kDTcKA2H(3eo5.G0')\n    hconf.setInt(prefix + '.http.port', 8080)\n    hconf.set(prefix + '.region', 'dallas')\n    hconf.setBoolean(prefix + '.public', False)\n\nname = \"keystone\"\nsetHadoopConfig(name)"
        }, 
        {
            "execution_count": 2, 
            "cell_type": "code", 
            "metadata": {
                "collapsed": false
            }, 
            "outputs": [], 
            "source": "seven_cases = spark.read.parquet(\"swift2d://MGH.\" + name + \"/tempParq/7cases.parquet\")"
        }, 
        {
            "execution_count": 3, 
            "cell_type": "code", 
            "metadata": {
                "collapsed": false
            }, 
            "outputs": [
                {
                    "execution_count": 3, 
                    "metadata": {}, 
                    "data": {
                        "text/plain": "247625"
                    }, 
                    "output_type": "execute_result"
                }
            ], 
            "source": "seven_cases.count()"
        }, 
        {
            "execution_count": 4, 
            "cell_type": "code", 
            "metadata": {
                "collapsed": true
            }, 
            "outputs": [], 
            "source": "seven_cases = seven_cases.withColumnRenamed(\"prediction\",\"clusterid\").select(\"clusterid\",\"pcaFeatures\")"
        }, 
        {
            "execution_count": 5, 
            "cell_type": "code", 
            "metadata": {
                "collapsed": false
            }, 
            "outputs": [], 
            "source": "(trainingData, testData) = seven_cases.randomSplit([0.7, 0.3])"
        }, 
        {
            "execution_count": null, 
            "cell_type": "code", 
            "metadata": {
                "collapsed": false
            }, 
            "outputs": [
                {
                    "execution_count": 6, 
                    "metadata": {}, 
                    "data": {
                        "text/plain": "DataFrame[clusterid: int, pcaFeatures: vector]"
                    }, 
                    "output_type": "execute_result"
                }
            ], 
            "source": "trainingData.repartition(600)"
        }, 
        {
            "execution_count": null, 
            "cell_type": "code", 
            "metadata": {
                "collapsed": true
            }, 
            "outputs": [], 
            "source": "from pyspark.ml import Pipeline\nfrom pyspark.ml.classification import RandomForestClassifier\nfrom pyspark.ml.feature import IndexToString, StringIndexer, VectorIndexer\nfrom pyspark.ml.evaluation import MulticlassClassificationEvaluator\nfrom pyspark.ml.tuning import CrossValidator, ParamGridBuilder\n\nlabelIndexer = StringIndexer(inputCol=\"clusterid\", outputCol=\"label\").fit(seven_cases)\n\nrf = RandomForestClassifier(labelCol=\"label\", featuresCol=\"pcaFeatures\")\n\npipeline = Pipeline(stages=[labelIndexer, rf])\n\nparamGrid = ParamGridBuilder() \\\n    .addGrid(rf.numTrees, [40]) \\\n    .addGrid(rf.maxBins, [20, 60]) \\\n    .addGrid(rf.maxDepth, [20]) \\\n    .build()\n    \ncrossval = CrossValidator(estimator=pipeline,\n                          estimatorParamMaps=paramGrid,\n                          evaluator=MulticlassClassificationEvaluator(),\n                          numFolds=3)\n\nmodel = crossval.fit(trainingData)\n\npredictions = model.transform(testData)"
        }, 
        {
            "execution_count": 11, 
            "cell_type": "code", 
            "metadata": {
                "collapsed": false
            }, 
            "outputs": [
                {
                    "output_type": "stream", 
                    "name": "stdout", 
                    "text": "+----------+-----+\n|prediction|label|\n+----------+-----+\n|       0.0|  0.0|\n|       0.0|  0.0|\n|       0.0|  0.0|\n|       0.0|  0.0|\n|       0.0|  0.0|\n|       0.0|  0.0|\n|       0.0|  0.0|\n|       0.0|  0.0|\n|       0.0|  0.0|\n|       0.0|  0.0|\n+----------+-----+\nonly showing top 10 rows\n\nTest Error = 0.0313526\n"
                }
            ], 
            "source": "predictions.select(\"prediction\", \"label\").show(10)\n\n# Select (prediction, true label) and compute test error\nevaluator = MulticlassClassificationEvaluator(\n    labelCol=\"label\", predictionCol=\"prediction\", metricName=\"accuracy\")\naccuracy = evaluator.evaluate(predictions)\nprint(\"Test Error = %g\" % (1.0 - accuracy))"
        }, 
        {
            "source": "trees = 100\nbins = 100\ndepth = 20\nTest Error = 0.027172\n\ntrees = 40\nbins = 60\ndepth = 20\nTest Error = 0.0313526", 
            "cell_type": "markdown", 
            "metadata": {}
        }, 
        {
            "execution_count": 12, 
            "cell_type": "code", 
            "metadata": {
                "collapsed": false
            }, 
            "outputs": [], 
            "source": "labs = predictions.groupBy(\"label\").count().collect()"
        }, 
        {
            "execution_count": 13, 
            "cell_type": "code", 
            "metadata": {
                "collapsed": false
            }, 
            "outputs": [], 
            "source": "preds = predictions.groupBy(\"prediction\").count().collect()"
        }, 
        {
            "execution_count": 14, 
            "cell_type": "code", 
            "metadata": {
                "collapsed": false
            }, 
            "outputs": [
                {
                    "execution_count": 14, 
                    "metadata": {}, 
                    "data": {
                        "text/plain": "[Row(prediction=0.0, count=13821),\n Row(prediction=1.0, count=11836),\n Row(prediction=2.0, count=10352),\n Row(prediction=3.0, count=8496),\n Row(prediction=4.0, count=5769),\n Row(prediction=5.0, count=5756),\n Row(prediction=6.0, count=5159),\n Row(prediction=7.0, count=3401),\n Row(prediction=8.0, count=3370),\n Row(prediction=9.0, count=2871),\n Row(prediction=10.0, count=1037),\n Row(prediction=11.0, count=732),\n Row(prediction=12.0, count=564),\n Row(prediction=13.0, count=361),\n Row(prediction=14.0, count=339),\n Row(prediction=15.0, count=324),\n Row(prediction=16.0, count=53),\n Row(prediction=17.0, count=43)]"
                    }, 
                    "output_type": "execute_result"
                }
            ], 
            "source": "sorted(preds)"
        }, 
        {
            "execution_count": 15, 
            "cell_type": "code", 
            "metadata": {
                "collapsed": false
            }, 
            "outputs": [
                {
                    "execution_count": 15, 
                    "metadata": {}, 
                    "data": {
                        "text/plain": "[Row(label=0.0, count=13898),\n Row(label=1.0, count=11769),\n Row(label=2.0, count=10193),\n Row(label=3.0, count=8380),\n Row(label=4.0, count=5837),\n Row(label=5.0, count=5673),\n Row(label=6.0, count=5098),\n Row(label=7.0, count=3501),\n Row(label=8.0, count=3453),\n Row(label=9.0, count=3034),\n Row(label=10.0, count=1019),\n Row(label=11.0, count=734),\n Row(label=12.0, count=557),\n Row(label=13.0, count=370),\n Row(label=14.0, count=342),\n Row(label=15.0, count=324),\n Row(label=16.0, count=55),\n Row(label=17.0, count=47)]"
                    }, 
                    "output_type": "execute_result"
                }
            ], 
            "source": "sorted(labs)"
        }, 
        {
            "execution_count": 17, 
            "cell_type": "code", 
            "metadata": {
                "collapsed": false
            }, 
            "outputs": [
                {
                    "output_type": "stream", 
                    "name": "stdout", 
                    "text": "18\n100\n[DecisionTreeClassificationModel (uid=dtc_08d94c629896) of depth 20 with 14071 nodes, DecisionTreeClassificationModel (uid=dtc_f86779e276ed) of depth 20 with 13947 nodes, DecisionTreeClassificationModel (uid=dtc_a7e02c932128) of depth 20 with 15637 nodes, DecisionTreeClassificationModel (uid=dtc_f9a12c2eb8c2) of depth 20 with 13973 nodes, DecisionTreeClassificationModel (uid=dtc_0a7a53ac8cc7) of depth 20 with 15239 nodes, DecisionTreeClassificationModel (uid=dtc_1afac78b0577) of depth 20 with 15371 nodes, DecisionTreeClassificationModel (uid=dtc_b1e915a1b368) of depth 20 with 13441 nodes, DecisionTreeClassificationModel (uid=dtc_989897185f1c) of depth 20 with 13337 nodes, DecisionTreeClassificationModel (uid=dtc_d41968608749) of depth 20 with 15645 nodes, DecisionTreeClassificationModel (uid=dtc_a45dc2ec4b15) of depth 20 with 15435 nodes, DecisionTreeClassificationModel (uid=dtc_6d55825f640c) of depth 20 with 15149 nodes, DecisionTreeClassificationModel (uid=dtc_5ad865ff0d96) of depth 20 with 16689 nodes, DecisionTreeClassificationModel (uid=dtc_b61a6a1083f1) of depth 20 with 15451 nodes, DecisionTreeClassificationModel (uid=dtc_7dde799fd9c9) of depth 20 with 14453 nodes, DecisionTreeClassificationModel (uid=dtc_bf814939adb4) of depth 20 with 10533 nodes, DecisionTreeClassificationModel (uid=dtc_1a69f0652bb0) of depth 20 with 16465 nodes, DecisionTreeClassificationModel (uid=dtc_730fd8246377) of depth 20 with 14543 nodes, DecisionTreeClassificationModel (uid=dtc_636f2145b9e5) of depth 20 with 16157 nodes, DecisionTreeClassificationModel (uid=dtc_c26e482bb887) of depth 20 with 17473 nodes, DecisionTreeClassificationModel (uid=dtc_7075209b42cb) of depth 20 with 16149 nodes, DecisionTreeClassificationModel (uid=dtc_cd65bec18f82) of depth 20 with 13263 nodes, DecisionTreeClassificationModel (uid=dtc_5d73d90b58d1) of depth 20 with 13585 nodes, DecisionTreeClassificationModel (uid=dtc_66c362d0808e) of depth 20 with 13587 nodes, DecisionTreeClassificationModel (uid=dtc_9b4d4df957d0) of depth 20 with 14311 nodes, DecisionTreeClassificationModel (uid=dtc_6e61d359ba7b) of depth 20 with 17435 nodes, DecisionTreeClassificationModel (uid=dtc_e7ac48d64c48) of depth 20 with 16591 nodes, DecisionTreeClassificationModel (uid=dtc_4e6ad1ab126d) of depth 20 with 13139 nodes, DecisionTreeClassificationModel (uid=dtc_3eaf9c922a63) of depth 20 with 14905 nodes, DecisionTreeClassificationModel (uid=dtc_3837ad50f54d) of depth 20 with 16287 nodes, DecisionTreeClassificationModel (uid=dtc_09bc5c2476f9) of depth 20 with 14603 nodes, DecisionTreeClassificationModel (uid=dtc_8ef501b33ceb) of depth 20 with 13161 nodes, DecisionTreeClassificationModel (uid=dtc_cf857d37051b) of depth 20 with 17979 nodes, DecisionTreeClassificationModel (uid=dtc_1b041eb522a1) of depth 20 with 17399 nodes, DecisionTreeClassificationModel (uid=dtc_14e1285f26f7) of depth 20 with 14877 nodes, DecisionTreeClassificationModel (uid=dtc_dea4bae56f3b) of depth 20 with 16753 nodes, DecisionTreeClassificationModel (uid=dtc_e34d1f2bca8c) of depth 20 with 14665 nodes, DecisionTreeClassificationModel (uid=dtc_e06a3ede7c8b) of depth 20 with 15883 nodes, DecisionTreeClassificationModel (uid=dtc_884ed4a49b5a) of depth 20 with 13953 nodes, DecisionTreeClassificationModel (uid=dtc_f9415a21fc89) of depth 20 with 15295 nodes, DecisionTreeClassificationModel (uid=dtc_f2b86573c9d4) of depth 20 with 15227 nodes]\n(100,[0,1,2,3,4,5,6,7,8,9,10,11,12,13,14,15,16,17,18,19,20,21,22,23,24,25,26,27,28,29,30,31,32,33,34,35,36,37,38,39,40,41,42,43,44,45,46,47,48,49,50,51,52,53,54,55,56,57,58,59,60,61,62,63,64,65,66,67,68,69,70,71,72,73,74,75,76,77,78,79,80,81,82,83,84,85,86,87,88,89,90,91,92,93,94,95,96,97,98,99],[0.116672438108,0.119774252873,0.116756959533,0.0679484901629,0.0355859918498,0.00551676027338,0.0272837678859,0.00481799516585,0.0164243167393,0.00248685040739,0.00165391722423,0.00182267216706,0.00167105814289,0.00139285742741,0.00145375409389,0.00129406603399,0.0012254226295,0.00109749474347,0.0240985284315,0.00703737429927,0.00133648556979,0.00111682631035,0.00159649398823,0.00117777965461,0.0443495676629,0.000978577357937,0.00108462504448,0.00184862207075,0.0336031814265,0.0124753414919,0.000986913217919,0.00531315826239,0.0034951830704,0.00167073375033,0.00525675985128,0.00177138901998,0.00917237479783,0.00485270290202,0.00864580495801,0.0148256518111,0.00650684075084,0.00545418821698,0.00880786974596,0.0121111694445,0.018607608895,0.0121760637737,0.0134040896834,0.0222155728296,0.0039964188601,0.00504935727158,0.00432609945324,0.0146240930262,0.0136968688398,0.00178512414837,0.0135307942908,0.0170816650596,0.00680918884866,0.00214351597685,0.0068169436304,0.0165473299158,0.00144308354033,0.00145865837696,0.00195607397654,0.013158953214,0.00437811277417,0.00403425397739,0.0013306214615,0.00542248760473,0.00165051494612,0.00137395874285,0.00118992532408,0.00170229651112,0.00134390521426,0.00119877715256,0.000979366377607,0.00127621926994,0.00115736818619,0.00120968250659,0.00141336810687,0.00120074531294,0.00117021104737,0.00190166009652,0.000932877413488,0.00139255012419,0.00184772978994,0.00203091643114,0.00105111728542,0.00154760901356,0.000964766721472,0.00202263779739,0.0033874034985,0.00124225461548,0.00247160083097,0.00134038524326,0.00208867770282,0.00160531567998,0.00190510419094,0.00138744116413,0.00132287895846,0.00224454674652])\n40\n"
                }
            ], 
            "source": "best_pipeline = model.bestModel\nbestRf = best_pipeline.stages[1]\n\nprint bestRf.numClasses\nprint bestRf.numFeatures\nprint bestRf.trees\nprint bestRf.featureImportances\nprint bestRf.getNumTrees"
        }, 
        {
            "execution_count": null, 
            "cell_type": "code", 
            "metadata": {
                "collapsed": true
            }, 
            "outputs": [], 
            "source": ""
        }
    ], 
    "metadata": {
        "kernelspec": {
            "display_name": "Python 2 with Spark 2.1", 
            "name": "python2-spark21", 
            "language": "python"
        }, 
        "language_info": {
            "mimetype": "text/x-python", 
            "nbconvert_exporter": "python", 
            "version": "2.7.11", 
            "name": "python", 
            "file_extension": ".py", 
            "pygments_lexer": "ipython2", 
            "codemirror_mode": {
                "version": 2, 
                "name": "ipython"
            }
        }
    }, 
    "nbformat": 4
}