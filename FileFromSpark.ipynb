{
    "nbformat_minor": 1, 
    "cells": [
        {
            "execution_count": 13, 
            "cell_type": "code", 
            "metadata": {}, 
            "outputs": [
                {
                    "output_type": "stream", 
                    "name": "stdout", 
                    "text": "PythonRDD[3] at RDD at PythonRDD.scala:48\n"
                }
            ], 
            "source": "oneTime = [1]\noneWrite = sc.parallelize(oneTime)\nchange = oneWrite.map(writeFile)\nprint change"
        }, 
        {
            "execution_count": 14, 
            "cell_type": "code", 
            "metadata": {}, 
            "outputs": [
                {
                    "execution_count": 14, 
                    "metadata": {}, 
                    "data": {
                        "text/plain": "[2]"
                    }, 
                    "output_type": "execute_result"
                }
            ], 
            "source": "change.collect()"
        }, 
        {
            "execution_count": 7, 
            "cell_type": "code", 
            "metadata": {
                "collapsed": true
            }, 
            "outputs": [], 
            "source": "def writeFile(r):\n    f = open('/gpfs/fs01/user/seff-34c2f0d3dcc620-a916a00b641d/notebook/work/abc', 'w')\n    f.write('hello\\n')  # python will convert \\n to os.linesep\n    f.close()\n    return 2"
        }, 
        {
            "execution_count": 17, 
            "cell_type": "code", 
            "metadata": {}, 
            "outputs": [
                {
                    "output_type": "stream", 
                    "name": "stdout", 
                    "text": "features_Case1_seg12.mat.csv  new_features_Case1_seg12.mat.csv\r\n"
                }
            ], 
            "source": "!ls /gpfs/fs01/user/seff-34c2f0d3dcc620-a916a00b641d/notebook/work/MGH-100P/"
        }, 
        {
            "execution_count": 16, 
            "cell_type": "code", 
            "metadata": {
                "collapsed": true
            }, 
            "outputs": [], 
            "source": "!rm abc"
        }, 
        {
            "execution_count": null, 
            "cell_type": "code", 
            "metadata": {
                "collapsed": true
            }, 
            "outputs": [], 
            "source": ""
        }
    ], 
    "metadata": {
        "kernelspec": {
            "display_name": "Python 2 with Spark 2.1", 
            "name": "python2-spark21", 
            "language": "python"
        }, 
        "language_info": {
            "mimetype": "text/x-python", 
            "nbconvert_exporter": "python", 
            "version": "2.7.11", 
            "name": "python", 
            "file_extension": ".py", 
            "pygments_lexer": "ipython2", 
            "codemirror_mode": {
                "version": 2, 
                "name": "ipython"
            }
        }
    }, 
    "nbformat": 4
}