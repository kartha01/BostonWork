{
    "nbformat_minor": 1, 
    "cells": [
        {
            "execution_count": 1, 
            "cell_type": "code", 
            "metadata": {}, 
            "outputs": [
                {
                    "output_type": "stream", 
                    "name": "stdout", 
                    "text": "--2017-07-08 12:44:32--  https://archive.ics.uci.edu/ml/machine-learning-databases/heart-disease/processed.cleveland.data\nResolving archive.ics.uci.edu (archive.ics.uci.edu)... 128.195.10.249\nConnecting to archive.ics.uci.edu (archive.ics.uci.edu)|128.195.10.249|:443... connected.\nHTTP request sent, awaiting response... 200 OK\nLength: 18461 (18K) [text/plain]\nSaving to: \u2018processed.cleveland.data\u2019\n\n100%[======================================>] 18,461      --.-K/s   in 0.01s   \n\n2017-07-08 12:44:33 (1.42 MB/s) - \u2018processed.cleveland.data\u2019 saved [18461/18461]\n\n--2017-07-08 12:44:33--  https://archive.ics.uci.edu/ml/machine-learning-databases/heart-disease/processed.hungarian.data\nResolving archive.ics.uci.edu (archive.ics.uci.edu)... 128.195.10.249\nConnecting to archive.ics.uci.edu (archive.ics.uci.edu)|128.195.10.249|:443... connected.\nHTTP request sent, awaiting response... 200 OK\nLength: 10263 (10K) [text/plain]\nSaving to: \u2018processed.hungarian.data\u2019\n\n100%[======================================>] 10,263      --.-K/s   in 0s      \n\n2017-07-08 12:44:33 (49.0 MB/s) - \u2018processed.hungarian.data\u2019 saved [10263/10263]\n\n--2017-07-08 12:44:34--  https://archive.ics.uci.edu/ml/machine-learning-databases/heart-disease/processed.switzerland.data\nResolving archive.ics.uci.edu (archive.ics.uci.edu)... 128.195.10.249\nConnecting to archive.ics.uci.edu (archive.ics.uci.edu)|128.195.10.249|:443... connected.\nHTTP request sent, awaiting response... 200 OK\nLength: 4109 (4.0K) [text/plain]\nSaving to: \u2018processed.switzerland.data\u2019\n\n100%[======================================>] 4,109       --.-K/s   in 0s      \n\n2017-07-08 12:44:34 (93.7 MB/s) - \u2018processed.switzerland.data\u2019 saved [4109/4109]\n\n--2017-07-08 12:44:34--  https://archive.ics.uci.edu/ml/machine-learning-databases/heart-disease/processed.va.data\nResolving archive.ics.uci.edu (archive.ics.uci.edu)... 128.195.10.249\nConnecting to archive.ics.uci.edu (archive.ics.uci.edu)|128.195.10.249|:443... connected.\nHTTP request sent, awaiting response... 200 OK\nLength: 6737 (6.6K) [text/plain]\nSaving to: \u2018processed.va.data\u2019\n\n100%[======================================>] 6,737       --.-K/s   in 0s      \n\n2017-07-08 12:44:34 (113 MB/s) - \u2018processed.va.data\u2019 saved [6737/6737]\n\nprocessed.cleveland.data  processed.switzerland.data\nprocessed.hungarian.data  processed.va.data\n"
                }
            ], 
            "source": "! wget https://archive.ics.uci.edu/ml/machine-learning-databases/heart-disease/processed.cleveland.data\n! wget https://archive.ics.uci.edu/ml/machine-learning-databases/heart-disease/processed.hungarian.data\n! wget https://archive.ics.uci.edu/ml/machine-learning-databases/heart-disease/processed.switzerland.data\n! wget https://archive.ics.uci.edu/ml/machine-learning-databases/heart-disease/processed.va.data\n! ls processed.*.data"
        }, 
        {
            "execution_count": 2, 
            "cell_type": "code", 
            "metadata": {}, 
            "outputs": [
                {
                    "output_type": "stream", 
                    "name": "stdout", 
                    "text": "63.0,1.0,1.0,145.0,233.0,1.0,2.0,150.0,0.0,2.3,3.0,0.0,6.0,0\r\n67.0,1.0,4.0,160.0,286.0,0.0,2.0,108.0,1.0,1.5,2.0,3.0,3.0,2\r\n67.0,1.0,4.0,120.0,229.0,0.0,2.0,129.0,1.0,2.6,2.0,2.0,7.0,1\r\n37.0,1.0,3.0,130.0,250.0,0.0,0.0,187.0,0.0,3.5,3.0,0.0,3.0,0\r\n41.0,0.0,2.0,130.0,204.0,0.0,2.0,172.0,0.0,1.4,1.0,0.0,3.0,0\r\n"
                }
            ], 
            "source": "! head -5 processed.cleveland.data"
        }, 
        {
            "execution_count": 7, 
            "cell_type": "code", 
            "metadata": {}, 
            "outputs": [
                {
                    "ename": "NameError", 
                    "evalue": "name 'schemaStringADD' is not defined", 
                    "traceback": [
                        "\u001b[1;31m\u001b[0m", 
                        "\u001b[1;31mNameError\u001b[0mTraceback (most recent call last)", 
                        "\u001b[1;32m<ipython-input-7-7c3b2e96da89>\u001b[0m in \u001b[0;36m<module>\u001b[1;34m()\u001b[0m\n\u001b[0;32m      2\u001b[0m \u001b[1;32mfrom\u001b[0m \u001b[0mpyspark\u001b[0m\u001b[1;33m.\u001b[0m\u001b[0msql\u001b[0m \u001b[1;32mimport\u001b[0m \u001b[0mSQLContext\u001b[0m\u001b[1;33m\u001b[0m\u001b[0m\n\u001b[0;32m      3\u001b[0m \u001b[1;32mfrom\u001b[0m \u001b[0mpyspark\u001b[0m\u001b[1;33m.\u001b[0m\u001b[0msql\u001b[0m\u001b[1;33m.\u001b[0m\u001b[0mtypes\u001b[0m \u001b[1;32mimport\u001b[0m \u001b[1;33m*\u001b[0m\u001b[1;33m\u001b[0m\u001b[0m\n\u001b[1;32m----> 4\u001b[1;33m \u001b[0msqlStringADD\u001b[0m \u001b[1;33m=\u001b[0m \u001b[1;34m', '\u001b[0m\u001b[1;33m.\u001b[0m\u001b[0mjoin\u001b[0m\u001b[1;33m(\u001b[0m\u001b[1;33m[\u001b[0m\u001b[1;34m' '\u001b[0m\u001b[1;33m.\u001b[0m\u001b[0mjoin\u001b[0m\u001b[1;33m(\u001b[0m\u001b[0mx\u001b[0m\u001b[1;33m)\u001b[0m \u001b[1;32mfor\u001b[0m \u001b[0mx\u001b[0m \u001b[1;32min\u001b[0m \u001b[0mzip\u001b[0m\u001b[1;33m(\u001b[0m\u001b[0mschemaStringADD\u001b[0m\u001b[1;33m.\u001b[0m\u001b[0msplit\u001b[0m\u001b[1;33m(\u001b[0m\u001b[1;34m','\u001b[0m\u001b[1;33m)\u001b[0m\u001b[1;33m,\u001b[0m \u001b[0mtypeStringADD\u001b[0m\u001b[1;33m.\u001b[0m\u001b[0msplit\u001b[0m\u001b[1;33m(\u001b[0m\u001b[1;34m','\u001b[0m\u001b[1;33m)\u001b[0m\u001b[1;33m)\u001b[0m\u001b[1;33m]\u001b[0m\u001b[1;33m)\u001b[0m\u001b[1;33m\u001b[0m\u001b[0m\n\u001b[0m\u001b[0;32m      5\u001b[0m \u001b[0mprint\u001b[0m \u001b[1;33m(\u001b[0m\u001b[0msqlStringADD\u001b[0m\u001b[1;33m)\u001b[0m\u001b[1;33m\u001b[0m\u001b[0m\n\u001b[0;32m      6\u001b[0m \u001b[1;31m#sc = pyspark.SparkContext()\u001b[0m\u001b[1;33m\u001b[0m\u001b[1;33m\u001b[0m\u001b[0m\n", 
                        "\u001b[1;31mNameError\u001b[0m: name 'schemaStringADD' is not defined"
                    ], 
                    "output_type": "error"
                }
            ], 
            "source": "import pyspark\nfrom pyspark.sql import SQLContext\nfrom pyspark.sql.types import *\nsqlStringADD = ', '.join([' '.join(x) for x in zip(schemaStringADD.split(','), typeStringADD.split(','))])\nprint (sqlStringADD)\n#sc = pyspark.SparkContext()\nsqlContext = SQLContext(sc)\nst = { 'INT': IntegerType(), 'STRING': StringType() , 'FLOAT': FloatType() , 'BOOLEAN': BooleanType() }\n\nfieldsRAW = [StructField(field_name, StringType(), True) for field_name in schemaStringADD.split(',')]\nschemaRAW = StructType(fieldsRAW)"
        }, 
        {
            "execution_count": null, 
            "cell_type": "code", 
            "metadata": {
                "collapsed": true
            }, 
            "outputs": [], 
            "source": "from pyspark.mllib.evaluation import BinaryClassificationMetrics\n\nstart_time = time()\n\nmetrics = BinaryClassificationMetrics(labels_and_predictions)\nprint(\"Area under Precision/Recall (PR) curve: %.f\" % (metrics.areaUnderPR * 100))\nprint(\"Area under Receiver Operating Characteristic (ROC) curve: %.3f\" % (metrics.areaUnderROC * 100))\n\nend_time = time()\nelapsed_time = end_time - start_time\nprint(\"Time to evaluate model: %.3f seconds\" % elapsed_time)\n"
        }
    ], 
    "metadata": {
        "kernelspec": {
            "display_name": "Python 3.5 (Experimental) with Spark 2.1", 
            "name": "python3-spark21", 
            "language": "python"
        }, 
        "language_info": {
            "mimetype": "text/x-python", 
            "nbconvert_exporter": "python", 
            "version": "3.5.2", 
            "name": "python", 
            "file_extension": ".py", 
            "pygments_lexer": "ipython3", 
            "codemirror_mode": {
                "version": 3, 
                "name": "ipython"
            }
        }
    }, 
    "nbformat": 4
}