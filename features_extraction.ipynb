{
    "nbformat_minor": 0, 
    "cells": [
        {
            "execution_count": 1, 
            "cell_type": "code", 
            "metadata": {
                "collapsed": true
            }, 
            "outputs": [], 
            "source": "# Test library\n\n\n\nfrom matplotlib.mlab import prctile\nfrom numpy import mean, std\nfrom scipy.stats import kurtosis\n"
        }, 
        {
            "execution_count": 3, 
            "cell_type": "code", 
            "metadata": {
                "collapsed": false
            }, 
            "outputs": [
                {
                    "output_type": "stream", 
                    "name": "stdout", 
                    "text": "Case1_seg1.mat\r\nMATLAB 7.3 MAT-file, Platform: PCWIN64, Created on: Wed May 24 13:46:39 2017 HDF5 schema 1.00 .                     \r\nMATLAB 7.3 MAT-file, Platform: PCWIN64, Created on: Wed May 24 13:54:28 2017 HDF5 schema 1.00 .                     \r\nMGH-TEST-01\r\nMGH-TEST-02\r\nMGH-TEST-7P\r\nspark-warehouse\r\n"
                }
            ], 
            "source": "!ls"
        }, 
        {
            "execution_count": 2, 
            "cell_type": "code", 
            "metadata": {
                "collapsed": false
            }, 
            "outputs": [
                {
                    "ename": "ImportError", 
                    "evalue": "No module named testlib", 
                    "traceback": [
                        "\u001b[1;31m\u001b[0m", 
                        "\u001b[1;31mImportError\u001b[0mTraceback (most recent call last)", 
                        "\u001b[1;32m<ipython-input-2-a40acd8a8d39>\u001b[0m in \u001b[0;36m<module>\u001b[1;34m()\u001b[0m\n\u001b[0;32m      3\u001b[0m \u001b[1;31m#from get_features import get_features\u001b[0m\u001b[1;33m\u001b[0m\u001b[1;33m\u001b[0m\u001b[0m\n\u001b[0;32m      4\u001b[0m \u001b[1;33m\u001b[0m\u001b[0m\n\u001b[1;32m----> 5\u001b[1;33m \u001b[1;32mfrom\u001b[0m \u001b[0mtestlib\u001b[0m \u001b[1;32mimport\u001b[0m \u001b[0mprintlb\u001b[0m\u001b[1;33m\u001b[0m\u001b[0m\n\u001b[0m\u001b[0;32m      6\u001b[0m \u001b[1;31m#na=get_features()\u001b[0m\u001b[1;33m\u001b[0m\u001b[1;33m\u001b[0m\u001b[0m\n\u001b[0;32m      7\u001b[0m \u001b[0mprintlib\u001b[0m\u001b[1;33m(\u001b[0m\u001b[1;33m)\u001b[0m\u001b[1;33m\u001b[0m\u001b[0m\n", 
                        "\u001b[1;31mImportError\u001b[0m: No module named testlib"
                    ], 
                    "output_type": "error"
                }
            ], 
            "source": "# load driver\n\n#from get_features import get_features\n\nfrom testlib import printlb\n#na=get_features()\nprintlib()"
        }, 
        {
            "execution_count": 10, 
            "cell_type": "code", 
            "metadata": {
                "collapsed": false
            }, 
            "outputs": [
                {
                    "output_type": "stream", 
                    "name": "stdout", 
                    "text": "1.12.1\n"
                }
            ], 
            "source": "import numpy as np\nprint(np.__version__)\n"
        }, 
        {
            "execution_count": 8, 
            "cell_type": "code", 
            "metadata": {
                "collapsed": false
            }, 
            "outputs": [
                {
                    "output_type": "stream", 
                    "name": "stdout", 
                    "text": "Collecting numpy==1.11\n  Downloading numpy-1.11.0-cp27-cp27m-manylinux1_x86_64.whl (15.3MB)\n\u001b[K    100% |\u2588\u2588\u2588\u2588\u2588\u2588\u2588\u2588\u2588\u2588\u2588\u2588\u2588\u2588\u2588\u2588\u2588\u2588\u2588\u2588\u2588\u2588\u2588\u2588\u2588\u2588\u2588\u2588\u2588\u2588\u2588\u2588| 15.3MB 77kB/s \n\u001b[?25hInstalling collected packages: numpy\n  Found existing installation: numpy 1.13.0\n    Uninstalling numpy-1.13.0:\n      Successfully uninstalled numpy-1.13.0\nSuccessfully installed numpy-1.11.0\n"
                }
            ], 
            "source": "!pip install numpy==1.11"
        }, 
        {
            "execution_count": 9, 
            "cell_type": "code", 
            "metadata": {
                "collapsed": false
            }, 
            "outputs": [
                {
                    "output_type": "stream", 
                    "name": "stdout", 
                    "text": "Requirement already satisfied: spectrum in /gpfs/global_fs01/sym_shared/YPProdSpark/user/seff-34c2f0d3dcc620-a916a00b641d/.local/lib/python2.7/site-packages\nRequirement already satisfied: scipy in /gpfs/global_fs01/sym_shared/YPProdSpark/user/seff-34c2f0d3dcc620-a916a00b641d/.local/lib/python2.7/site-packages (from spectrum)\nRequirement already satisfied: numpy in /gpfs/global_fs01/sym_shared/YPProdSpark/user/seff-34c2f0d3dcc620-a916a00b641d/.local/lib/python2.7/site-packages (from spectrum)\nRequirement already satisfied: matplotlib in /usr/local/src/bluemix_jupyter_bundle.v47/notebook/lib/python2.7/site-packages (from spectrum)\nRequirement already satisfied: easydev in /gpfs/global_fs01/sym_shared/YPProdSpark/user/seff-34c2f0d3dcc620-a916a00b641d/.local/lib/python2.7/site-packages (from spectrum)\nRequirement already satisfied: python-dateutil in /gpfs/global_fs01/sym_shared/YPProdSpark/user/seff-34c2f0d3dcc620-a916a00b641d/.local/lib/python2.7/site-packages (from matplotlib->spectrum)\nRequirement already satisfied: pytz in /gpfs/global_fs01/sym_shared/YPProdSpark/user/seff-34c2f0d3dcc620-a916a00b641d/.local/lib/python2.7/site-packages (from matplotlib->spectrum)\nRequirement already satisfied: cycler in /usr/local/src/bluemix_jupyter_bundle.v47/notebook/lib/python2.7/site-packages (from matplotlib->spectrum)\nRequirement already satisfied: pyparsing!=2.0.4,>=1.5.6 in /usr/local/src/bluemix_jupyter_bundle.v47/notebook/lib/python2.7/site-packages (from matplotlib->spectrum)\nRequirement already satisfied: colorama in /gpfs/global_fs01/sym_shared/YPProdSpark/user/seff-34c2f0d3dcc620-a916a00b641d/.local/lib/python2.7/site-packages (from easydev->spectrum)\nRequirement already satisfied: pexpect in /usr/local/src/bluemix_jupyter_bundle.v47/notebook/lib/python2.7/site-packages (from easydev->spectrum)\nRequirement already satisfied: six>=1.5 in /usr/local/src/bluemix_jupyter_bundle.v47/notebook/lib/python2.7/site-packages (from python-dateutil->matplotlib->spectrum)\nRequirement already satisfied: ptyprocess>=0.5 in /usr/local/src/bluemix_jupyter_bundle.v47/notebook/lib/python2.7/site-packages (from pexpect->easydev->spectrum)\n"
                }
            ], 
            "source": "!pip install spectrum"
        }, 
        {
            "execution_count": 12, 
            "cell_type": "code", 
            "metadata": {
                "collapsed": false
            }, 
            "outputs": [
                {
                    "execution_count": 12, 
                    "metadata": {}, 
                    "data": {
                        "text/plain": "'1.12.1'"
                    }, 
                    "output_type": "execute_result"
                }
            ], 
            "source": "np.__version__"
        }, 
        {
            "execution_count": null, 
            "cell_type": "code", 
            "metadata": {
                "collapsed": true
            }, 
            "outputs": [], 
            "source": ""
        }
    ], 
    "metadata": {
        "kernelspec": {
            "display_name": "Python 2 with Spark 2.0", 
            "name": "python2-spark20", 
            "language": "python"
        }, 
        "language_info": {
            "mimetype": "text/x-python", 
            "nbconvert_exporter": "python", 
            "version": "2.7.11", 
            "name": "python", 
            "file_extension": ".py", 
            "pygments_lexer": "ipython2", 
            "codemirror_mode": {
                "version": 2, 
                "name": "ipython"
            }
        }
    }, 
    "nbformat": 4
}