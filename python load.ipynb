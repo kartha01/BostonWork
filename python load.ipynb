{
    "nbformat_minor": 1, 
    "cells": [
        {
            "execution_count": 1, 
            "cell_type": "code", 
            "metadata": {
                "collapsed": true
            }, 
            "outputs": [], 
            "source": "#!pip install --user --upgrade python-swiftclient"
        }, 
        {
            "execution_count": 1, 
            "cell_type": "code", 
            "metadata": {}, 
            "outputs": [
                {
                    "output_type": "stream", 
                    "name": "stdout", 
                    "text": "total 11967024\r\n-rw------- 1 seff-34c2f0d3dcc620-a916a00b641d users 1478690037 Jun 27 15:58 Case18_seg1.mat\r\n-rw------- 1 seff-34c2f0d3dcc620-a916a00b641d users  733859235 Jun 28 12:38 Case1_seg11.mat\r\n-rw------- 1 seff-34c2f0d3dcc620-a916a00b641d users   57286534 Jun 28 09:27 Case1_seg12.mat\r\n-rw------- 1 seff-34c2f0d3dcc620-a916a00b641d users  983503825 Jun 27 16:44 Case1_seg1.mat\r\n-rw------- 1 seff-34c2f0d3dcc620-a916a00b641d users  826333198 Jun 27 16:19 Case5_seg1.mat\r\n-rw------- 1 seff-34c2f0d3dcc620-a916a00b641d users       4329 Jun 28 13:18 compute_spectrogram_sunhaoqi.py\r\n-rw------- 1 seff-34c2f0d3dcc620-a916a00b641d users       3569 Jun 28 13:58 compute_spectrogram_sunhaoqi.pyc\r\n-rw------- 1 seff-34c2f0d3dcc620-a916a00b641d users        703 Jun 29 08:46 fcn_shannon_entro.py\r\n-rw------- 1 seff-34c2f0d3dcc620-a916a00b641d users      18702 Jun 29 09:56 full_pipeline.py\r\n-rw------- 1 seff-34c2f0d3dcc620-a916a00b641d users      19423 Jun 29 10:52 get_features.py\r\n-rw------- 1 seff-34c2f0d3dcc620-a916a00b641d users      13556 Jun 28 13:58 get_features.pyc\r\ndrwx------ 2 seff-34c2f0d3dcc620-a916a00b641d users       4096 Jun  4 22:55 MGH-TEST-01\r\ndrwx------ 2 seff-34c2f0d3dcc620-a916a00b641d users       4096 Jun 21 15:22 MGH-TEST-02\r\ndrwx------ 2 seff-34c2f0d3dcc620-a916a00b641d users       4096 Jun 22 14:13 MGH-TEST-7P\r\n-rw------- 1 seff-34c2f0d3dcc620-a916a00b641d users       5520 Jun 28 12:40 mtspec.py\r\ndrwx------ 2 seff-34c2f0d3dcc620-a916a00b641d users       4096 Jun 29 10:53 __pycache__\r\n-rw------- 1 seff-34c2f0d3dcc620-a916a00b641d users      10777 Jun 28 12:41 runtime.py\r\ndrwxr-x--- 2 seff-34c2f0d3dcc620-a916a00b641d users       4096 May 31 12:05 spark-warehouse\r\ndrwx------ 3 seff-34c2f0d3dcc620-a916a00b641d users       4096 Jun 28 17:20 temp\r\n-rw------- 1 seff-34c2f0d3dcc620-a916a00b641d users    4955513 Jun 28 15:50 test2.mat\r\n"
                }
            ], 
            "source": "!ls -l"
        }, 
        {
            "execution_count": null, 
            "cell_type": "code", 
            "metadata": {}, 
            "outputs": [
                {
                    "output_type": "stream", 
                    "name": "stdout", 
                    "text": "rm: cannot remove \u2018full_pipeline.pyc\u2019: No such file or directory\nrm: cannot remove \u2018mtspec.pyc\u2019: No such file or directory\nrm: cannot remove \u2018runtime.pyc\u2019: No such file or directory\nrm: cannot remove \u2018fcn_shannon_entro.pyc\u2019: No such file or directory\n"
                }
            ], 
            "source": "!rm full_pipeline.pyc\n!rm mtspec.pyc\n!rm runtime.pyc\n!rm fcn_shannon_entro.pyc"
        }, 
        {
            "execution_count": 7, 
            "cell_type": "code", 
            "metadata": {
                "collapsed": true
            }, 
            "outputs": [
                {
                    "output_type": "stream", 
                    "name": "stdout", 
                    "text": "10:20:45.174269\n('load from', 'Case1/Case1_seg12.mat')\n255.99775\n{u'channels': array([[u'C3  '],\n       [u'C4  '],\n       [u'CZ  '],\n       [u'F3  '],\n       [u'F4  '],\n       [u'F7  '],\n       [u'F8  '],\n       [u'FZ  '],\n       [u'FP1 '],\n       [u'FP2 '],\n       [u'FPZ '],\n       [u'O1  '],\n       [u'O2  '],\n       [u'P3  '],\n       [u'P4  '],\n       [u'PZ  '],\n       [u'T3  '],\n       [u'T4  '],\n       [u'T5  '],\n       [u'T6  '],\n       [u'AUX1'],\n       [u'EKG '],\n       [u'CII '],\n       [u'AUX4'],\n       [u'AUX5'],\n       [u'LOC '],\n       [u'ROC '],\n       [u'AUX8'],\n       [u'T1  '],\n       [u'T2  '],\n       [u'A1  '],\n       [u'A2  ']], \n      dtype='<U4'), u'start_time': array([[u'07-06-2012 16:57:42']], \n      dtype='<U19'), u'Fs': array([[ 255.99775]]), u'data': array([[   7.17764453,    0.79751606,   -1.8608708 , ..., -512.53698743,\n        -505.09350421, -494.99163413],\n       [  13.29193432,    9.57019271,    8.24099928, ..., -462.2934757 ,\n        -439.16550998, -422.94935011],\n       [  17.5453533 ,   10.10187008,   10.63354746, ..., -484.62392536,\n        -465.74937862, -452.72328299],\n       ..., \n       [ -82.67583148, -100.48702347,  -92.77770156, ..., -469.47112023,\n        -453.52079905, -442.35557422],\n       [ -68.85221978,  -93.84105631,  -63.80128474, ..., -459.36925015,\n        -440.49470341, -427.46860778],\n       [ -42.00251246,  -85.06837966,   -6.64596716, ..., -467.07857205,\n        -430.9245107 , -414.17667345]])}\n('channels', cellarray([[u'C3  '],\n       [u'C4  '],\n       [u'CZ  '],\n       [u'F3  '],\n       [u'F4  '],\n       [u'F7  '],\n       [u'F8  '],\n       [u'FZ  '],\n       [u'FP1 '],\n       [u'FP2 '],\n       [u'FPZ '],\n       [u'O1  '],\n       [u'O2  '],\n       [u'P3  '],\n       [u'P4  '],\n       [u'PZ  '],\n       [u'T3  '],\n       [u'T4  '],\n       [u'T5  '],\n       [u'T6  '],\n       [u'AUX1'],\n       [u'EKG '],\n       [u'CII '],\n       [u'AUX4'],\n       [u'AUX5'],\n       [u'LOC '],\n       [u'ROC '],\n       [u'AUX8'],\n       [u'T1  '],\n       [u'T2  '],\n       [u'A1  '],\n       [u'A2  ']], dtype=object))\n32\n(32, 1)\n('labels', matlabarray([[array([u'c3'], \n      dtype='<U2')],\n       [array([u'c4'], \n      dtype='<U2')],\n       [array([u'cz'], \n      dtype='<U2')],\n       [array([u'f3'], \n      dtype='<U2')],\n       [array([u'f4'], \n      dtype='<U2')],\n       [array([u'f7'], \n      dtype='<U2')],\n       [array([u'f8'], \n      dtype='<U2')],\n       [array([u'fz'], \n      dtype='<U2')],\n       [array([u'fp1'], \n      dtype='<U3')],\n       [array([u'fp2'], \n      dtype='<U3')],\n       [array([u'fpz'], \n      dtype='<U3')],\n       [array([u'o1'], \n      dtype='<U2')],\n       [array([u'o2'], \n      dtype='<U2')],\n       [array([u'p3'], \n      dtype='<U2')],\n       [array([u'p4'], \n      dtype='<U2')],\n       [array([u'pz'], \n      dtype='<U2')],\n       [array([u't3'], \n      dtype='<U2')],\n       [array([u't4'], \n      dtype='<U2')],\n       [array([u't5'], \n      dtype='<U2')],\n       [array([u't6'], \n      dtype='<U2')],\n       [array([u'aux1'], \n      dtype='<U4')],\n       [array([u'ekg'], \n      dtype='<U3')],\n       [array([u'cii'], \n      dtype='<U3')],\n       [array([u'aux4'], \n      dtype='<U4')],\n       [array([u'aux5'], \n      dtype='<U4')],\n       [array([u'loc'], \n      dtype='<U3')],\n       [array([u'roc'], \n      dtype='<U3')],\n       [array([u'aux8'], \n      dtype='<U4')],\n       [array([u't1'], \n      dtype='<U2')],\n       [array([u't2'], \n      dtype='<U2')],\n       [array([u'a1'], \n      dtype='<U2')],\n       [array([u'a2'], \n      dtype='<U2')]], dtype=object))\n[array([u'c3'], \n      dtype='<U2')]\n[array([u'c4'], \n      dtype='<U2')]\n[array([u'cz'], \n      dtype='<U2')]\n[array([u'f3'], \n      dtype='<U2')]\n[array([u'f4'], \n      dtype='<U2')]\n[array([u'f7'], \n      dtype='<U2')]\n[array([u'f8'], \n      dtype='<U2')]\n[array([u'fz'], \n      dtype='<U2')]\n[array([u'fp1'], \n      dtype='<U3')]\n[array([u'fp2'], \n      dtype='<U3')]\n[array([u'fpz'], \n      dtype='<U3')]\n[array([u'o1'], \n      dtype='<U2')]\n[array([u'o2'], \n      dtype='<U2')]\n[array([u'p3'], \n      dtype='<U2')]\n[array([u'p4'], \n      dtype='<U2')]\n[array([u'pz'], \n      dtype='<U2')]\n[array([u't3'], \n      dtype='<U2')]\n[array([u't4'], \n      dtype='<U2')]\n[array([u't5'], \n      dtype='<U2')]\n[array([u't6'], \n      dtype='<U2')]\n[array([u'aux1'], \n      dtype='<U4')]\n[array([u'ekg'], \n      dtype='<U3')]\n[array([u'cii'], \n      dtype='<U3')]\n[array([u'aux4'], \n      dtype='<U4')]\n[array([u'aux5'], \n      dtype='<U4')]\n[array([u'loc'], \n      dtype='<U3')]\n[array([u'roc'], \n      dtype='<U3')]\n[array([u'aux8'], \n      dtype='<U4')]\n[array([u't1'], \n      dtype='<U2')]\n[array([u't2'], \n      dtype='<U2')]\n[array([u'a1'], \n      dtype='<U2')]\n[array([u'a2'], \n      dtype='<U2')]\n('load 0',)\n('compute 1',)\n('COI', cellarray([[ cellarray([['fp1', 'f7'],\n       ['f7', 't3'],\n       ['t3', 't5'],\n       ['t5', 'o1']], dtype=object),\n        0, 0, 0],\n       [ cellarray([['fp1', 'f3'],\n       ['f3', 'c3'],\n       ['c3', 'p3'],\n       ['p3', 'o1']], dtype=object),\n        0, 0, 0],\n       [ cellarray([['fp2', 'f4'],\n       ['f4', 'c4'],\n       ['c4', 'p4'],\n       ['p4', 'o2']], dtype=object),\n        0, 0, 0],\n       [ cellarray([['fp2', 'f8'],\n       ['f8', 't4'],\n       ['t4', 't6'],\n       ['t6', 'o2']], dtype=object),\n        0, 0, 0]], dtype=object))\n[['LL' 'LP' 'RP' 'RL']]\ndataB\n((32, 561494), <class 'runtime.cellarray'>, (4, 4), <class 'runtime.cellarray'>, dtype('O'), dtype('O'))\n('coi', cellarray([['fp1', 'f7'],\n       ['f7', 't3'],\n       ['t3', 't5'],\n       ['t5', 'o1']], dtype=object), 4, 2, matlabarray([[4, 2]]))\n('kk', 1, 'k', 1, 'fp1', 'f7')\n('items', 9, 6)\n('kk', 1, 'k', 2, 'f7', 't3')\n('items', 6, 17)\n('kk', 1, 'k', 3, 't3', 't5')\n('items', 17, 19)\n('kk', 1, 'k', 4, 't5', 'o1')\n('items', 19, 12)\n('coi', cellarray([['fp1', 'f3'],\n       ['f3', 'c3'],\n       ['c3', 'p3'],\n       ['p3', 'o1']], dtype=object), 4, 2, matlabarray([[4, 2]]))\n('kk', 2, 'k', 1, 'fp1', 'f3')\n('items', 9, 4)\n('kk', 2, 'k', 2, 'f3', 'c3')\n('items', 4, 1)\n('kk', 2, 'k', 3, 'c3', 'p3')\n('items', 1, 14)\n('kk', 2, 'k', 4, 'p3', 'o1')\n('items', 14, 12)\n('coi', cellarray([['fp2', 'f4'],\n       ['f4', 'c4'],\n       ['c4', 'p4'],\n       ['p4', 'o2']], dtype=object), 4, 2, matlabarray([[4, 2]]))\n('kk', 3, 'k', 1, 'fp2', 'f4')\n('items', 10, 5)\n('kk', 3, 'k', 2, 'f4', 'c4')\n('items', 5, 2)\n('kk', 3, 'k', 3, 'c4', 'p4')\n('items', 2, 15)\n('kk', 3, 'k', 4, 'p4', 'o2')\n('items', 15, 13)\n('coi', cellarray([['fp2', 'f8'],\n       ['f8', 't4'],\n       ['t4', 't6'],\n       ['t6', 'o2']], dtype=object), 4, 2, matlabarray([[4, 2]]))\n('kk', 4, 'k', 1, 'fp2', 'f8')\n('items', 10, 7)\n('kk', 4, 'k', 2, 'f8', 't4')\n('items', 7, 18)\n('kk', 4, 'k', 3, 't4', 't6')\n('items', 18, 20)\n('kk', 4, 'k', 4, 't6', 'o2')\n('items', 20, 13)\n('compute 2', 'compute spectrogram for each channel')\n('params', matlabarray([[200]]), matlabarray([[2, 2]]))\n('kk', 1, 'k', 1)\n(561494,)\n1403 windows\n"
                }, 
                {
                    "output_type": "stream", 
                    "name": "stderr", 
                    "text": "[Parallel(n_jobs=1)]: Done   1 out of   1 | elapsed:    0.0s remaining:    0.0s\n[Parallel(n_jobs=1)]: Done   2 out of   2 | elapsed:    0.0s remaining:    0.0s\n[Parallel(n_jobs=1)]: Done   3 out of   3 | elapsed:    0.0s remaining:    0.0s\n[Parallel(n_jobs=1)]: Done   4 out of   4 | elapsed:    0.0s remaining:    0.0s\n[Parallel(n_jobs=1)]: Done   5 out of   5 | elapsed:    0.0s remaining:    0.0s\n[Parallel(n_jobs=1)]: Done   6 out of   6 | elapsed:    0.1s remaining:    0.0s\n[Parallel(n_jobs=1)]: Done   7 out of   7 | elapsed:    0.1s remaining:    0.0s\n[Parallel(n_jobs=1)]: Done   8 out of   8 | elapsed:    0.1s remaining:    0.0s\n[Parallel(n_jobs=1)]: Done   9 out of   9 | elapsed:    0.1s remaining:    0.0s\n[Parallel(n_jobs=1)]: Done 1403 out of 1403 | elapsed:   13.2s finished\n[Parallel(n_jobs=1)]: Done   1 out of   1 | elapsed:    0.0s remaining:    0.0s\n[Parallel(n_jobs=1)]: Done   2 out of   2 | elapsed:    0.0s remaining:    0.0s\n[Parallel(n_jobs=1)]: Done   3 out of   3 | elapsed:    0.0s remaining:    0.0s\n[Parallel(n_jobs=1)]: Done   4 out of   4 | elapsed:    0.0s remaining:    0.0s\n[Parallel(n_jobs=1)]: Done   5 out of   5 | elapsed:    0.0s remaining:    0.0s\n[Parallel(n_jobs=1)]: Done   6 out of   6 | elapsed:    0.1s remaining:    0.0s\n[Parallel(n_jobs=1)]: Done   7 out of   7 | elapsed:    0.1s remaining:    0.0s\n[Parallel(n_jobs=1)]: Done   8 out of   8 | elapsed:    0.1s remaining:    0.0s\n[Parallel(n_jobs=1)]: Done   9 out of   9 | elapsed:    0.1s remaining:    0.0s\n"
                }, 
                {
                    "output_type": "stream", 
                    "name": "stdout", 
                    "text": "('kk', 1, 'k', 2)\n(561494,)\n1403 windows\n"
                }, 
                {
                    "output_type": "stream", 
                    "name": "stderr", 
                    "text": "[Parallel(n_jobs=1)]: Done 1403 out of 1403 | elapsed:   13.9s finished\n[Parallel(n_jobs=1)]: Done   1 out of   1 | elapsed:    0.0s remaining:    0.0s\n[Parallel(n_jobs=1)]: Done   2 out of   2 | elapsed:    0.0s remaining:    0.0s\n[Parallel(n_jobs=1)]: Done   3 out of   3 | elapsed:    0.0s remaining:    0.0s\n[Parallel(n_jobs=1)]: Done   4 out of   4 | elapsed:    0.0s remaining:    0.0s\n[Parallel(n_jobs=1)]: Done   5 out of   5 | elapsed:    0.0s remaining:    0.0s\n[Parallel(n_jobs=1)]: Done   6 out of   6 | elapsed:    0.1s remaining:    0.0s\n[Parallel(n_jobs=1)]: Done   7 out of   7 | elapsed:    0.1s remaining:    0.0s\n[Parallel(n_jobs=1)]: Done   8 out of   8 | elapsed:    0.1s remaining:    0.0s\n[Parallel(n_jobs=1)]: Done   9 out of   9 | elapsed:    0.1s remaining:    0.0s\n"
                }, 
                {
                    "output_type": "stream", 
                    "name": "stdout", 
                    "text": "('kk', 1, 'k', 3)\n(561494,)\n1403 windows\n"
                }, 
                {
                    "output_type": "stream", 
                    "name": "stderr", 
                    "text": "[Parallel(n_jobs=1)]: Done 1403 out of 1403 | elapsed:   14.0s finished\n[Parallel(n_jobs=1)]: Done   1 out of   1 | elapsed:    0.0s remaining:    0.0s\n[Parallel(n_jobs=1)]: Done   2 out of   2 | elapsed:    0.0s remaining:    0.0s\n[Parallel(n_jobs=1)]: Done   3 out of   3 | elapsed:    0.0s remaining:    0.0s\n[Parallel(n_jobs=1)]: Done   4 out of   4 | elapsed:    0.0s remaining:    0.0s\n[Parallel(n_jobs=1)]: Done   5 out of   5 | elapsed:    0.0s remaining:    0.0s\n[Parallel(n_jobs=1)]: Done   6 out of   6 | elapsed:    0.1s remaining:    0.0s\n[Parallel(n_jobs=1)]: Done   7 out of   7 | elapsed:    0.1s remaining:    0.0s\n[Parallel(n_jobs=1)]: Done   8 out of   8 | elapsed:    0.1s remaining:    0.0s\n[Parallel(n_jobs=1)]: Done   9 out of   9 | elapsed:    0.1s remaining:    0.0s\n"
                }, 
                {
                    "output_type": "stream", 
                    "name": "stdout", 
                    "text": "('kk', 1, 'k', 4)\n(561494,)\n1403 windows\n"
                }, 
                {
                    "output_type": "stream", 
                    "name": "stderr", 
                    "text": "[Parallel(n_jobs=1)]: Done 1403 out of 1403 | elapsed:   14.3s finished\n[Parallel(n_jobs=1)]: Done   1 out of   1 | elapsed:    0.0s remaining:    0.0s\n[Parallel(n_jobs=1)]: Done   2 out of   2 | elapsed:    0.0s remaining:    0.0s\n[Parallel(n_jobs=1)]: Done   3 out of   3 | elapsed:    0.0s remaining:    0.0s\n[Parallel(n_jobs=1)]: Done   4 out of   4 | elapsed:    0.0s remaining:    0.0s\n[Parallel(n_jobs=1)]: Done   5 out of   5 | elapsed:    0.0s remaining:    0.0s\n[Parallel(n_jobs=1)]: Done   6 out of   6 | elapsed:    0.1s remaining:    0.0s\n[Parallel(n_jobs=1)]: Done   7 out of   7 | elapsed:    0.1s remaining:    0.0s\n[Parallel(n_jobs=1)]: Done   8 out of   8 | elapsed:    0.1s remaining:    0.0s\n[Parallel(n_jobs=1)]: Done   9 out of   9 | elapsed:    0.1s remaining:    0.0s\n"
                }, 
                {
                    "output_type": "stream", 
                    "name": "stdout", 
                    "text": "('kk', 2, 'k', 1)\n(561494,)\n1403 windows\n"
                }, 
                {
                    "output_type": "stream", 
                    "name": "stderr", 
                    "text": "[Parallel(n_jobs=1)]: Done 1403 out of 1403 | elapsed:   13.3s finished\n[Parallel(n_jobs=1)]: Done   1 out of   1 | elapsed:    0.0s remaining:    0.0s\n[Parallel(n_jobs=1)]: Done   2 out of   2 | elapsed:    0.0s remaining:    0.0s\n[Parallel(n_jobs=1)]: Done   3 out of   3 | elapsed:    0.0s remaining:    0.0s\n[Parallel(n_jobs=1)]: Done   4 out of   4 | elapsed:    0.0s remaining:    0.0s\n[Parallel(n_jobs=1)]: Done   5 out of   5 | elapsed:    0.0s remaining:    0.0s\n[Parallel(n_jobs=1)]: Done   6 out of   6 | elapsed:    0.1s remaining:    0.0s\n[Parallel(n_jobs=1)]: Done   7 out of   7 | elapsed:    0.1s remaining:    0.0s\n[Parallel(n_jobs=1)]: Done   8 out of   8 | elapsed:    0.1s remaining:    0.0s\n[Parallel(n_jobs=1)]: Done   9 out of   9 | elapsed:    0.1s remaining:    0.0s\n"
                }, 
                {
                    "output_type": "stream", 
                    "name": "stdout", 
                    "text": "('kk', 2, 'k', 2)\n(561494,)\n1403 windows\n"
                }, 
                {
                    "output_type": "stream", 
                    "name": "stderr", 
                    "text": "[Parallel(n_jobs=1)]: Done 1403 out of 1403 | elapsed:   13.5s finished\n[Parallel(n_jobs=1)]: Done   1 out of   1 | elapsed:    0.0s remaining:    0.0s\n[Parallel(n_jobs=1)]: Done   2 out of   2 | elapsed:    0.0s remaining:    0.0s\n[Parallel(n_jobs=1)]: Done   3 out of   3 | elapsed:    0.0s remaining:    0.0s\n[Parallel(n_jobs=1)]: Done   4 out of   4 | elapsed:    0.0s remaining:    0.0s\n[Parallel(n_jobs=1)]: Done   5 out of   5 | elapsed:    0.0s remaining:    0.0s\n[Parallel(n_jobs=1)]: Done   6 out of   6 | elapsed:    0.1s remaining:    0.0s\n[Parallel(n_jobs=1)]: Done   7 out of   7 | elapsed:    0.1s remaining:    0.0s\n[Parallel(n_jobs=1)]: Done   8 out of   8 | elapsed:    0.1s remaining:    0.0s\n[Parallel(n_jobs=1)]: Done   9 out of   9 | elapsed:    0.1s remaining:    0.0s\n"
                }, 
                {
                    "output_type": "stream", 
                    "name": "stdout", 
                    "text": "('kk', 2, 'k', 3)\n(561494,)\n1403 windows\n"
                }, 
                {
                    "output_type": "stream", 
                    "name": "stderr", 
                    "text": "[Parallel(n_jobs=1)]: Done 1403 out of 1403 | elapsed:   13.7s finished\n[Parallel(n_jobs=1)]: Done   1 out of   1 | elapsed:    0.0s remaining:    0.0s\n[Parallel(n_jobs=1)]: Done   2 out of   2 | elapsed:    0.0s remaining:    0.0s\n[Parallel(n_jobs=1)]: Done   3 out of   3 | elapsed:    0.0s remaining:    0.0s\n[Parallel(n_jobs=1)]: Done   4 out of   4 | elapsed:    0.0s remaining:    0.0s\n[Parallel(n_jobs=1)]: Done   5 out of   5 | elapsed:    0.1s remaining:    0.0s\n[Parallel(n_jobs=1)]: Done   6 out of   6 | elapsed:    0.1s remaining:    0.0s\n[Parallel(n_jobs=1)]: Done   7 out of   7 | elapsed:    0.1s remaining:    0.0s\n[Parallel(n_jobs=1)]: Done   8 out of   8 | elapsed:    0.1s remaining:    0.0s\n[Parallel(n_jobs=1)]: Done   9 out of   9 | elapsed:    0.1s remaining:    0.0s\n"
                }, 
                {
                    "output_type": "stream", 
                    "name": "stdout", 
                    "text": "('kk', 2, 'k', 4)\n(561494,)\n1403 windows\n"
                }, 
                {
                    "output_type": "stream", 
                    "name": "stderr", 
                    "text": "[Parallel(n_jobs=1)]: Done 1403 out of 1403 | elapsed:   14.1s finished\n[Parallel(n_jobs=1)]: Done   1 out of   1 | elapsed:    0.0s remaining:    0.0s\n[Parallel(n_jobs=1)]: Done   2 out of   2 | elapsed:    0.0s remaining:    0.0s\n[Parallel(n_jobs=1)]: Done   3 out of   3 | elapsed:    0.0s remaining:    0.0s\n[Parallel(n_jobs=1)]: Done   4 out of   4 | elapsed:    0.0s remaining:    0.0s\n[Parallel(n_jobs=1)]: Done   5 out of   5 | elapsed:    0.0s remaining:    0.0s\n[Parallel(n_jobs=1)]: Done   6 out of   6 | elapsed:    0.1s remaining:    0.0s\n[Parallel(n_jobs=1)]: Done   7 out of   7 | elapsed:    0.1s remaining:    0.0s\n[Parallel(n_jobs=1)]: Done   8 out of   8 | elapsed:    0.1s remaining:    0.0s\n[Parallel(n_jobs=1)]: Done   9 out of   9 | elapsed:    0.1s remaining:    0.0s\n"
                }, 
                {
                    "output_type": "stream", 
                    "name": "stdout", 
                    "text": "('kk', 3, 'k', 1)\n(561494,)\n1403 windows\n"
                }, 
                {
                    "output_type": "stream", 
                    "name": "stderr", 
                    "text": "[Parallel(n_jobs=1)]: Done 1403 out of 1403 | elapsed:   13.4s finished\n[Parallel(n_jobs=1)]: Done   1 out of   1 | elapsed:    0.0s remaining:    0.0s\n[Parallel(n_jobs=1)]: Done   2 out of   2 | elapsed:    0.0s remaining:    0.0s\n[Parallel(n_jobs=1)]: Done   3 out of   3 | elapsed:    0.0s remaining:    0.0s\n[Parallel(n_jobs=1)]: Done   4 out of   4 | elapsed:    0.0s remaining:    0.0s\n[Parallel(n_jobs=1)]: Done   5 out of   5 | elapsed:    0.0s remaining:    0.0s\n[Parallel(n_jobs=1)]: Done   6 out of   6 | elapsed:    0.1s remaining:    0.0s\n[Parallel(n_jobs=1)]: Done   7 out of   7 | elapsed:    0.1s remaining:    0.0s\n[Parallel(n_jobs=1)]: Done   8 out of   8 | elapsed:    0.1s remaining:    0.0s\n[Parallel(n_jobs=1)]: Done   9 out of   9 | elapsed:    0.1s remaining:    0.0s\n"
                }, 
                {
                    "output_type": "stream", 
                    "name": "stdout", 
                    "text": "('kk', 3, 'k', 2)\n(561494,)\n1403 windows\n"
                }, 
                {
                    "output_type": "stream", 
                    "name": "stderr", 
                    "text": "[Parallel(n_jobs=1)]: Done 1403 out of 1403 | elapsed:   13.3s finished\n[Parallel(n_jobs=1)]: Done   1 out of   1 | elapsed:    0.0s remaining:    0.0s\n[Parallel(n_jobs=1)]: Done   2 out of   2 | elapsed:    0.0s remaining:    0.0s\n[Parallel(n_jobs=1)]: Done   3 out of   3 | elapsed:    0.0s remaining:    0.0s\n[Parallel(n_jobs=1)]: Done   4 out of   4 | elapsed:    0.0s remaining:    0.0s\n[Parallel(n_jobs=1)]: Done   5 out of   5 | elapsed:    0.0s remaining:    0.0s\n[Parallel(n_jobs=1)]: Done   6 out of   6 | elapsed:    0.1s remaining:    0.0s\n[Parallel(n_jobs=1)]: Done   7 out of   7 | elapsed:    0.1s remaining:    0.0s\n[Parallel(n_jobs=1)]: Done   8 out of   8 | elapsed:    0.1s remaining:    0.0s\n[Parallel(n_jobs=1)]: Done   9 out of   9 | elapsed:    0.1s remaining:    0.0s\n"
                }, 
                {
                    "output_type": "stream", 
                    "name": "stdout", 
                    "text": "('kk', 3, 'k', 3)\n(561494,)\n1403 windows\n"
                }, 
                {
                    "output_type": "stream", 
                    "name": "stderr", 
                    "text": "[Parallel(n_jobs=1)]: Done 1403 out of 1403 | elapsed:   13.7s finished\n[Parallel(n_jobs=1)]: Done   1 out of   1 | elapsed:    0.0s remaining:    0.0s\n[Parallel(n_jobs=1)]: Done   2 out of   2 | elapsed:    0.0s remaining:    0.0s\n[Parallel(n_jobs=1)]: Done   3 out of   3 | elapsed:    0.0s remaining:    0.0s\n[Parallel(n_jobs=1)]: Done   4 out of   4 | elapsed:    0.0s remaining:    0.0s\n[Parallel(n_jobs=1)]: Done   5 out of   5 | elapsed:    0.0s remaining:    0.0s\n[Parallel(n_jobs=1)]: Done   6 out of   6 | elapsed:    0.1s remaining:    0.0s\n[Parallel(n_jobs=1)]: Done   7 out of   7 | elapsed:    0.1s remaining:    0.0s\n[Parallel(n_jobs=1)]: Done   8 out of   8 | elapsed:    0.1s remaining:    0.0s\n[Parallel(n_jobs=1)]: Done   9 out of   9 | elapsed:    0.1s remaining:    0.0s\n"
                }, 
                {
                    "output_type": "stream", 
                    "name": "stdout", 
                    "text": "('kk', 3, 'k', 4)\n(561494,)\n1403 windows\n"
                }, 
                {
                    "output_type": "stream", 
                    "name": "stderr", 
                    "text": "[Parallel(n_jobs=1)]: Done 1403 out of 1403 | elapsed:   13.7s finished\n[Parallel(n_jobs=1)]: Done   1 out of   1 | elapsed:    0.0s remaining:    0.0s\n[Parallel(n_jobs=1)]: Done   2 out of   2 | elapsed:    0.0s remaining:    0.0s\n[Parallel(n_jobs=1)]: Done   3 out of   3 | elapsed:    0.0s remaining:    0.0s\n[Parallel(n_jobs=1)]: Done   4 out of   4 | elapsed:    0.0s remaining:    0.0s\n[Parallel(n_jobs=1)]: Done   5 out of   5 | elapsed:    0.0s remaining:    0.0s\n[Parallel(n_jobs=1)]: Done   6 out of   6 | elapsed:    0.1s remaining:    0.0s\n[Parallel(n_jobs=1)]: Done   7 out of   7 | elapsed:    0.1s remaining:    0.0s\n[Parallel(n_jobs=1)]: Done   8 out of   8 | elapsed:    0.1s remaining:    0.0s\n[Parallel(n_jobs=1)]: Done   9 out of   9 | elapsed:    0.1s remaining:    0.0s\n"
                }, 
                {
                    "output_type": "stream", 
                    "name": "stdout", 
                    "text": "('kk', 4, 'k', 1)\n(561494,)\n1403 windows\n"
                }, 
                {
                    "output_type": "stream", 
                    "name": "stderr", 
                    "text": "[Parallel(n_jobs=1)]: Done 1403 out of 1403 | elapsed:   13.2s finished\n[Parallel(n_jobs=1)]: Done   1 out of   1 | elapsed:    0.0s remaining:    0.0s\n[Parallel(n_jobs=1)]: Done   2 out of   2 | elapsed:    0.0s remaining:    0.0s\n[Parallel(n_jobs=1)]: Done   3 out of   3 | elapsed:    0.0s remaining:    0.0s\n[Parallel(n_jobs=1)]: Done   4 out of   4 | elapsed:    0.0s remaining:    0.0s\n[Parallel(n_jobs=1)]: Done   5 out of   5 | elapsed:    0.0s remaining:    0.0s\n[Parallel(n_jobs=1)]: Done   6 out of   6 | elapsed:    0.1s remaining:    0.0s\n[Parallel(n_jobs=1)]: Done   7 out of   7 | elapsed:    0.1s remaining:    0.0s\n[Parallel(n_jobs=1)]: Done   8 out of   8 | elapsed:    0.1s remaining:    0.0s\n[Parallel(n_jobs=1)]: Done   9 out of   9 | elapsed:    0.1s remaining:    0.0s\n"
                }, 
                {
                    "output_type": "stream", 
                    "name": "stdout", 
                    "text": "('kk', 4, 'k', 2)\n(561494,)\n1403 windows\n"
                }, 
                {
                    "output_type": "stream", 
                    "name": "stderr", 
                    "text": "[Parallel(n_jobs=1)]: Done 1403 out of 1403 | elapsed:   13.5s finished\n[Parallel(n_jobs=1)]: Done   1 out of   1 | elapsed:    0.0s remaining:    0.0s\n[Parallel(n_jobs=1)]: Done   2 out of   2 | elapsed:    0.0s remaining:    0.0s\n[Parallel(n_jobs=1)]: Done   3 out of   3 | elapsed:    0.0s remaining:    0.0s\n[Parallel(n_jobs=1)]: Done   4 out of   4 | elapsed:    0.0s remaining:    0.0s\n[Parallel(n_jobs=1)]: Done   5 out of   5 | elapsed:    0.0s remaining:    0.0s\n[Parallel(n_jobs=1)]: Done   6 out of   6 | elapsed:    0.1s remaining:    0.0s\n[Parallel(n_jobs=1)]: Done   7 out of   7 | elapsed:    0.1s remaining:    0.0s\n[Parallel(n_jobs=1)]: Done   8 out of   8 | elapsed:    0.1s remaining:    0.0s\n[Parallel(n_jobs=1)]: Done   9 out of   9 | elapsed:    0.1s remaining:    0.0s\n"
                }, 
                {
                    "output_type": "stream", 
                    "name": "stdout", 
                    "text": "('kk', 4, 'k', 3)\n(561494,)\n1403 windows\n"
                }, 
                {
                    "output_type": "stream", 
                    "name": "stderr", 
                    "text": "[Parallel(n_jobs=1)]: Done 1403 out of 1403 | elapsed:   13.6s finished\n[Parallel(n_jobs=1)]: Done   1 out of   1 | elapsed:    0.0s remaining:    0.0s\n[Parallel(n_jobs=1)]: Done   2 out of   2 | elapsed:    0.0s remaining:    0.0s\n[Parallel(n_jobs=1)]: Done   3 out of   3 | elapsed:    0.0s remaining:    0.0s\n[Parallel(n_jobs=1)]: Done   4 out of   4 | elapsed:    0.0s remaining:    0.0s\n[Parallel(n_jobs=1)]: Done   5 out of   5 | elapsed:    0.1s remaining:    0.0s\n[Parallel(n_jobs=1)]: Done   6 out of   6 | elapsed:    0.1s remaining:    0.0s\n[Parallel(n_jobs=1)]: Done   7 out of   7 | elapsed:    0.1s remaining:    0.0s\n[Parallel(n_jobs=1)]: Done   8 out of   8 | elapsed:    0.1s remaining:    0.0s\n[Parallel(n_jobs=1)]: Done   9 out of   9 | elapsed:    0.1s remaining:    0.0s\n"
                }, 
                {
                    "output_type": "stream", 
                    "name": "stdout", 
                    "text": "('kk', 4, 'k', 4)\n(561494,)\n1403 windows\n"
                }, 
                {
                    "output_type": "stream", 
                    "name": "stderr", 
                    "text": "[Parallel(n_jobs=1)]: Done 1403 out of 1403 | elapsed:   13.8s finished\n"
                }, 
                {
                    "output_type": "stream", 
                    "name": "stdout", 
                    "text": "('compute 3', 'compute regional averages')\n('T', array([ 0.]))\n('T', (1,))\n('kk', 1, 'k', 1)\n('kk', 1, 'k', 2)\n('kk', 1, 'k', 3)\n('kk', 1, 'k', 4)\n('T', array([ 0.]))\n('T', (1,))\n('kk', 2, 'k', 1)\n('kk', 2, 'k', 2)\n('kk', 2, 'k', 3)\n('kk', 2, 'k', 4)\n('T', array([ 0.]))\n('T', (1,))\n('kk', 3, 'k', 1)\n('kk', 3, 'k', 2)\n('kk', 3, 'k', 3)\n('kk', 3, 'k', 4)\n('T', array([ 0.]))\n('T', (1,))\n('kk', 4, 'k', 1)\n('kk', 4, 'k', 2)\n('kk', 4, 'k', 3)\n('kk', 4, 'k', 4)\nsave 0\n('compute 4', 'compute features')\n('kk', 1, 'k', 1)\n('kk', 1, 'k', 2)\n('kk', 1, 'k', 3)\n('kk', 1, 'k', 4)\n('kk', 2, 'k', 1)\n('kk', 2, 'k', 2)\n('kk', 2, 'k', 3)\n('kk', 2, 'k', 4)\n('kk', 3, 'k', 1)\n('kk', 3, 'k', 2)\n('kk', 3, 'k', 3)\n('kk', 3, 'k', 4)\n('kk', 4, 'k', 1)\n('kk', 4, 'k', 2)\n('kk', 4, 'k', 3)\n('kk', 4, 'k', 4)\n('compute 5',)\n('kk', 1)\n('compute', 1397)\n"
                }, 
                {
                    "ename": "TypeError", 
                    "evalue": "only integer arrays with one element can be converted to an index", 
                    "traceback": [
                        "\u001b[0;31m\u001b[0m", 
                        "\u001b[0;31mTypeError\u001b[0mTraceback (most recent call last)", 
                        "\u001b[0;32m<ipython-input-7-5468b7f9158a>\u001b[0m in \u001b[0;36m<module>\u001b[0;34m()\u001b[0m\n\u001b[1;32m      6\u001b[0m \u001b[0;32mprint\u001b[0m\u001b[0;34m(\u001b[0m\u001b[0mdatetime\u001b[0m\u001b[0;34m.\u001b[0m\u001b[0mdatetime\u001b[0m\u001b[0;34m.\u001b[0m\u001b[0mnow\u001b[0m\u001b[0;34m(\u001b[0m\u001b[0;34m)\u001b[0m\u001b[0;34m.\u001b[0m\u001b[0mtime\u001b[0m\u001b[0;34m(\u001b[0m\u001b[0;34m)\u001b[0m\u001b[0;34m)\u001b[0m\u001b[0;34m\u001b[0m\u001b[0m\n\u001b[1;32m      7\u001b[0m \u001b[0;31m#fin = Step1_computeFeaturesFromRawData(\"temp/test2.mat\")\u001b[0m\u001b[0;34m\u001b[0m\u001b[0;34m\u001b[0m\u001b[0m\n\u001b[0;32m----> 8\u001b[0;31m \u001b[0mfin\u001b[0m \u001b[0;34m=\u001b[0m \u001b[0mStep1_computeFeaturesFromRawData\u001b[0m\u001b[0;34m(\u001b[0m\u001b[0;34m\"Case1/Case1_seg12.mat\"\u001b[0m\u001b[0;34m)\u001b[0m\u001b[0;34m\u001b[0m\u001b[0m\n\u001b[0m\u001b[1;32m      9\u001b[0m \u001b[0;32mprint\u001b[0m\u001b[0;34m(\u001b[0m\u001b[0mfin\u001b[0m\u001b[0;34m)\u001b[0m\u001b[0;34m\u001b[0m\u001b[0m\n\u001b[1;32m     10\u001b[0m \u001b[0;32mprint\u001b[0m\u001b[0;34m(\u001b[0m\u001b[0mdatetime\u001b[0m\u001b[0;34m.\u001b[0m\u001b[0mdatetime\u001b[0m\u001b[0;34m.\u001b[0m\u001b[0mnow\u001b[0m\u001b[0;34m(\u001b[0m\u001b[0;34m)\u001b[0m\u001b[0;34m.\u001b[0m\u001b[0mtime\u001b[0m\u001b[0;34m(\u001b[0m\u001b[0;34m)\u001b[0m\u001b[0;34m)\u001b[0m\u001b[0;34m\u001b[0m\u001b[0m\n", 
                        "\u001b[0;32m/gpfs/global_fs01/sym_shared/YPProdSpark/user/seff-34c2f0d3dcc620-a916a00b641d/notebook/work/full_pipeline.py\u001b[0m in \u001b[0;36mStep1_computeFeaturesFromRawData\u001b[0;34m(fileName0, *args, **kwargs)\u001b[0m\n\u001b[1;32m    591\u001b[0m \u001b[0;34m\u001b[0m\u001b[0m\n\u001b[1;32m    592\u001b[0m \u001b[0;34m\u001b[0m\u001b[0m\n\u001b[0;32m--> 593\u001b[0;31m         \u001b[0mi\u001b[0m\u001b[0;34m=\u001b[0m\u001b[0mnr_epochs\u001b[0m\u001b[0;34m\u001b[0m\u001b[0m\n\u001b[0m\u001b[1;32m    594\u001b[0m         \u001b[0mfeatures\u001b[0m\u001b[0;34m[\u001b[0m\u001b[0mkk\u001b[0m\u001b[0;34m,\u001b[0m \u001b[0;34m:\u001b[0m\u001b[0;34m,\u001b[0m \u001b[0mi\u001b[0m\u001b[0;34m]\u001b[0m \u001b[0;34m=\u001b[0m \u001b[0mget_features\u001b[0m\u001b[0;34m(\u001b[0m\u001b[0mdata\u001b[0m\u001b[0;34m,\u001b[0m \u001b[0mint\u001b[0m\u001b[0;34m(\u001b[0m\u001b[0mi\u001b[0m\u001b[0;34m.\u001b[0m\u001b[0mitem\u001b[0m\u001b[0;34m(\u001b[0m\u001b[0;34m)\u001b[0m\u001b[0;34m)\u001b[0m\u001b[0;34m,\u001b[0m \u001b[0mwindow_length\u001b[0m\u001b[0;34m,\u001b[0m \u001b[0mspect\u001b[0m\u001b[0;34m,\u001b[0m \u001b[0msfreqs2\u001b[0m\u001b[0;34m,\u001b[0m \u001b[0mspectwindow_length\u001b[0m\u001b[0;34m,\u001b[0m \u001b[0mFs\u001b[0m\u001b[0;34m)\u001b[0m\u001b[0;34m\u001b[0m\u001b[0m\n\u001b[1;32m    595\u001b[0m \u001b[0;34m\u001b[0m\u001b[0m\n", 
                        "\u001b[0;32m/gpfs/global_fs01/sym_shared/YPProdSpark/user/seff-34c2f0d3dcc620-a916a00b641d/notebook/work/get_features.pyc\u001b[0m in \u001b[0;36mget_features\u001b[0;34m(data, i, window_length, spect, sfreqs, spectwindow_length, Fs, *args, **kwargs)\u001b[0m\n\u001b[1;32m     77\u001b[0m         \u001b[0;31m# win4=data[k][arange(t - dot(0.5,window_length[4]) + 1,t + dot(0.5,window_length[4]))]\u001b[0m\u001b[0;34m\u001b[0m\u001b[0;34m\u001b[0m\u001b[0m\n\u001b[1;32m     78\u001b[0m         \u001b[0;31m# win1=matlabarray([])\u001b[0m\u001b[0;34m\u001b[0m\u001b[0;34m\u001b[0m\u001b[0m\n\u001b[0;32m---> 79\u001b[0;31m         \u001b[0mwin1o\u001b[0m\u001b[0;34m=\u001b[0m\u001b[0mdata\u001b[0m\u001b[0;34m[\u001b[0m\u001b[0mk\u001b[0m\u001b[0;34m]\u001b[0m\u001b[0;34m[\u001b[0m\u001b[0mt\u001b[0m \u001b[0;34m-\u001b[0m \u001b[0mdot\u001b[0m\u001b[0;34m(\u001b[0m\u001b[0;36m0.5\u001b[0m\u001b[0;34m,\u001b[0m\u001b[0mwindow_length\u001b[0m\u001b[0;34m[\u001b[0m\u001b[0;36m1\u001b[0m\u001b[0;34m]\u001b[0m\u001b[0;34m)\u001b[0m \u001b[0;34m:\u001b[0m\u001b[0mt\u001b[0m \u001b[0;34m+\u001b[0m \u001b[0mdot\u001b[0m\u001b[0;34m(\u001b[0m\u001b[0;36m0.5\u001b[0m\u001b[0;34m,\u001b[0m\u001b[0mwindow_length\u001b[0m\u001b[0;34m[\u001b[0m\u001b[0;36m1\u001b[0m\u001b[0;34m]\u001b[0m\u001b[0;34m)\u001b[0m\u001b[0;34m]\u001b[0m\u001b[0;34m\u001b[0m\u001b[0m\n\u001b[0m\u001b[1;32m     80\u001b[0m         \u001b[0mwin2o\u001b[0m \u001b[0;34m=\u001b[0m \u001b[0mdata\u001b[0m\u001b[0;34m[\u001b[0m\u001b[0mk\u001b[0m\u001b[0;34m]\u001b[0m\u001b[0;34m[\u001b[0m\u001b[0mt\u001b[0m \u001b[0;34m-\u001b[0m \u001b[0mdot\u001b[0m\u001b[0;34m(\u001b[0m\u001b[0;36m0.5\u001b[0m\u001b[0;34m,\u001b[0m \u001b[0mwindow_length\u001b[0m\u001b[0;34m[\u001b[0m\u001b[0;36m2\u001b[0m\u001b[0;34m]\u001b[0m\u001b[0;34m)\u001b[0m\u001b[0;34m:\u001b[0m\u001b[0mt\u001b[0m \u001b[0;34m+\u001b[0m \u001b[0mdot\u001b[0m\u001b[0;34m(\u001b[0m\u001b[0;36m0.5\u001b[0m\u001b[0;34m,\u001b[0m \u001b[0mwindow_length\u001b[0m\u001b[0;34m[\u001b[0m\u001b[0;36m2\u001b[0m\u001b[0;34m]\u001b[0m\u001b[0;34m)\u001b[0m\u001b[0;34m]\u001b[0m\u001b[0;34m\u001b[0m\u001b[0m\n\u001b[1;32m     81\u001b[0m         \u001b[0mwin3o\u001b[0m \u001b[0;34m=\u001b[0m \u001b[0mdata\u001b[0m\u001b[0;34m[\u001b[0m\u001b[0mk\u001b[0m\u001b[0;34m]\u001b[0m\u001b[0;34m[\u001b[0m\u001b[0mt\u001b[0m \u001b[0;34m-\u001b[0m \u001b[0mdot\u001b[0m\u001b[0;34m(\u001b[0m\u001b[0;36m0.5\u001b[0m\u001b[0;34m,\u001b[0m \u001b[0mwindow_length\u001b[0m\u001b[0;34m[\u001b[0m\u001b[0;36m3\u001b[0m\u001b[0;34m]\u001b[0m\u001b[0;34m)\u001b[0m\u001b[0;34m:\u001b[0m\u001b[0mt\u001b[0m \u001b[0;34m+\u001b[0m \u001b[0mdot\u001b[0m\u001b[0;34m(\u001b[0m\u001b[0;36m0.5\u001b[0m\u001b[0;34m,\u001b[0m \u001b[0mwindow_length\u001b[0m\u001b[0;34m[\u001b[0m\u001b[0;36m3\u001b[0m\u001b[0;34m]\u001b[0m\u001b[0;34m)\u001b[0m\u001b[0;34m]\u001b[0m\u001b[0;34m\u001b[0m\u001b[0m\n", 
                        "\u001b[0;31mTypeError\u001b[0m: only integer arrays with one element can be converted to an index"
                    ], 
                    "output_type": "error"
                }
            ], 
            "source": "from full_pipeline import *\nfrom compute_spectrogram_sunhaoqi import mtspecgram_shq, compute_spec_each_seg\nimport datetime\n\n\nprint(datetime.datetime.now().time())\n#fin = Step1_computeFeaturesFromRawData(\"temp/test2.mat\")\nfin = Step1_computeFeaturesFromRawData(\"Case1/Case1_seg12.mat\")\nprint(fin)\nprint(datetime.datetime.now().time())"
        }, 
        {
            "execution_count": null, 
            "cell_type": "code", 
            "metadata": {
                "collapsed": true
            }, 
            "outputs": [], 
            "source": "#!pip uninstall numpy -y"
        }, 
        {
            "execution_count": null, 
            "cell_type": "code", 
            "metadata": {
                "collapsed": true
            }, 
            "outputs": [], 
            "source": "#!pip freeze | grep nump"
        }, 
        {
            "execution_count": null, 
            "cell_type": "code", 
            "metadata": {
                "collapsed": true
            }, 
            "outputs": [], 
            "source": "#!pip install numpy==1.11"
        }, 
        {
            "execution_count": null, 
            "cell_type": "code", 
            "metadata": {
                "collapsed": true
            }, 
            "outputs": [], 
            "source": ""
        }
    ], 
    "metadata": {
        "kernelspec": {
            "display_name": "Python 2 with Spark 2.1", 
            "name": "python2-spark21", 
            "language": "python"
        }, 
        "language_info": {
            "mimetype": "text/x-python", 
            "nbconvert_exporter": "python", 
            "version": "2.7.11", 
            "name": "python", 
            "file_extension": ".py", 
            "pygments_lexer": "ipython2", 
            "codemirror_mode": {
                "version": 2, 
                "name": "ipython"
            }
        }
    }, 
    "nbformat": 4
}