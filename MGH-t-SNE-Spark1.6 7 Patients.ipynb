{
    "nbformat_minor": 1, 
    "cells": [
        {
            "execution_count": 1, 
            "cell_type": "code", 
            "metadata": {}, 
            "outputs": [
                {
                    "execution_count": 1, 
                    "metadata": {}, 
                    "data": {
                        "text/plain": "org.apache.spark.SparkContext@d8423dda"
                    }, 
                    "output_type": "execute_result"
                }
            ], 
            "source": "sc"
        }, 
        {
            "execution_count": 2, 
            "cell_type": "code", 
            "metadata": {
                "collapsed": true
            }, 
            "outputs": [], 
            "source": "val sqlContext = new org.apache.spark.sql.SQLContext(sc)"
        }, 
        {
            "execution_count": 3, 
            "cell_type": "code", 
            "metadata": {}, 
            "outputs": [
                {
                    "execution_count": 3, 
                    "metadata": {}, 
                    "data": {
                        "text/plain": "Array([0.84214,0.68624,0.78477,0.73575,0.80179,0.64394,0.72269,0.69044,0.83131,0.6694,0.71354,0.70785,0.83943,0.62807,0.63416,0.67422,2.5748,2.2661,102220.0,79292.0,95588.0,87883.0,48679.0,39996.0,49485.0,42197.0,26308.0,22053.0,25327.0,22218.0,7851.5,5689.9,6544.6,6347.3,10.515,6.3675,8.0794,7.6768,9.3415,6.1117,7.4455,6.9286,10.385,6.7704,7.8241,7.5294,11.379,5.5631,6.3578,7.0326,19.744,10.039,12.832,12.759,16.09,9.8797,11.836,11.197,17.936,11.149,12.464,12.266,18.233,8.0146,9.768,10.142,0.96078,0.92918,0.93743,0.94144,0.96306,0.94783,0.95963,0.95318,0.96554,0.95593,0.96358,0.95793,0.95745,0.95919,0.95597,0.95441,0.041602,0.071683,0.071634,0.062197,0.042286,0.057427,0.053611,0.053054,0.033831,0.048066,0.041513,0.041755,0.039307,0.042111,0.046068..."
                    }, 
                    "output_type": "execute_result"
                }
            ], 
            "source": "def setHadoopConfig(name: String) = {\nval prefix = \"fs.swift.service.\" + name\nsc.hadoopConfiguration.set(prefix + \".auth.url\", \"https://identity.open.softlayer.com\" + \"/v3/auth/tokens\")\nsc.hadoopConfiguration.set(prefix + \".auth.endpoint.prefix\",\"endpoints\")\nsc.hadoopConfiguration.set(prefix + \".tenant\", \"a9fb4d478e3d40a8bbd54c5a2ecf25a3\")\nsc.hadoopConfiguration.set(prefix + \".username\", \"6a4cc8251c1940179a6cccc9098a15e0\")\nsc.hadoopConfiguration.set(prefix + \".password\", \"kDTcKA2H(3eo5.G0\")\nsc.hadoopConfiguration.setInt(prefix + \".http.port\", 8080)\nsc.hadoopConfiguration.set(prefix + \".region\", \"dallas\")\nsc.hadoopConfiguration.setBoolean(prefix + \".public\", false)\n}\n// you can choose any name\nval name = \"keystone\"\nsetHadoopConfig(name)\n\nval rddData1 = sqlContext.read.parquet(\"swift://MGH.\" + name + \"/tempParq/7cases.parquet\")\nrddData1.take(5)"
        }, 
        {
            "execution_count": 4, 
            "cell_type": "code", 
            "metadata": {}, 
            "outputs": [
                {
                    "execution_count": 4, 
                    "metadata": {}, 
                    "data": {
                        "text/plain": "[0.84214,0.68624,0.78477,0.73575,0.80179,0.64394,0.72269,0.69044,0.83131,0.6694,0.71354,0.70785,0.83943,0.62807,0.63416,0.67422,2.5748,2.2661,102220.0,79292.0,95588.0,87883.0,48679.0,39996.0,49485.0,42197.0,26308.0,22053.0,25327.0,22218.0,7851.5,5689.9,6544.6,6347.3,10.515,6.3675,8.0794,7.6768,9.3415,6.1117,7.4455,6.9286,10.385,6.7704,7.8241,7.5294,11.379,5.5631,6.3578,7.0326,19.744,10.039,12.832,12.759,16.09,9.8797,11.836,11.197,17.936,11.149,12.464,12.266,18.233,8.0146,9.768,10.142,0.96078,0.92918,0.93743,0.94144,0.96306,0.94783,0.95963,0.95318,0.96554,0.95593,0.96358,0.95793,0.95745,0.95919,0.95597,0.95441,0.041602,0.071683,0.071634,0.062197,0.042286,0.057427,0.053611,0.053054,0.033831,0.048066,0.041513,0.041755,0.039307,0.042111,0.046068,0.041536,0.0..."
                    }, 
                    "output_type": "execute_result"
                }
            ], 
            "source": "rddData1.head()"
        }, 
        {
            "execution_count": 5, 
            "cell_type": "code", 
            "metadata": {}, 
            "outputs": [
                {
                    "execution_count": 5, 
                    "metadata": {}, 
                    "data": {
                        "text/plain": "247625"
                    }, 
                    "output_type": "execute_result"
                }
            ], 
            "source": "rddData1.count()"
        }, 
        {
            "execution_count": 5, 
            "cell_type": "code", 
            "metadata": {}, 
            "outputs": [
                {
                    "output_type": "stream", 
                    "name": "stdout", 
                    "text": "root\n |-- _c0: double (nullable = false)\n |-- _c1: double (nullable = false)\n |-- _c2: double (nullable = false)\n |-- _c3: double (nullable = false)\n |-- _c4: double (nullable = false)\n |-- _c5: double (nullable = false)\n |-- _c6: double (nullable = false)\n |-- _c7: double (nullable = false)\n |-- _c8: double (nullable = false)\n |-- _c9: double (nullable = false)\n |-- _c10: double (nullable = false)\n |-- _c11: double (nullable = false)\n |-- _c12: double (nullable = false)\n |-- _c13: double (nullable = false)\n |-- _c14: double (nullable = false)\n |-- _c15: double (nullable = false)\n |-- _c30: double (nullable = false)\n |-- _c31: double (nullable = false)\n |-- _c32: double (nullable = false)\n |-- _c33: double (nullable = false)\n |-- _c34: double (nullable = false)\n |-- _c35: double (nullable = false)\n |-- _c36: double (nullable = false)\n |-- _c37: double (nullable = false)\n |-- _c38: double (nullable = false)\n |-- _c39: double (nullable = false)\n |-- _c40: double (nullable = false)\n |-- _c41: double (nullable = false)\n |-- _c42: double (nullable = false)\n |-- _c43: double (nullable = false)\n |-- _c44: double (nullable = false)\n |-- _c45: double (nullable = false)\n |-- _c46: double (nullable = false)\n |-- _c47: double (nullable = false)\n |-- _c48: double (nullable = false)\n |-- _c49: double (nullable = false)\n |-- _c50: double (nullable = false)\n |-- _c51: double (nullable = false)\n |-- _c52: double (nullable = false)\n |-- _c53: double (nullable = false)\n |-- _c54: double (nullable = false)\n |-- _c55: double (nullable = false)\n |-- _c56: double (nullable = false)\n |-- _c57: double (nullable = false)\n |-- _c58: double (nullable = false)\n |-- _c59: double (nullable = false)\n |-- _c60: double (nullable = false)\n |-- _c61: double (nullable = false)\n |-- _c62: double (nullable = false)\n |-- _c63: double (nullable = false)\n |-- _c64: double (nullable = false)\n |-- _c65: double (nullable = false)\n |-- _c66: double (nullable = false)\n |-- _c67: double (nullable = false)\n |-- _c68: double (nullable = false)\n |-- _c69: double (nullable = false)\n |-- _c70: double (nullable = false)\n |-- _c71: double (nullable = false)\n |-- _c72: double (nullable = false)\n |-- _c73: double (nullable = false)\n |-- _c74: double (nullable = false)\n |-- _c75: double (nullable = false)\n |-- _c76: double (nullable = false)\n |-- _c77: double (nullable = false)\n |-- _c78: double (nullable = false)\n |-- _c79: double (nullable = false)\n |-- _c80: double (nullable = false)\n |-- _c81: double (nullable = false)\n |-- _c82: double (nullable = false)\n |-- _c83: double (nullable = false)\n |-- _c84: double (nullable = false)\n |-- _c85: double (nullable = false)\n |-- _c86: double (nullable = false)\n |-- _c87: double (nullable = false)\n |-- _c88: double (nullable = false)\n |-- _c89: double (nullable = false)\n |-- _c90: double (nullable = false)\n |-- _c91: double (nullable = false)\n |-- _c92: double (nullable = false)\n |-- _c93: double (nullable = false)\n |-- _c94: double (nullable = false)\n |-- _c95: double (nullable = false)\n |-- _c96: double (nullable = false)\n |-- _c97: double (nullable = false)\n |-- _c98: double (nullable = false)\n |-- _c99: double (nullable = false)\n |-- _c100: double (nullable = false)\n |-- _c101: double (nullable = false)\n |-- _c102: double (nullable = false)\n |-- _c103: double (nullable = false)\n |-- _c104: double (nullable = false)\n |-- _c105: double (nullable = false)\n |-- _c106: double (nullable = false)\n |-- _c107: double (nullable = false)\n |-- _c108: double (nullable = false)\n |-- _c109: double (nullable = false)\n |-- _c110: double (nullable = false)\n |-- _c111: double (nullable = false)\n |-- _c112: double (nullable = false)\n |-- _c113: double (nullable = false)\n |-- _c114: double (nullable = false)\n |-- _c115: double (nullable = false)\n |-- _c116: double (nullable = false)\n |-- _c117: double (nullable = false)\n |-- _c118: double (nullable = false)\n |-- _c119: double (nullable = false)\n |-- _c120: double (nullable = false)\n |-- _c121: double (nullable = false)\n |-- _c122: double (nullable = false)\n |-- _c123: double (nullable = false)\n |-- _c124: double (nullable = false)\n |-- _c125: double (nullable = false)\n |-- _c126: double (nullable = false)\n |-- _c127: double (nullable = false)\n |-- _c128: double (nullable = false)\n |-- _c129: double (nullable = false)\n |-- _c130: double (nullable = false)\n |-- _c131: double (nullable = false)\n |-- _c132: double (nullable = false)\n |-- _c133: double (nullable = false)\n |-- _c134: double (nullable = false)\n |-- _c135: double (nullable = false)\n |-- _c136: double (nullable = false)\n |-- _c137: double (nullable = false)\n |-- _c138: double (nullable = false)\n |-- _c139: double (nullable = false)\n |-- _c140: double (nullable = false)\n |-- _c141: double (nullable = false)\n |-- _c142: double (nullable = false)\n |-- _c143: double (nullable = false)\n |-- _c144: double (nullable = false)\n |-- _c145: double (nullable = false)\n |-- _c146: double (nullable = false)\n |-- _c147: double (nullable = false)\n |-- _c148: double (nullable = false)\n |-- _c149: double (nullable = false)\n |-- _c150: double (nullable = false)\n |-- _c151: double (nullable = false)\n |-- _c152: double (nullable = false)\n |-- _c153: double (nullable = false)\n |-- _c154: double (nullable = false)\n |-- _c155: double (nullable = false)\n |-- _c156: double (nullable = false)\n |-- _c157: double (nullable = false)\n |-- _c158: double (nullable = false)\n |-- _c159: double (nullable = false)\n |-- _c160: double (nullable = false)\n |-- _c161: double (nullable = false)\n |-- _c162: double (nullable = false)\n |-- _c163: double (nullable = false)\n |-- _c164: double (nullable = false)\n |-- _c165: double (nullable = false)\n |-- _c166: double (nullable = false)\n |-- _c167: double (nullable = false)\n |-- _c168: double (nullable = false)\n |-- _c169: double (nullable = false)\n |-- _c170: double (nullable = false)\n |-- _c171: double (nullable = false)\n |-- _c172: double (nullable = false)\n |-- _c173: double (nullable = false)\n |-- _c174: double (nullable = false)\n |-- _c175: double (nullable = false)\n |-- _c176: double (nullable = false)\n |-- _c177: double (nullable = false)\n |-- _c178: double (nullable = false)\n |-- _c179: double (nullable = false)\n |-- _c180: double (nullable = false)\n |-- _c181: double (nullable = false)\n |-- _c182: double (nullable = false)\n |-- _c183: double (nullable = false)\n |-- _c184: double (nullable = false)\n |-- _c185: double (nullable = false)\n |-- _c186: double (nullable = false)\n |-- _c187: double (nullable = false)\n |-- _c188: double (nullable = false)\n |-- _c189: double (nullable = false)\n |-- _c190: double (nullable = false)\n |-- _c191: double (nullable = false)\n |-- _c192: double (nullable = false)\n |-- _c193: double (nullable = false)\n |-- _c194: double (nullable = false)\n |-- _c195: double (nullable = false)\n |-- _c196: double (nullable = false)\n |-- _c197: double (nullable = false)\n |-- _c198: double (nullable = false)\n |-- _c199: double (nullable = false)\n |-- _c200: double (nullable = false)\n |-- _c201: double (nullable = false)\n |-- _c202: double (nullable = false)\n |-- _c203: double (nullable = false)\n |-- _c204: double (nullable = false)\n |-- _c205: double (nullable = false)\n |-- _c206: double (nullable = false)\n |-- _c207: double (nullable = false)\n |-- _c208: double (nullable = false)\n |-- _c209: double (nullable = false)\n |-- _c210: double (nullable = false)\n |-- _c211: double (nullable = false)\n |-- _c212: double (nullable = false)\n |-- _c213: double (nullable = false)\n |-- _c214: double (nullable = false)\n |-- _c215: double (nullable = false)\n |-- _c216: double (nullable = false)\n |-- _c217: double (nullable = false)\n |-- _c218: double (nullable = false)\n |-- _c219: double (nullable = false)\n |-- _c220: double (nullable = false)\n |-- _c221: double (nullable = false)\n |-- _c222: double (nullable = false)\n |-- _c223: double (nullable = false)\n |-- _c224: double (nullable = false)\n |-- _c225: double (nullable = false)\n |-- _c226: double (nullable = false)\n |-- _c227: double (nullable = false)\n |-- _c228: double (nullable = false)\n |-- _c229: double (nullable = false)\n |-- _c230: double (nullable = false)\n |-- _c231: double (nullable = false)\n |-- _c232: double (nullable = false)\n |-- _c233: double (nullable = false)\n |-- _c234: double (nullable = false)\n |-- _c235: double (nullable = false)\n |-- _c236: double (nullable = false)\n |-- _c237: double (nullable = false)\n |-- _c238: double (nullable = false)\n |-- _c239: double (nullable = false)\n |-- _c240: double (nullable = false)\n |-- _c241: double (nullable = false)\n |-- _c242: double (nullable = false)\n |-- _c243: double (nullable = false)\n |-- _c244: double (nullable = false)\n |-- _c245: double (nullable = false)\n |-- _c246: double (nullable = false)\n |-- _c247: double (nullable = false)\n |-- _c248: double (nullable = false)\n |-- _c249: double (nullable = false)\n |-- _c250: double (nullable = false)\n |-- _c251: double (nullable = false)\n |-- _c252: double (nullable = false)\n |-- _c253: double (nullable = false)\n |-- _c254: double (nullable = false)\n |-- _c255: double (nullable = false)\n |-- _c256: double (nullable = false)\n |-- _c257: double (nullable = false)\n |-- _c258: double (nullable = false)\n |-- _c259: double (nullable = false)\n |-- _c260: double (nullable = false)\n |-- _c261: double (nullable = false)\n |-- _c262: double (nullable = false)\n |-- _c263: double (nullable = false)\n |-- _c264: double (nullable = false)\n |-- _c265: double (nullable = false)\n |-- _c266: double (nullable = false)\n |-- _c267: double (nullable = false)\n |-- _c268: double (nullable = false)\n |-- _c269: double (nullable = false)\n |-- _c270: double (nullable = false)\n |-- _c271: double (nullable = false)\n |-- _c272: double (nullable = false)\n |-- _c273: double (nullable = false)\n |-- _c274: double (nullable = false)\n |-- _c275: double (nullable = false)\n |-- _c276: double (nullable = false)\n |-- _c277: double (nullable = false)\n |-- _c278: double (nullable = false)\n |-- _c279: double (nullable = false)\n |-- _c280: double (nullable = false)\n |-- _c281: double (nullable = false)\n |-- _c282: double (nullable = false)\n |-- _c283: double (nullable = false)\n |-- _c284: double (nullable = false)\n |-- _c285: double (nullable = false)\n |-- _c286: double (nullable = false)\n |-- _c287: double (nullable = false)\n |-- _c288: double (nullable = false)\n |-- _c289: double (nullable = false)\n |-- _c290: double (nullable = false)\n |-- _c291: double (nullable = false)\n |-- _c292: double (nullable = false)\n |-- _c293: double (nullable = false)\n |-- _c294: double (nullable = false)\n |-- _c295: double (nullable = false)\n |-- _c296: double (nullable = false)\n |-- _c297: double (nullable = false)\n |-- _c298: double (nullable = false)\n |-- _c299: double (nullable = false)\n |-- _c300: double (nullable = false)\n |-- _c301: double (nullable = false)\n |-- _c302: double (nullable = false)\n |-- _c303: double (nullable = false)\n |-- _c304: double (nullable = false)\n |-- _c305: double (nullable = false)\n |-- _c306: double (nullable = false)\n |-- _c307: double (nullable = false)\n |-- _c308: double (nullable = false)\n |-- _c309: double (nullable = false)\n |-- _c310: double (nullable = false)\n |-- _c311: double (nullable = false)\n |-- _c312: double (nullable = false)\n |-- _c313: double (nullable = false)\n |-- _c314: double (nullable = false)\n |-- _c315: double (nullable = false)\n |-- _c316: double (nullable = false)\n |-- _c317: double (nullable = false)\n |-- _c318: double (nullable = false)\n |-- _c319: double (nullable = false)\n |-- _c320: double (nullable = false)\n |-- _c321: double (nullable = false)\n |-- _c322: double (nullable = false)\n |-- _c323: double (nullable = false)\n |-- _c324: double (nullable = false)\n |-- _c325: double (nullable = false)\n |-- _c326: double (nullable = false)\n |-- _c327: double (nullable = false)\n |-- _c328: double (nullable = false)\n |-- _c329: double (nullable = false)\n |-- _c330: double (nullable = false)\n |-- _c331: double (nullable = false)\n |-- _c332: double (nullable = false)\n |-- _c333: double (nullable = false)\n |-- _c334: double (nullable = false)\n |-- _c335: double (nullable = false)\n |-- _c336: double (nullable = false)\n |-- _c337: double (nullable = false)\n |-- _c338: double (nullable = false)\n |-- _c339: double (nullable = false)\n |-- _c340: double (nullable = false)\n |-- _c341: double (nullable = false)\n |-- _c342: double (nullable = false)\n |-- _c343: double (nullable = false)\n |-- _c344: double (nullable = false)\n |-- _c345: double (nullable = false)\n |-- _c346: double (nullable = false)\n |-- _c347: double (nullable = false)\n |-- _c348: double (nullable = false)\n |-- _c349: double (nullable = false)\n |-- _c350: double (nullable = false)\n |-- _c351: double (nullable = false)\n |-- _c352: double (nullable = false)\n |-- _c353: double (nullable = false)\n |-- _c354: double (nullable = false)\n |-- _c355: double (nullable = false)\n |-- _c356: double (nullable = false)\n |-- _c357: double (nullable = false)\n |-- _c358: double (nullable = false)\n |-- _c359: double (nullable = false)\n |-- _c360: double (nullable = false)\n |-- _c361: double (nullable = false)\n |-- _c362: double (nullable = false)\n |-- _c363: double (nullable = false)\n |-- _c364: double (nullable = false)\n |-- _c365: double (nullable = false)\n |-- _c366: double (nullable = false)\n |-- _c367: double (nullable = false)\n |-- _c368: double (nullable = false)\n |-- _c369: double (nullable = false)\n |-- _c370: double (nullable = false)\n |-- _c371: double (nullable = false)\n |-- _c372: double (nullable = false)\n |-- _c373: double (nullable = false)\n |-- _c374: double (nullable = false)\n |-- _c375: double (nullable = false)\n |-- _c376: double (nullable = false)\n |-- _c377: double (nullable = false)\n |-- _c378: double (nullable = false)\n |-- _c379: double (nullable = false)\n |-- _c380: double (nullable = false)\n |-- _c381: double (nullable = false)\n |-- _c382: double (nullable = false)\n |-- _c383: double (nullable = false)\n |-- _c384: double (nullable = false)\n |-- _c385: double (nullable = false)\n |-- _c386: double (nullable = false)\n |-- _c387: double (nullable = false)\n |-- _c388: double (nullable = false)\n |-- _c389: double (nullable = false)\n |-- _c390: double (nullable = false)\n |-- _c391: double (nullable = false)\n |-- _c392: double (nullable = false)\n |-- _c393: double (nullable = false)\n |-- _c394: double (nullable = false)\n |-- _c395: double (nullable = false)\n |-- _c396: double (nullable = false)\n |-- _c397: double (nullable = false)\n |-- _c398: double (nullable = false)\n |-- _c399: double (nullable = false)\n |-- _c400: double (nullable = false)\n |-- _c401: double (nullable = false)\n |-- _c402: double (nullable = false)\n |-- _c403: double (nullable = false)\n |-- _c404: double (nullable = false)\n |-- _c405: double (nullable = false)\n |-- _c406: double (nullable = false)\n |-- _c407: double (nullable = false)\n |-- _c408: double (nullable = false)\n |-- _c409: double (nullable = false)\n |-- _c410: double (nullable = false)\n |-- _c411: double (nullable = false)\n |-- _c412: double (nullable = false)\n |-- _c413: double (nullable = false)\n |-- _c414: double (nullable = false)\n |-- _c415: double (nullable = false)\n |-- _c416: double (nullable = false)\n |-- _c417: double (nullable = false)\n |-- _c418: double (nullable = false)\n |-- _c419: double (nullable = false)\n |-- _c420: double (nullable = false)\n |-- _c421: double (nullable = false)\n |-- _c422: double (nullable = false)\n |-- _c423: double (nullable = false)\n |-- _c424: double (nullable = false)\n |-- _c425: double (nullable = false)\n |-- _c426: double (nullable = false)\n |-- _c427: double (nullable = false)\n |-- _c428: double (nullable = false)\n |-- _c429: double (nullable = false)\n |-- _c430: double (nullable = false)\n |-- _c431: double (nullable = false)\n |-- _c432: double (nullable = false)\n |-- _c433: double (nullable = false)\n |-- _c434: double (nullable = false)\n |-- _c435: double (nullable = false)\n |-- _c436: double (nullable = false)\n |-- _c437: double (nullable = false)\n |-- _c438: double (nullable = false)\n |-- _c439: double (nullable = false)\n |-- _c440: double (nullable = false)\n |-- _c441: double (nullable = false)\n |-- _c442: double (nullable = false)\n |-- _c443: double (nullable = false)\n |-- _c444: double (nullable = false)\n |-- _c445: double (nullable = false)\n |-- _c446: double (nullable = false)\n |-- _c447: double (nullable = false)\n |-- _c448: double (nullable = false)\n |-- _c449: double (nullable = false)\n |-- _c450: double (nullable = false)\n |-- _c451: double (nullable = false)\n |-- _c452: double (nullable = false)\n |-- _c453: double (nullable = false)\n |-- _c454: double (nullable = false)\n |-- _c455: double (nullable = false)\n |-- _c456: double (nullable = false)\n |-- _c457: double (nullable = false)\n |-- _c458: double (nullable = false)\n |-- _c459: double (nullable = false)\n |-- _c460: double (nullable = false)\n |-- _c461: double (nullable = false)\n |-- _c462: double (nullable = false)\n |-- _c463: double (nullable = false)\n |-- _c464: double (nullable = false)\n |-- _c465: double (nullable = false)\n |-- _c466: double (nullable = false)\n |-- _c467: double (nullable = false)\n |-- _c468: double (nullable = false)\n |-- _c469: double (nullable = false)\n |-- _c470: double (nullable = false)\n |-- _c471: double (nullable = false)\n |-- _c472: double (nullable = false)\n |-- _c473: double (nullable = false)\n |-- _c474: double (nullable = false)\n |-- _c475: double (nullable = false)\n |-- _c476: double (nullable = false)\n |-- _c477: double (nullable = false)\n |-- _c478: double (nullable = false)\n |-- _c479: double (nullable = false)\n |-- _c480: double (nullable = false)\n |-- _c481: double (nullable = false)\n |-- _c482: double (nullable = false)\n |-- _c483: double (nullable = false)\n |-- _c484: double (nullable = false)\n |-- _c485: double (nullable = false)\n |-- _c486: double (nullable = false)\n |-- _c487: double (nullable = false)\n |-- _c488: double (nullable = false)\n |-- _c489: double (nullable = false)\n |-- _c490: double (nullable = false)\n |-- _c491: double (nullable = false)\n |-- _c492: double (nullable = false)\n |-- _c493: double (nullable = false)\n |-- _c494: double (nullable = false)\n |-- _c495: double (nullable = false)\n |-- _c496: double (nullable = false)\n |-- _c497: double (nullable = false)\n |-- _c498: double (nullable = false)\n |-- _c499: double (nullable = false)\n |-- _c500: double (nullable = false)\n |-- _c501: double (nullable = false)\n |-- _c502: double (nullable = false)\n |-- _c503: double (nullable = false)\n |-- _c504: double (nullable = false)\n |-- _c505: double (nullable = false)\n |-- _c506: double (nullable = false)\n |-- _c507: double (nullable = false)\n |-- _c508: double (nullable = false)\n |-- _c509: double (nullable = false)\n |-- _c510: double (nullable = false)\n |-- _c511: double (nullable = false)\n |-- _c512: double (nullable = false)\n |-- _c513: double (nullable = false)\n |-- _c514: double (nullable = false)\n |-- _c515: double (nullable = false)\n |-- _c516: double (nullable = false)\n |-- _c517: double (nullable = false)\n |-- _c518: double (nullable = false)\n |-- _c519: double (nullable = false)\n |-- _c520: double (nullable = false)\n |-- _c521: double (nullable = false)\n |-- _c522: double (nullable = false)\n |-- _c523: double (nullable = false)\n |-- _c524: double (nullable = false)\n |-- _c525: double (nullable = false)\n |-- _c526: double (nullable = false)\n |-- _c527: double (nullable = false)\n |-- _c528: double (nullable = false)\n |-- _c529: double (nullable = false)\n |-- _c530: double (nullable = false)\n |-- _c531: double (nullable = false)\n |-- _c532: double (nullable = false)\n |-- _c533: double (nullable = false)\n |-- _c534: double (nullable = false)\n |-- _c535: double (nullable = false)\n |-- _c536: double (nullable = false)\n |-- _c537: double (nullable = false)\n |-- _c538: double (nullable = false)\n |-- _c539: double (nullable = false)\n |-- _c540: double (nullable = false)\n |-- _c541: double (nullable = false)\n |-- _c542: double (nullable = false)\n |-- _c543: double (nullable = false)\n |-- _c544: double (nullable = false)\n |-- _c545: double (nullable = false)\n |-- _c546: double (nullable = false)\n |-- _c547: double (nullable = false)\n |-- _c548: double (nullable = false)\n |-- _c549: double (nullable = false)\n |-- _c550: double (nullable = false)\n |-- _c551: double (nullable = false)\n |-- _c552: double (nullable = false)\n |-- _c553: double (nullable = false)\n |-- _c554: double (nullable = false)\n |-- _c555: double (nullable = false)\n |-- _c556: double (nullable = false)\n |-- _c557: double (nullable = false)\n |-- _c558: double (nullable = false)\n |-- _c559: double (nullable = false)\n |-- _c560: double (nullable = false)\n |-- _c561: double (nullable = false)\n |-- _c562: double (nullable = false)\n |-- _c563: double (nullable = false)\n |-- _c564: double (nullable = false)\n |-- _c565: double (nullable = false)\n |-- _c566: double (nullable = false)\n |-- _c567: double (nullable = false)\n |-- _c568: double (nullable = false)\n |-- _c569: double (nullable = false)\n |-- _c570: double (nullable = false)\n |-- _c571: double (nullable = false)\n |-- _c572: double (nullable = false)\n |-- _c573: double (nullable = false)\n |-- _c574: double (nullable = false)\n |-- _c575: double (nullable = false)\n |-- timeId: long (nullable = true)\n |-- patId: long (nullable = true)\n |-- _c16: double (nullable = false)\n |-- _c17: double (nullable = false)\n |-- _c18: double (nullable = false)\n |-- _c19: double (nullable = false)\n |-- _c20: double (nullable = false)\n |-- _c21: double (nullable = false)\n |-- _c22: double (nullable = false)\n |-- _c23: double (nullable = false)\n |-- _c24: double (nullable = false)\n |-- _c25: double (nullable = false)\n |-- _c26: double (nullable = false)\n |-- _c27: double (nullable = false)\n |-- _c28: double (nullable = false)\n |-- _c29: double (nullable = false)\n |-- features: struct (nullable = true)\n |    |-- type: byte (nullable = false)\n |    |-- size: integer (nullable = true)\n |    |-- indices: array (nullable = true)\n |    |    |-- element: integer (containsNull = false)\n |    |-- values: array (nullable = true)\n |    |    |-- element: double (containsNull = false)\n |-- normFeatures: struct (nullable = true)\n |    |-- type: byte (nullable = false)\n |    |-- size: integer (nullable = true)\n |    |-- indices: array (nullable = true)\n |    |    |-- element: integer (containsNull = false)\n |    |-- values: array (nullable = true)\n |    |    |-- element: double (containsNull = false)\n |-- pcaFeatures: struct (nullable = true)\n |    |-- type: byte (nullable = false)\n |    |-- size: integer (nullable = true)\n |    |-- indices: array (nullable = true)\n |    |    |-- element: integer (containsNull = false)\n |    |-- values: array (nullable = true)\n |    |    |-- element: double (containsNull = false)\n |-- prediction: integer (nullable = true)\n\n"
                }
            ], 
            "source": "rddData1.printSchema()"
        }, 
        {
            "execution_count": 6, 
            "cell_type": "code", 
            "metadata": {}, 
            "outputs": [
                {
                    "execution_count": 6, 
                    "metadata": {}, 
                    "data": {
                        "text/plain": "org.apache.spark.sql.DataFrame"
                    }, 
                    "output_type": "execute_result"
                }
            ], 
            "source": "rddData1.getClass().getName()"
        }, 
        {
            "execution_count": 11, 
            "cell_type": "code", 
            "metadata": {}, 
            "outputs": [
                {
                    "execution_count": 11, 
                    "metadata": {}, 
                    "data": {
                        "text/plain": "org.apache.spark.sql.DataFrame"
                    }, 
                    "output_type": "execute_result"
                }
            ], 
            "source": "val data = rddData1.select(\"patId\",\"timeId\",\"pcaFeatures.values\")\ndata.getClass().getName()"
        }, 
        {
            "execution_count": 12, 
            "cell_type": "code", 
            "metadata": {}, 
            "outputs": [
                {
                    "execution_count": 12, 
                    "metadata": {}, 
                    "data": {
                        "text/plain": "Array([8,51539607599,WrappedArray(-0.9098423276319171, 0.17967521698646566, 0.1799349841365052, 0.02851783056751181, 0.3163473144171156, -0.04400380243495724, 0.05767453469298045, -0.016739721217131336, -0.014309861117517116, 0.021143671612879892, -0.01454921591093109, -0.011290006736262827, 0.002218696207652105, 0.0038111214847238047, 0.0021913003025874514, 0.0021238330509563653, 3.4632224237347826E-4, 0.0032955289349657435, 4.6046401180232767E-4, 9.60014556074248E-4, -0.0027702403225926034, -0.003915352022306619, 0.0041263917707006405, -0.0016435594690600308, 6.200991822561587E-4, 3.11159828833674E-4, -0.0012636830932566314, -2.612085328511236E-5, -7.681499383602339E-4, 1.6634486902690447E-4, 0.0030944360134710835, 2.054774178787242E-4, -9.8359..."
                    }, 
                    "output_type": "execute_result"
                }
            ], 
            "source": "data.take(2)"
        }, 
        {
            "execution_count": 13, 
            "cell_type": "code", 
            "metadata": {}, 
            "outputs": [
                {
                    "output_type": "stream", 
                    "name": "stdout", 
                    "text": "+-----+------------+--------------------+\n|patId|      timeId|              values|\n+-----+------------+--------------------+\n|    8| 51539607599|[-0.9098423276319...|\n|    8| 51539607799|[0.30687573546822...|\n|    8| 51539607999|[0.30677917205206...|\n|    8| 51539608199|[-0.9235219336051...|\n|    8| 51539608399|[-0.9189231354004...|\n|    8| 51539608599|[-0.9089621902729...|\n|    2|223338299534|[-0.9439916723041...|\n|    2|223338299734|[-0.9233821644821...|\n|    2|223338299934|[-0.9224326848826...|\n|    9|  8589934618|[-0.9442528861426...|\n|    9|  8589934818|[-0.9459482269488...|\n|    9|  8589935018|[-0.9417275977621...|\n|    9|  8589935218|[-0.9419411871315...|\n|    9|  8589935418|[-0.9438179799781...|\n|    9|197568495765|[-0.9445425295965...|\n|    9|197568495965|[-0.9424353536464...|\n|    9|197568496165|[-0.9456928020352...|\n|    9|197568496365|[-0.9460785868472...|\n|    9|197568496565|[-0.9467602222409...|\n|    9|274877907080|[-0.9443153705508...|\n+-----+------------+--------------------+\nonly showing top 20 rows\n\n"
                }
            ], 
            "source": "data.show()"
        }, 
        {
            "execution_count": 14, 
            "cell_type": "code", 
            "metadata": {}, 
            "outputs": [
                {
                    "execution_count": 14, 
                    "metadata": {}, 
                    "data": {
                        "text/plain": "org.apache.spark.sql.DataFrame"
                    }, 
                    "output_type": "execute_result"
                }
            ], 
            "source": "val data1 = rddData1.select(\"patId\",\"timeId\",\"pcaFeatures.values\")\ndata1.getClass().getName()"
        }, 
        {
            "execution_count": 15, 
            "cell_type": "code", 
            "metadata": {}, 
            "outputs": [
                {
                    "output_type": "stream", 
                    "name": "stdout", 
                    "text": "root\n |-- patId: long (nullable = true)\n |-- timeId: long (nullable = true)\n |-- values: array (nullable = true)\n |    |-- element: double (containsNull = false)\n\n"
                }
            ], 
            "source": "data1.printSchema()"
        }, 
        {
            "execution_count": 16, 
            "cell_type": "code", 
            "metadata": {}, 
            "outputs": [
                {
                    "output_type": "stream", 
                    "name": "stdout", 
                    "text": "+-----+------------+--------------------+\n|patId|      timeId|              values|\n+-----+------------+--------------------+\n|    8| 51539607599|[-0.9098423276319...|\n|    8| 51539607799|[0.30687573546822...|\n|    8| 51539607999|[0.30677917205206...|\n|    8| 51539608199|[-0.9235219336051...|\n|    8| 51539608399|[-0.9189231354004...|\n|    8| 51539608599|[-0.9089621902729...|\n|    2|223338299534|[-0.9439916723041...|\n|    2|223338299734|[-0.9233821644821...|\n|    2|223338299934|[-0.9224326848826...|\n|    9|  8589934618|[-0.9442528861426...|\n|    9|  8589934818|[-0.9459482269488...|\n|    9|  8589935018|[-0.9417275977621...|\n|    9|  8589935218|[-0.9419411871315...|\n|    9|  8589935418|[-0.9438179799781...|\n|    9|197568495765|[-0.9445425295965...|\n|    9|197568495965|[-0.9424353536464...|\n|    9|197568496165|[-0.9456928020352...|\n|    9|197568496365|[-0.9460785868472...|\n|    9|197568496565|[-0.9467602222409...|\n|    9|274877907080|[-0.9443153705508...|\n+-----+------------+--------------------+\nonly showing top 20 rows\n\n"
                }
            ], 
            "source": "data1.show()"
        }, 
        {
            "execution_count": 17, 
            "cell_type": "code", 
            "metadata": {}, 
            "outputs": [
                {
                    "execution_count": 17, 
                    "metadata": {}, 
                    "data": {
                        "text/plain": "247625"
                    }, 
                    "output_type": "execute_result"
                }
            ], 
            "source": "data1.count()"
        }, 
        {
            "execution_count": 18, 
            "cell_type": "code", 
            "metadata": {}, 
            "outputs": [
                {
                    "output_type": "stream", 
                    "name": "stdout", 
                    "text": "org.apache.spark.sql.catalyst.expressions.GenericRowWithSchema\norg.apache.spark.sql.catalyst.expressions.GenericRowWithSchema\n"
                }
            ], 
            "source": "data1.map(r =>  r.getClass().getName()).take(2).foreach(println)"
        }, 
        {
            "execution_count": 19, 
            "cell_type": "code", 
            "metadata": {}, 
            "outputs": [
                {
                    "execution_count": 19, 
                    "metadata": {}, 
                    "data": {
                        "text/plain": "Array([8,51539607599,WrappedArray(-0.9098423276319171, 0.17967521698646566, 0.1799349841365052, 0.02851783056751181, 0.3163473144171156, -0.04400380243495724, 0.05767453469298045, -0.016739721217131336, -0.014309861117517116, 0.021143671612879892, -0.01454921591093109, -0.011290006736262827, 0.002218696207652105, 0.0038111214847238047, 0.0021913003025874514, 0.0021238330509563653, 3.4632224237347826E-4, 0.0032955289349657435, 4.6046401180232767E-4, 9.60014556074248E-4, -0.0027702403225926034, -0.003915352022306619, 0.0041263917707006405, -0.0016435594690600308, 6.200991822561587E-4, 3.11159828833674E-4, -0.0012636830932566314, -2.612085328511236E-5, -7.681499383602339E-4, 1.6634486902690447E-4, 0.0030944360134710835, 2.054774178787242E-4, -9.8359..."
                    }, 
                    "output_type": "execute_result"
                }
            ], 
            "source": "val data1RDD=data1.rdd\ndata1RDD.take(2)"
        }, 
        {
            "execution_count": 21, 
            "cell_type": "code", 
            "metadata": {}, 
            "outputs": [], 
            "source": "import org.apache.spark.sql.types.DoubleType\nval data1Double = data1.map(r=>r.getList(2))"
        }, 
        {
            "execution_count": 22, 
            "cell_type": "code", 
            "metadata": {}, 
            "outputs": [
                {
                    "execution_count": 22, 
                    "metadata": {}, 
                    "data": {
                        "text/plain": "org.apache.spark.rdd.MapPartitionsRDD"
                    }, 
                    "output_type": "execute_result"
                }
            ], 
            "source": "data1Double.getClass.getName()"
        }, 
        {
            "execution_count": 23, 
            "cell_type": "code", 
            "metadata": {}, 
            "outputs": [
                {
                    "execution_count": 23, 
                    "metadata": {}, 
                    "data": {
                        "text/plain": "Array([-0.9098423276319171, 0.17967521698646566, 0.1799349841365052, 0.02851783056751181, 0.3163473144171156, -0.04400380243495724, 0.05767453469298045, -0.016739721217131336, -0.014309861117517116, 0.021143671612879892, -0.01454921591093109, -0.011290006736262827, 0.002218696207652105, 0.0038111214847238047, 0.0021913003025874514, 0.0021238330509563653, 3.4632224237347826E-4, 0.0032955289349657435, 4.6046401180232767E-4, 9.60014556074248E-4, -0.0027702403225926034, -0.003915352022306619, 0.0041263917707006405, -0.0016435594690600308, 6.200991822561587E-4, 3.11159828833674E-4, -0.0012636830932566314, -2.612085328511236E-5, -7.681499383602339E-4, 1.6634486902690447E-4, 0.0030944360134710835, 2.054774178787242E-4, -9.835976226965131E-5, 1.4502731634..."
                    }, 
                    "output_type": "execute_result"
                }
            ], 
            "source": "data1Double.take(2)"
        }, 
        {
            "execution_count": 24, 
            "cell_type": "code", 
            "metadata": {}, 
            "outputs": [], 
            "source": "import org.apache.spark.sql.functions.explode\nval data2 = data1.select(explode(data1(\"values\")).alias(\"b_columns\"))"
        }, 
        {
            "execution_count": 25, 
            "cell_type": "code", 
            "metadata": {}, 
            "outputs": [
                {
                    "output_type": "stream", 
                    "name": "stdout", 
                    "text": "+--------------------+\n|           b_columns|\n+--------------------+\n| -0.9098423276319171|\n| 0.17967521698646566|\n|  0.1799349841365052|\n| 0.02851783056751181|\n|  0.3163473144171156|\n|-0.04400380243495724|\n| 0.05767453469298045|\n|-0.01673972121713...|\n|-0.01430986111751...|\n|0.021143671612879892|\n|-0.01454921591093109|\n|-0.01129000673626...|\n|0.002218696207652105|\n|0.003811121484723...|\n|0.002191300302587...|\n|0.002123833050956...|\n|3.463222423734782...|\n|0.003295528934965...|\n|4.604640118023276...|\n| 9.60014556074248E-4|\n+--------------------+\nonly showing top 20 rows\n\n"
                }
            ], 
            "source": "data2.show()"
        }, 
        {
            "execution_count": 26, 
            "cell_type": "code", 
            "metadata": {}, 
            "outputs": [
                {
                    "execution_count": 26, 
                    "metadata": {}, 
                    "data": {
                        "text/plain": "Array([-0.9098423276319171], [0.17967521698646566], [0.1799349841365052], [0.02851783056751181], [0.3163473144171156])"
                    }, 
                    "output_type": "execute_result"
                }
            ], 
            "source": "val data3=data2.rdd\ndata3.take(5)"
        }, 
        {
            "execution_count": 27, 
            "cell_type": "code", 
            "metadata": {}, 
            "outputs": [
                {
                    "execution_count": 27, 
                    "metadata": {}, 
                    "data": {
                        "text/plain": "24762500"
                    }, 
                    "output_type": "execute_result"
                }
            ], 
            "source": "data3.count()"
        }, 
        {
            "execution_count": 28, 
            "cell_type": "code", 
            "metadata": {}, 
            "outputs": [
                {
                    "execution_count": 28, 
                    "metadata": {}, 
                    "data": {
                        "text/plain": "org.apache.spark.rdd.MapPartitionsRDD"
                    }, 
                    "output_type": "execute_result"
                }
            ], 
            "source": "data3.getClass().getName()"
        }, 
        {
            "execution_count": 29, 
            "cell_type": "code", 
            "metadata": {}, 
            "outputs": [
                {
                    "output_type": "stream", 
                    "name": "stdout", 
                    "text": "Using cached version of spark-tsne-core_2.10-0.1-SNAPSHOT.jar\n"
                }
            ], 
            "source": "%AddJar  https://github.com/kartha01/spark-tsne/raw/master/bin/spark-tsne-core_2.10-0.1-SNAPSHOT.jar"
        }, 
        {
            "execution_count": 30, 
            "cell_type": "code", 
            "metadata": {}, 
            "outputs": [], 
            "source": "import com.github.saurfang.spark.tsne.impl._\nimport com.github.saurfang.spark.tsne.tree.SPTree\nimport org.apache.spark.mllib.linalg.Vectors\nimport org.apache.spark.mllib.linalg.distributed.RowMatrix\nimport org.apache.spark.mllib.stat.{MultivariateStatisticalSummary, Statistics}"
        }, 
        {
            "execution_count": 31, 
            "cell_type": "code", 
            "metadata": {}, 
            "outputs": [
                {
                    "execution_count": 31, 
                    "metadata": {}, 
                    "data": {
                        "text/plain": "org.apache.spark.rdd.MapPartitionsRDD"
                    }, 
                    "output_type": "execute_result"
                }
            ], 
            "source": "val data3doubVals = data3.map{ row =>   row.getDouble(0) }\ndata3doubVals.getClass().getName()"
        }, 
        {
            "execution_count": 32, 
            "cell_type": "code", 
            "metadata": {}, 
            "outputs": [
                {
                    "execution_count": 32, 
                    "metadata": {}, 
                    "data": {
                        "text/plain": "Array(-0.9098423276319171, 0.17967521698646566)"
                    }, 
                    "output_type": "execute_result"
                }
            ], 
            "source": "data3doubVals.take(2)"
        }, 
        {
            "execution_count": 33, 
            "cell_type": "code", 
            "metadata": {}, 
            "outputs": [], 
            "source": "val mean = data3doubVals.mean()\nval std = data3doubVals.stdev()"
        }, 
        {
            "execution_count": 34, 
            "cell_type": "code", 
            "metadata": {}, 
            "outputs": [
                {
                    "execution_count": 34, 
                    "metadata": {}, 
                    "data": {
                        "text/plain": "-0.003860210745307729"
                    }, 
                    "output_type": "execute_result"
                }
            ], 
            "source": "mean //1 patient had -1384.4681246138402"
        }, 
        {
            "execution_count": 36, 
            "cell_type": "code", 
            "metadata": {}, 
            "outputs": [
                {
                    "execution_count": 36, 
                    "metadata": {}, 
                    "data": {
                        "text/plain": "0.09941073618862384"
                    }, 
                    "output_type": "execute_result"
                }
            ], 
            "source": "std //7 patient had 15709.650284532287"
        }, 
        {
            "execution_count": 39, 
            "cell_type": "code", 
            "metadata": {}, 
            "outputs": [
                {
                    "execution_count": 39, 
                    "metadata": {}, 
                    "data": {
                        "text/plain": "org.apache.spark.sql.DataFrame"
                    }, 
                    "output_type": "execute_result"
                }
            ], 
            "source": "data1.getClass().getName()"
        }, 
        {
            "execution_count": 40, 
            "cell_type": "code", 
            "metadata": {}, 
            "outputs": [
                {
                    "execution_count": 40, 
                    "metadata": {}, 
                    "data": {
                        "text/plain": "[8,51539607599,WrappedArray(-0.9098423276319171, 0.17967521698646566, 0.1799349841365052, 0.02851783056751181, 0.3163473144171156, -0.04400380243495724, 0.05767453469298045, -0.016739721217131336, -0.014309861117517116, 0.021143671612879892, -0.01454921591093109, -0.011290006736262827, 0.002218696207652105, 0.0038111214847238047, 0.0021913003025874514, 0.0021238330509563653, 3.4632224237347826E-4, 0.0032955289349657435, 4.6046401180232767E-4, 9.60014556074248E-4, -0.0027702403225926034, -0.003915352022306619, 0.0041263917707006405, -0.0016435594690600308, 6.200991822561587E-4, 3.11159828833674E-4, -0.0012636830932566314, -2.612085328511236E-5, -7.681499383602339E-4, 1.6634486902690447E-4, 0.0030944360134710835, 2.054774178787242E-4, -9.835976226965131E-..."
                    }, 
                    "output_type": "execute_result"
                }
            ], 
            "source": "data1.head()"
        }, 
        {
            "execution_count": 42, 
            "cell_type": "code", 
            "metadata": {}, 
            "outputs": [
                {
                    "execution_count": 42, 
                    "metadata": {}, 
                    "data": {
                        "text/plain": "Array([8,51539607599,WrappedArray(-0.9098423276319171, 0.17967521698646566, 0.1799349841365052, 0.02851783056751181, 0.3163473144171156, -0.04400380243495724, 0.05767453469298045, -0.016739721217131336, -0.014309861117517116, 0.021143671612879892, -0.01454921591093109, -0.011290006736262827, 0.002218696207652105, 0.0038111214847238047, 0.0021913003025874514, 0.0021238330509563653, 3.4632224237347826E-4, 0.0032955289349657435, 4.6046401180232767E-4, 9.60014556074248E-4, -0.0027702403225926034, -0.003915352022306619, 0.0041263917707006405, -0.0016435594690600308, 6.200991822561587E-4, 3.11159828833674E-4, -0.0012636830932566314, -2.612085328511236E-5, -7.681499383602339E-4, 1.6634486902690447E-4, 0.0030944360134710835, 2.054774178787242E-4, -9.8359..."
                    }, 
                    "output_type": "execute_result"
                }
            ], 
            "source": "data1RDD.take(2)"
        }, 
        {
            "execution_count": 44, 
            "cell_type": "code", 
            "metadata": {
                "collapsed": true
            }, 
            "outputs": [], 
            "source": "val data1DoubleWithIdx=data1Double.zipWithIndex()"
        }, 
        {
            "execution_count": 45, 
            "cell_type": "code", 
            "metadata": {}, 
            "outputs": [
                {
                    "output_type": "stream", 
                    "name": "stdout", 
                    "text": "([-0.9098423276319171, 0.17967521698646566, 0.1799349841365052, 0.02851783056751181, 0.3163473144171156, -0.04400380243495724, 0.05767453469298045, -0.016739721217131336, -0.014309861117517116, 0.021143671612879892, -0.01454921591093109, -0.011290006736262827, 0.002218696207652105, 0.0038111214847238047, 0.0021913003025874514, 0.0021238330509563653, 3.4632224237347826E-4, 0.0032955289349657435, 4.6046401180232767E-4, 9.60014556074248E-4, -0.0027702403225926034, -0.003915352022306619, 0.0041263917707006405, -0.0016435594690600308, 6.200991822561587E-4, 3.11159828833674E-4, -0.0012636830932566314, -2.612085328511236E-5, -7.681499383602339E-4, 1.6634486902690447E-4, 0.0030944360134710835, 2.054774178787242E-4, -9.835976226965131E-5, 1.450273163456544E-4, 3.52096499854943E-4, -6.495824260805045E-5, -6.278612860355946E-5, 2.7671927057683603E-4, 1.9263843362681395E-4, 3.847816136232204E-4, 9.957134470962197E-6, 2.726578840267983E-5, -3.41546096897113E-5, -0.0012894770256013047, -0.0014886707855298774, -0.001691388614803593, 3.76158207887209E-4, -1.2000587023406729E-4, -1.074023879551683E-5, -3.5716064767494416E-5, -7.73791747080999E-6, -1.4598494098904354E-5, 1.1316152579427054E-5, 3.794081263684355E-5, 2.2823060119599487E-4, -2.969217648837249E-4, -7.147650483257102E-5, -1.0504501182275623E-4, -7.232984079593291E-5, 4.5759570215012096E-4, 1.0932348934194425E-5, -1.6722224928204775E-5, -3.341256470939434E-5, 2.2199450799302074E-4, 1.149089233020114E-5, 4.6940078736443446E-5, -9.500454317229711E-6, 3.604131510557192E-6, -4.7321832834677985E-4, -8.431716997744306E-6, 6.581717561514376E-5, 7.75317120022374E-5, 3.272475775698001E-4, 1.6147315299030562E-4, -1.541436663730316E-4, -1.4077245640711214E-4, 1.2218347735637073E-4, -2.2252760704194038E-4, 9.088168349774959E-7, -2.830878754118917E-5, 6.067183536105312E-5, -3.678169681006533E-5, -1.8349301329888571E-4, -1.0705556441541505E-4, -1.8097342771098988E-4, 9.939330111964302E-5, -1.1600144033574133E-4, 4.08708839419241E-5, 8.133120184588272E-6, 4.049015482868569E-5, -1.994515219527073E-5, -8.317833087759733E-5, -7.768228105398527E-5, 3.6800510898059434E-5, 5.4307540953241396E-5, -9.441045259255555E-6, -6.0239949625100327E-5, 7.486115565572414E-5, -5.6859684852732906E-5, -1.4190361803043437E-4],0)\n([0.3068757354682231, -0.09411983459804361, -0.05229050563910122, 0.03077621026724064, 0.9349030296809441, -0.08266363759669403, 0.0772702720064087, -0.023037412924630678, -0.010923420205141195, 0.01319890103410631, 6.998625222150351E-4, -0.0057880341313663606, 0.0023439856184892605, 0.001422172249165615, 0.0014761184617929455, -1.8988619673741388E-4, 8.895340475046459E-4, 1.3651536876323466E-4, 3.0277052192759837E-4, -0.038702035341680124, 9.344240125092772E-4, -4.2871388862737774E-4, 8.43124635174062E-4, 2.0729390881762383E-4, 1.692447837860288E-4, -2.0070908385647125E-4, -1.8629553780204318E-5, -2.322987263590284E-4, -6.941549106689387E-4, 0.026532537730027766, -9.948359811214108E-5, -3.571639030293266E-6, -0.010470121643831092, 7.917189625802235E-6, -0.03575181617685076, 2.347842588654762E-4, -0.022717192490518436, 2.9444358270048267E-5, 1.4689441159324478E-6, 1.5404662756922827E-4, -0.033139891916381774, 0.017450141397858603, 0.0013335648584056558, -1.0485968791849514E-4, 2.515623247633182E-5, -1.3951817208877258E-4, -1.3228031205197192E-5, -1.8792692519067555E-4, 0.006883615304297731, -4.28976295894621E-5, -0.002256046386360952, -0.0012938629167029495, -0.0017806558682171552, 3.7078238040356476E-5, 7.184951236749394E-6, -1.2684995342367788E-5, -4.837165938842464E-6, 3.6823599477634793E-6, -5.338056335315699E-5, -1.8807704343077228E-5, 5.22462088251663E-6, -8.863984281260293E-6, -1.56634045599644E-5, -1.7258322758823997E-5, 7.032332307958526E-4, -1.7682974662634754E-4, -1.5064003963322428E-4, -4.469283949025968E-6, 4.824877131694161E-6, 2.15147663180028E-4, -6.615810235159595E-6, 2.740471972142049E-6, -9.828093431146081E-6, -3.078855305466158E-6, 1.2611334031373833E-6, 2.4452559607101186E-6, -8.397407982413792E-6, -1.3435767095174263E-5, 7.169329498805561E-6, 5.1171599912953055E-6, -3.2727378717868257E-7, -6.3279358364946715E-6, -9.517334317960098E-8, 2.426987085334474E-6, -3.073110723803953E-6, 2.8899540385394962E-6, 3.308589797282841E-6, -9.862617206219537E-8, -5.8341494055001E-7, 4.802453735551902E-6, -1.5716289218024935E-6, 2.2872237842278398E-6, 3.2245569056445195E-6, 4.448575333200136E-6, -1.887276259760413E-7, -5.013346512828578E-6, 1.6666564628061216E-6, 2.0964619517081986E-6, 1.8272173410981112E-6, 4.119491470143345E-6],1)\n"
                }
            ], 
            "source": "data1DoubleWithIdx.take(2).foreach(println)"
        }, 
        {
            "execution_count": 46, 
            "cell_type": "code", 
            "metadata": {}, 
            "outputs": [], 
            "source": "//val scaledData = rk3.map(x => Vectors.dense(x._1.toArray().map(v => ((Double.valueOf(v+\"\")) - mean) / std))).cache()\n//val scaledData = rk3.map(x => Vectors.dense(x._1.toArray().map(v => (new java.).cache()\nval scaledData = data1DoubleWithIdx.map(x => Vectors.dense(x._1.toArray().map(v => (v.asInstanceOf[Double] - mean) / std))).cache()"
        }, 
        {
            "execution_count": 47, 
            "cell_type": "code", 
            "metadata": {}, 
            "outputs": [
                {
                    "output_type": "stream", 
                    "name": "stdout", 
                    "text": "[-9.11352386695519,1.846233462988643,1.8488465323612169,0.3256996432597061,3.221055767606986,-0.40381545523896223,0.6189949677219065,-0.12955854634640043,-0.10511591376189006,0.2515209454916899,-0.10752364961206842,-0.07473836605392058,0.06114940081950102,0.07716804566737943,0.06087381785819317,0.06019514617525671,0.04231467494315354,0.0719815580753374,0.043462858467438824,0.04848797510397659,0.010964312955564425,-5.546813061947728E-4,0.08033943638496387,0.022297906254730694,0.04506867265385563,0.041960966532091304,0.026119187439919932,0.03856816717208231,0.03110389204925069,0.0405042329300788,0.0699587089424922,0.04089787802669662,0.03784149607241887,0.040289793791022405,0.04237275979095617,0.03817749116653249,0.03819934106009298,0.04161451946231516,0.040768727144768244,0.04270154836069637,0.03893108559658345,0.0391051981179803,0.038487353401733045,0.02585971916382014,0.023855974220712402,0.021816779692577382,0.042614803145173075,0.03762375190519589,0.03872288501322586,0.038471646294657394,0.03875308619108466,0.038684073759519155,0.038944756334378675,0.039212581129548674,0.041126758570082786,0.035844106150294985,0.03811192216991876,0.03777424730423331,0.03810333822822314,0.04343400534993686,0.03894089554770767,0.03866271056565576,0.038494817836750496,0.041064027989442656,0.038946514089702435,0.03930310722808318,0.038735356347065854,0.03886717898846468,0.034070690418531904,0.038746107070382674,0.03949299714945831,0.03961083690033658,0.042122797631557275,0.04045522699547476,0.037280350403026234,0.03741485509013114,0.04006000131724031,0.03659245749235353,0.03884006607512235,0.03854615813824993,0.03944123875342019,0.038460926808177094,0.036985117231528884,0.037754022601452275,0.03701046243753475,0.03983074865187944,0.03766403356944921,0.0392420555245428,0.03891273733404858,0.03923822566543668,0.03863029025180806,0.03799421027587521,0.038049496556153674,0.03920111052000988,0.03937721856151923,0.038735953959157375,0.038224953776345556,0.03958397303785149,0.0382589567915325,0.03740347642353344]\n[3.12577854391838,-0.9079464383150281,-0.4871736871750041,0.3484173072295588,9.443278225452676,-0.7927053945346824,0.8161138913384355,-0.1929087633244739,-0.0710507710800129,0.1716023080952318,0.04587103407895897,-0.019392506885782864,0.06240972154179633,0.053136946742356375,0.05367960656659278,0.03692080643690407,0.04777899223882739,0.040204169763791896,0.041876576181232646,-0.3504835185031006,0.04823055277168026,0.034518372846262434,0.04731214716645486,0.040916150609805274,0.040533403972063856,0.036811936031815005,0.038643524218937825,0.03649416710952659,0.03184822843109677,0.30572903531936135,0.03783019109787007,0.03879499593444087,-0.06649091589042848,0.03891056522903191,-0.3208064506335743,0.04119268361923488,-0.18968757770218206,0.03912711295284516,0.038845700549852445,0.04038052152898484,-0.29453238446517704,0.21436670685882117,0.05224562057219469,0.03777611152847474,0.039083977513373315,0.03742747228185941,0.038697859623564125,0.03694051528950748,0.10807510799658418,0.03839940495436251,0.016136731508586803,0.02581560027616476,0.02091881578207797,0.03920390425389562,0.03890319944121938,0.038703322171007686,0.03878226565039843,0.03886796590987987,0.038293954233790395,0.03864173215331491,0.0388834799377795,0.03874175877461414,0.038673361531626184,0.03865731780979082,0.04590494096578076,0.03705214486785877,0.037315594350251,0.03878596627674847,0.038879458805192134,0.040995153689990724,0.03876437377710074,0.03885849119908169,0.03873206053489829,0.038799952981775195,0.03884361012460501,0.03885552153984014,0.03874645219422589,0.03869576995098004,0.03890304229785094,0.03888239895905083,0.038827631898799474,0.038767269585035596,0.038829966661149073,0.03885533776818653,0.03880001076810575,0.03885999488039548,0.03886420605289851,0.0388299319281915,0.03882505530432697,0.03887923324206885,0.0388151145874674,0.03885393185061198,0.03886336074287607,0.038875673481665506,0.038829025572828205,0.038780493401436786,0.03884768939285325,0.03885201292475112,0.038849304518990005,0.03887236313636806]\n"
                }
            ], 
            "source": "scaledData.take(2).foreach(println)"
        }, 
        {
            "execution_count": 48, 
            "cell_type": "code", 
            "metadata": {}, 
            "outputs": [
                {
                    "execution_count": 48, 
                    "metadata": {}, 
                    "data": {
                        "text/plain": "247625"
                    }, 
                    "output_type": "execute_result"
                }
            ], 
            "source": "scaledData.count()"
        }, 
        {
            "execution_count": 61, 
            "cell_type": "code", 
            "metadata": {}, 
            "outputs": [
                {
                    "execution_count": 61, 
                    "metadata": {}, 
                    "data": {
                        "text/plain": "Array(8, 8, 8, 8, 8, 8, 2, 2, 2, 9, 9, 9, 9, 9, 9, 9, 9, 9, 9, 9, 9, 9, 9, 9, 10, 10, 10, 10, 10, 11, 11, 11, 11, 11, 11, 11, 11, 11, 12, 12, 12, 12, 12, 9, 9, 9, 9, 2, 2, 2, 2, 9, 9, 9, 9, 9, 9, 9, 9, 9, 9, 10, 10, 10, 10, 10, 10, 10, 10, 11, 11, 11, 11, 11, 11, 11, 11, 11, 11, 12, 12, 12, 12, 12, 9, 9, 9, 9, 9, 10, 10, 10, 10, 10, 1, 1, 1, 1, 1, 1, 1, 1, 1, 1, 1, 1, 1, 1, 1, 1, 1, 1, 1, 1, 1, 1, 1, 1, 1, 1, 1, 1, 1, 1, 1, 1, 1, 1, 1, 1, 1, 1, 1, 1, 1, 1, 1, 1, 1, 1, 1, 1, 1, 1, 1, 1, 1, 1, 1, 1, 1, 1, 1, 1, 1, 1, 1, 1, 1, 1, 1, 1, 1, 1, 1, 1, 1, 1, 1, 1, 1, 1, 1, 1, 1, 1, 1, 1, 1, 1, 1, 1, 1, 1, 1, 1, 1, 1, 1, 1, 1, 1, 1, 1, 1, 1, 1, 1, 1, 1, 1, 1, 1, 1, 1, 1, 8, 8, 8, 8, 8, 8, 8, 8, 8, 8, 8, 8, 8, 9, 9, 9, 9, 9, 9, 9, 9, 9, 10, 10, 10, 10, 10, 8, 8, 8, 8, 8, 2, 2,..."
                    }, 
                    "output_type": "execute_result"
                }
            ], 
            "source": "val data1Label1 = data1.map(r=>r.get(0))\nval labels_1=data1Label1.collect()\nlabels_1"
        }, 
        {
            "execution_count": 69, 
            "cell_type": "code", 
            "metadata": {}, 
            "outputs": [
                {
                    "execution_count": 69, 
                    "metadata": {}, 
                    "data": {
                        "text/plain": "Array(51539607599, 51539607799, 51539607999, 51539608199, 51539608399, 51539608599, 223338299534, 223338299734, 223338299934, 8589934618, 8589934818, 8589935018, 8589935218, 8589935418, 197568495765, 197568495965, 197568496165, 197568496365, 197568496565, 274877907080, 274877907280, 274877907480, 274877907680, 274877907880, 266287972385, 266287972585, 266287972785, 266287972985, 266287973185, 68719476901, 68719477101, 68719477301, 68719477501, 128849018947, 128849019147, 128849019347, 128849019547, 128849019747, 206158430351, 206158430551, 206158430751, 206158430951, 206158431151, 85899346099, 85899346299, 85899346499, 85899346699, 180388626604, 180388626804, 180388627004, 180388627204, 120259084365, 120259084565, 120259084765, 120259084965, 120259085165, 30923764534..."
                    }, 
                    "output_type": "execute_result"
                }
            ], 
            "source": "val data1Label2 = data1.map(r=>r.get(1))\nval labels_2=data1Label2.collect()\nlabels_2"
        }, 
        {
            "execution_count": 66, 
            "cell_type": "code", 
            "metadata": {}, 
            "outputs": [
                {
                    "execution_count": 66, 
                    "metadata": {}, 
                    "data": {
                        "text/plain": "MapPartitionsRDD[85] at mapPartitions at RowMatrix.scala:429"
                    }, 
                    "output_type": "execute_result"
                }
            ], 
            "source": "//val labels = data1DoubleWithIdx.map(_._2).collect()\nval matrix = new RowMatrix(scaledData)\nval pcaMatrix = matrix.multiply(matrix.computePrincipalComponents(50))\npcaMatrix.rows.cache()"
        }, 
        {
            "execution_count": 65, 
            "cell_type": "code", 
            "metadata": {
                "collapsed": true
            }, 
            "outputs": [], 
            "source": "import java.io.{BufferedWriter, OutputStreamWriter}\n\nimport org.apache.hadoop.fs.{FileSystem, Path}\n\nimport org.apache.spark.{SparkConf, SparkContext}\nimport org.apache.spark.SparkContext._\nimport org.slf4j.LoggerFactory"
        }, 
        {
            "execution_count": 70, 
            "cell_type": "code", 
            "metadata": {}, 
            "outputs": [], 
            "source": "val hadoopConf = sc.hadoopConfiguration\nval fs = FileSystem.get(hadoopConf)\n   val costWriter = new BufferedWriter(new OutputStreamWriter(fs.create(new Path(s\"MGH-TEST-7P/cost.txt\"), true)))\n\n    //SimpleTSNE.tsne(pcaMatrix, perplexity = 20, maxIterations = 200)\n    BHTSNE.tsne(pcaMatrix, maxIterations = 500, callback = {\n    //LBFGSTSNE.tsne(pcaMatrix, perplexity = 10, maxNumIterations = 500, numCorrections = 10, convergenceTol = 1e-8)\n      case (i, y, loss) =>\n        if(loss.isDefined) println(s\"$i iteration finished with loss $loss\")\n\n        val os = fs.create(new Path(s\"MGH-TEST-7P/result${\"%05d\".format(i)}.csv\"), true)\n        val writer = new BufferedWriter(new OutputStreamWriter(os))\n        try {\n          (0 until y.rows).foreach {\n            row =>\n              writer.write(labels_1(row).toString+\",\"+labels_2(row).toString)\n              //writer.write(labels_2(row).toString)\n              writer.write(y(row, ::).inner.toArray.mkString(\",\", \",\", \"\\n\"))\n              //writer.write(y(row, ::).inner.toArray.mkString(, \",\", \"\\n\"))\n          }\n          //if(loss.isDefined) costWriter.write(loss.get + \"\\n\")\n             try {\n                costWriter.write(loss.get + \"\\n\")\n          } catch {\n                case e: Exception => costWriter.write(\"No losses (\"+None+\") \\n\")\n          }\n\n          //costWriter.write(loss.get + \"\\n\")  \n        } finally {\n          writer.close()\n        }\n    })\n    costWriter.close()"
        }, 
        {
            "source": "<h1> Backup...</h1>", 
            "cell_type": "markdown", 
            "metadata": {}
        }, 
        {
            "execution_count": 68, 
            "cell_type": "code", 
            "metadata": {}, 
            "outputs": [], 
            "source": "val result = data1.map { row => row.getSeq[(Double)](0) }.collect\nresult\nvar r=data1.map { row => row.getSeq[(Double)](0) }.map(x => ( x.tail.map(_.toDouble)))\nr.take(2).foreach(println)\nr.getClass().getName()\nval data3=data2.flatMap(_._1)\ndata3.getClass().getName()"
        }, 
        {
            "execution_count": 32, 
            "cell_type": "code", 
            "metadata": {}, 
            "outputs": [
                {
                    "output_type": "stream", 
                    "name": "stdout", 
                    "text": "([-609244.2377965321, -84386.21730476152, -33814.23386768338, -39512.118855511035, 30360.277377903265, -30540.011541693, 10524.699665373322, -24277.58385737917, 4992.795554603827, 13210.206957489212, -4352.554523430839, 6500.287989102386, 613.2874366632798, -3242.792252401915, -4747.942385609276, -305.3784498912197, -570.8960457629687, 1102.4274527053992, 1288.4615734008519, -1413.4762103036683, 658.3512903107811, -338.12129660124015, -158.48005732746853, -23.682025223079265, 29.62302114334561, -26.29003385764488, 117.82767231816474, 21.28111191863129, -49.67238912867781, 96.87960990230414, -7.89585755957023, 33.80282514917482, 81.23265259545266, 15.188858933019464, 46.72599504822341, -8.012979173379778, 3.2355621478213643, 36.992477859202175, -18.513354054963074, 15.314210673828313, -55.241860997589455, 23.596351643827806, 13.310704048637467, -33.27054211641218, 28.57322094318328, 2.7267132993004157, -11.517832900498368, 9.215785417731738, -41.92339592499532, -6.559697232405785, 11.45692807127281, 6.773839210114429, 30.446545649656773, -46.19431018910357, -46.27118300312825, -6.4495782089972336, -82.95440915499113, -55.91773337313607, -11.914657145388796, 6.126757761228817, -3.402133473121685, 6.959248647116177, 15.244920125616021, -18.433332150595746, -13.907127529308543, -3.3836001560823212, -92.22895979831996, -8.664076486870258, -122.56306527789116, 29.872924088544863, -27.878107857500947, -13.89650130170004, 14.01094816572615, -1.8601925344693566, 14.256844862523375, 14.889276868832868, -23.53036950805821, 3.450578678312221, -59.78616624486674, -36.71059431133969, -6.565672543913042, 71.40606728591138, -2.8289857272553465, -30.095191903180115, 47.58124341188228, -8.92826795380167, -1.4369601828848313, 5.767551305539842, -6.111516741639624, -12.239345228020447, -2.129608057588005, -8.504357209633831, -25.77213179821359, -25.762582517940533, -9.801819811729086, -5.374387980820536, 10.95430986959404, 6.934772242690531, -3.943001366742122, 2.488263711862264],0)\n([-548719.4731547501, -55536.61180347821, -25464.62787713201, -15066.492328578508, 14834.278683585186, -15709.583230517967, 974.9404950587232, -11206.781386112934, 1638.283357835083, 3821.977151103432, -238.78485727703276, 2584.577229690567, 3781.3148187360457, -492.3614444737694, -2072.0477093064883, -98.46434764274376, -1105.8887303971667, -1732.9425072587812, 758.4310199684223, -792.3002274920987, 151.47192016323453, -48.41705589546362, -0.22157196856428313, 11.1922618851633, 43.72556397999145, -24.499476470474907, 51.07695002371905, 2.3676016810062044, 27.91875829875698, 5.326268622431959, -18.327569274982412, -10.480470546634338, 42.07246679772308, -29.161718963228793, 28.741127800934237, -5.659301985912847, -0.3073058569745686, 58.56884852376147, -34.80479743093538, 28.108279810575862, -9.739353065478532, 17.15026706538328, 1.7075553724215733, -0.04445158324714825, 49.82647272238107, 10.36617590834397, -27.208809883385072, -15.263868119921069, 0.8117108142897816, 20.451043562852863, 7.639055967449051, -3.5794549978258354, -8.22380881576583, -21.97374869668764, -9.816676065214386, 5.753705928601537, 11.302018542121765, -5.632734642270461, 0.8478678836513878, 1.235377003900965, 5.017610637376704, -7.758350245752745, -3.577178627517445, -6.22679847663443, -15.122962355077226, 2.015767627452553, 3.235796482662274, 8.874428369024782, 4.740545129237843, 7.4528525934592595, 1.5245112572173083, 6.343595405337307, 11.359497092211818, 6.542521054062734, -4.53664884670975, -0.5678781711552904, -11.249212924116106, 4.914637043418304, -18.345613402689278, -0.2348292632217444, -6.599848597670733, -4.111790514719765, -2.036482601022097, 3.2638785504546695, 2.002796792990678, 2.63493613348914, 0.6781696875830409, -7.7321166696403285, 8.50704896327592, 3.4375921072019757, 11.719609285609936, -2.891558596342571, 7.25145001463586, 3.8301602171450724, 1.865809591287641, -6.134930931195329, -1.0737437486746557, 2.2134717915015125, -1.1606761451811765, -0.3907355305446666],1)\n"
                }
            ], 
            "source": "val data1DoubleWithIdx=data1Double.zipWithIndex()\ndata1DoubleWithIdx.take(2).foreach(println)"
        }, 
        {
            "execution_count": 111, 
            "cell_type": "code", 
            "metadata": {}, 
            "outputs": [
                {
                    "output_type": "stream", 
                    "name": "stdout", 
                    "text": "[[18.0,1.0,0.0,10.0,0.5],1.0]\n"
                }
            ], 
            "source": "import org.apache.spark.ml.feature.VectorAssembler\nimport org.apache.spark.mllib.linalg.Vectors\n\nval dataset = sqlContext.createDataFrame(\n  Seq((0, 18, 1.0, Vectors.dense(0.0, 10.0, 0.5), 1.0))\n).toDF(\"id\", \"hour\", \"mobile\", \"userFeatures\", \"clicked\")\n\nval assembler = new VectorAssembler().setInputCols(Array(\"hour\", \"mobile\", \"userFeatures\")).setOutputCol(\"features\")\n\nval output = assembler.transform(dataset)\nprintln(output.select(\"features\", \"clicked\").first())"
        }, 
        {
            "execution_count": 121, 
            "cell_type": "code", 
            "metadata": {}, 
            "outputs": [
                {
                    "execution_count": 121, 
                    "metadata": {}, 
                    "data": {
                        "text/plain": "org.apache.spark.sql.DataFrame"
                    }, 
                    "output_type": "execute_result"
                }
            ], 
            "source": "output.getClass().getName()"
        }, 
        {
            "execution_count": null, 
            "cell_type": "code", 
            "metadata": {
                "collapsed": true
            }, 
            "outputs": [], 
            "source": "val rows: Array[Row] = ???\nrows.map(_.getInt(0))"
        }, 
        {
            "execution_count": null, 
            "cell_type": "code", 
            "metadata": {
                "collapsed": true
            }, 
            "outputs": [], 
            "source": "val featuresArray = df.rdd.map(r => {r.getAs[mutable.WrappedArray[Double]](\"pcaFeatures.values\")}"
        }, 
        {
            "execution_count": null, 
            "cell_type": "code", 
            "metadata": {
                "collapsed": true
            }, 
            "outputs": [], 
            "source": "val rk=data1.map(r =>  r.getList(0).toArray)\nrk.getClass().getName()\nrk.take(2).foreach(println)\n\n\ndata1Double.take(2).foreach(println)\n\nrk.map(x => x.getClass().getName()).take(2).foreach(println)\n\n\nval rk2=data1.map(row => row.getAs[Seq[Double]](0))\nrk2.take(2).foreach(println)"
        }, 
        {
            "execution_count": null, 
            "cell_type": "code", 
            "metadata": {
                "collapsed": true
            }, 
            "outputs": [], 
            "source": "val sDWithRowId=scaledData.zipWithIndex()\nsDWithRowId.take(2).foreach(println)\n\n\nval rk3=data1Double.map((_, 1))\nrk3.take(2).foreach(println)"
        }
    ], 
    "metadata": {
        "kernelspec": {
            "display_name": "Scala 2.10 with Spark 1.6", 
            "name": "scala", 
            "language": "scala"
        }, 
        "language_info": {
            "name": "scala"
        }
    }, 
    "nbformat": 4
}