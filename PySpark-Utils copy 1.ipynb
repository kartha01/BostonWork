{
    "nbformat_minor": 0, 
    "cells": [
        {
            "execution_count": 1, 
            "cell_type": "code", 
            "metadata": {
                "collapsed": false
            }, 
            "outputs": [
                {
                    "output_type": "stream", 
                    "name": "stdout", 
                    "text": "total 2881368\r\ndrwxr-x--- 2 seff-34c2f0d3dcc620-a916a00b641d users      4096 May 26 13:45 Case1\r\n-rw-r----- 1 seff-34c2f0d3dcc620-a916a00b641d users 983503825 May 26 11:18 Case1_seg1.mat\r\n-rw-r----- 1 seff-34c2f0d3dcc620-a916a00b641d users       800 May 26 17:06 MATLAB 7.3 MAT-file, Platform: PCWIN64, Created on: Wed May 24 13:46:39 2017 HDF5 schema 1.00 .                     \r\n-rw-r----- 1 seff-34c2f0d3dcc620-a916a00b641d users       800 May 26 12:31 MATLAB 7.3 MAT-file, Platform: PCWIN64, Created on: Wed May 24 13:54:28 2017 HDF5 schema 1.00 .                     \r\ndrwx------ 3 seff-34c2f0d3dcc620-a916a00b641d users      4096 Jun  5 09:02 MGH.keystone\r\ndrwx------ 2 seff-34c2f0d3dcc620-a916a00b641d users      4096 Jun  4 22:55 MGH-TEST-01\r\ndrwxr-x--- 2 seff-34c2f0d3dcc620-a916a00b641d users      4096 May 31 12:05 spark-warehouse\r\n"
                }
            ], 
            "source": "!ls -l "
        }, 
        {
            "execution_count": 1, 
            "cell_type": "code", 
            "metadata": {
                "collapsed": false
            }, 
            "outputs": [
                {
                    "output_type": "stream", 
                    "name": "stdout", 
                    "text": "total 6312\r\n-rw-r--r-- 1 seff-34c2f0d3dcc620-a916a00b641d users       0 Jun  8 15:26 cost.txt\r\n-rw-r--r-- 1 seff-34c2f0d3dcc620-a916a00b641d users 2151689 Jun  5 09:47 result00001.csv\r\n"
                }
            ], 
            "source": "!ls -l MGH-TEST-01"
        }, 
        {
            "execution_count": 58, 
            "cell_type": "code", 
            "metadata": {
                "collapsed": false
            }, 
            "outputs": [], 
            "source": "from io import BytesIO  \nimport requests  \nimport json  \nimport pandas as pd\n\ndef put_file(credentials, local_file_name):  \n    \"\"\"This functions returns a StringIO object containing\n    the file content from Bluemix Object Storage V3.\"\"\"\n    f = open(local_file_name,'r')\n    my_data = f.read()\n    url1 = ''.join(['https://identity.open.softlayer.com', '/v3/auth/tokens'])\n    data = {'auth': {'identity': {'methods': ['password'],\n            'password': {'user': {'name': credentials['username'],'domain': {'id': credentials['domainId']},\n            'password': credentials['password']}}}}}\n    headers1 = {'Content-Type': 'application/json'}\n    resp1 = requests.post(url=url1, data=json.dumps(data), headers=headers1)\n    resp1_body = resp1.json()\n    #print resp1_body\n    for e1 in resp1_body['token']['catalog']:\n        #print e1\n        if(e1['type']=='object-store'):\n            print e1['type']\n            for e2 in e1['endpoints']:\n                        #print e2\n                        if(e2['interface']=='public'and e2['region']=='dallas'):\n                            #url2 = ''.join([e2['url'],'/', credentials['container'], '/MGH-TEST-01/', local_file_name])\n                            url2 = ''.join([e2['url'],'/', credentials['container'], '/', local_file_name])\n    s_subject_token = resp1.headers['x-subject-token']\n    headers2 = {'X-Auth-Token': s_subject_token, 'accept': 'application/json'}\n    print url2\n    print headers2\n    resp2 = requests.put(url=url2, headers=headers2, data = my_data )\n    print resp2\n"
        }, 
        {
            "execution_count": 34, 
            "cell_type": "code", 
            "metadata": {
                "collapsed": false
            }, 
            "outputs": [], 
            "source": "# The code was removed by Watson Studio for sharing."
        }, 
        {
            "execution_count": 59, 
            "cell_type": "code", 
            "metadata": {
                "collapsed": false
            }, 
            "outputs": [
                {
                    "output_type": "stream", 
                    "name": "stdout", 
                    "text": "object-store\nhttps://dal.objectstorage.open.softlayer.com/v1/AUTH_a9fb4d478e3d40a8bbd54c5a2ecf25a3/MGH/MGH-TEST-01/result00001.csv\n{'accept': 'application/json', 'X-Auth-Token': 'gAAAAABZNfn7F5FDNrT2ZKa1WKFqT0d3LAB43-4PoQ3yeATXJaBUsZGO85f_1q5YmHXF-3k_Wr3ZYgBKLsq4SObuq2uvJ3HLY18uEgnBdtwPg7Qa3j9sumcUU2UqKEKZ_GXRgLmRZ9bFlLs61bQYItwYt2wD3xFns0lmQkf_SawIPEgHSoFbRRI'}\n<Response [201]>\n"
                }
            ], 
            "source": "put_file(credentials_1,'MGH-TEST-01/result00001.csv')"
        }, 
        {
            "execution_count": 63, 
            "cell_type": "code", 
            "metadata": {
                "collapsed": false
            }, 
            "outputs": [
                {
                    "output_type": "stream", 
                    "name": "stdout", 
                    "text": "total 6312\r\n-rw-r--r-- 1 seff-34c2f0d3dcc620-a916a00b641d users       0 Jun  5 09:11 cost.txt\r\n-rw-r--r-- 1 seff-34c2f0d3dcc620-a916a00b641d users 2151689 Jun  5 09:47 result00001.csv\r\n"
                }
            ], 
            "source": "!ls -l MGH-TEST-01"
        }, 
        {
            "execution_count": null, 
            "cell_type": "code", 
            "metadata": {
                "collapsed": true
            }, 
            "outputs": [], 
            "source": ""
        }
    ], 
    "metadata": {
        "kernelspec": {
            "display_name": "Python 2 with Spark 2.1", 
            "name": "python2-spark21", 
            "language": "python"
        }, 
        "language_info": {
            "mimetype": "text/x-python", 
            "nbconvert_exporter": "python", 
            "version": "2.7.11", 
            "name": "python", 
            "file_extension": ".py", 
            "pygments_lexer": "ipython2", 
            "codemirror_mode": {
                "version": 2, 
                "name": "ipython"
            }
        }
    }, 
    "nbformat": 4
}