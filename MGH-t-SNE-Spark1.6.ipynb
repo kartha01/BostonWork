{
    "nbformat_minor": 0, 
    "cells": [
        {
            "execution_count": 1, 
            "cell_type": "code", 
            "metadata": {
                "collapsed": false
            }, 
            "outputs": [
                {
                    "execution_count": 1, 
                    "metadata": {}, 
                    "data": {
                        "text/plain": "org.apache.spark.SparkContext@a17eb64f"
                    }, 
                    "output_type": "execute_result"
                }
            ], 
            "source": "sc"
        }, 
        {
            "execution_count": 2, 
            "cell_type": "code", 
            "metadata": {
                "collapsed": true
            }, 
            "outputs": [], 
            "source": "val sqlContext = new org.apache.spark.sql.SQLContext(sc)"
        }, 
        {
            "execution_count": 3, 
            "cell_type": "code", 
            "metadata": {
                "collapsed": false
            }, 
            "outputs": [
                {
                    "execution_count": 3, 
                    "metadata": {}, 
                    "data": {
                        "text/plain": "Array([2.2543,2.2802,3.2058,2.7831,2.2414,2.3961,3.1904,2.8007,2.2199,2.3412,3.0924,2.7539,1.973,2.2811,3.0617,2.9103,23.097,3.1503,3.0308,3.4753,2.9078,3.1089,3.6284,4.1932,3.0422,3.6411,254330.0,226880.0,341440.0,284210.0,109680.0,113230.0,125590.0,124770.0,53409.0,56575.0,60883.0,60030.0,12915.0,13836.0,13558.0,15694.0,62.59,56.045,118.16,97.662,49.497,53.792,87.745,83.527,47.886,54.141,82.052,77.989,42.201,45.07,73.033,81.49,230.36,149.73,464.07,249.64,74.399,79.464,128.04,125.21,72.525,80.443,116.56,114.27,60.959,59.875,98.354,111.16,0.8756,0.8617,0.8544,0.88318,0.85872,0.84645,0.80648,0.85755,0.85065,0.84798,0.79293,0.84303,0.8352,0.83428,0.768,0.83579,0.15363,0.17806,0.18379,0.15705,0.16583,0.18037,0.22301,0.17244,0.17223,0.18817,0.24149,0...."
                    }, 
                    "output_type": "execute_result"
                }
            ], 
            "source": "def setHadoopConfig(name: String) = {\nval prefix = \"fs.swift.service.\" + name\nsc.hadoopConfiguration.set(prefix + \".auth.url\", \"https://identity.open.softlayer.com\" + \"/v3/auth/tokens\")\nsc.hadoopConfiguration.set(prefix + \".auth.endpoint.prefix\",\"endpoints\")\nsc.hadoopConfiguration.set(prefix + \".tenant\", \"a9fb4d478e3d40a8bbd54c5a2ecf25a3\")\nsc.hadoopConfiguration.set(prefix + \".username\", \"6a4cc8251c1940179a6cccc9098a15e0\")\nsc.hadoopConfiguration.set(prefix + \".password\", \"kDTcKA2H(3eo5.G0\")\nsc.hadoopConfiguration.setInt(prefix + \".http.port\", 8080)\nsc.hadoopConfiguration.set(prefix + \".region\", \"dallas\")\nsc.hadoopConfiguration.setBoolean(prefix + \".public\", false)\n}\n// you can choose any name\nval name = \"keystone\"\nsetHadoopConfig(name)\n\nval rddData1 = sqlContext.read.parquet(\"swift://MGH.\" + name + \"/tempParq/case1.parquet\")\nrddData1.take(5)"
        }, 
        {
            "execution_count": 4, 
            "cell_type": "code", 
            "metadata": {
                "collapsed": false
            }, 
            "outputs": [
                {
                    "execution_count": 4, 
                    "metadata": {}, 
                    "data": {
                        "text/plain": "[2.2543,2.2802,3.2058,2.7831,2.2414,2.3961,3.1904,2.8007,2.2199,2.3412,3.0924,2.7539,1.973,2.2811,3.0617,2.9103,23.097,3.1503,3.0308,3.4753,2.9078,3.1089,3.6284,4.1932,3.0422,3.6411,254330.0,226880.0,341440.0,284210.0,109680.0,113230.0,125590.0,124770.0,53409.0,56575.0,60883.0,60030.0,12915.0,13836.0,13558.0,15694.0,62.59,56.045,118.16,97.662,49.497,53.792,87.745,83.527,47.886,54.141,82.052,77.989,42.201,45.07,73.033,81.49,230.36,149.73,464.07,249.64,74.399,79.464,128.04,125.21,72.525,80.443,116.56,114.27,60.959,59.875,98.354,111.16,0.8756,0.8617,0.8544,0.88318,0.85872,0.84645,0.80648,0.85755,0.85065,0.84798,0.79293,0.84303,0.8352,0.83428,0.768,0.83579,0.15363,0.17806,0.18379,0.15705,0.16583,0.18037,0.22301,0.17244,0.17223,0.18817,0.24149,0.18405,0.1838,..."
                    }, 
                    "output_type": "execute_result"
                }
            ], 
            "source": "rddData1.head()"
        }, 
        {
            "execution_count": 5, 
            "cell_type": "code", 
            "metadata": {
                "collapsed": false
            }, 
            "outputs": [
                {
                    "output_type": "stream", 
                    "name": "stdout", 
                    "text": "root\n |-- _c0: double (nullable = true)\n |-- _c1: double (nullable = true)\n |-- _c2: double (nullable = true)\n |-- _c3: double (nullable = true)\n |-- _c4: double (nullable = true)\n |-- _c5: double (nullable = true)\n |-- _c6: double (nullable = true)\n |-- _c7: double (nullable = true)\n |-- _c8: double (nullable = true)\n |-- _c9: double (nullable = true)\n |-- _c10: double (nullable = true)\n |-- _c11: double (nullable = true)\n |-- _c12: double (nullable = true)\n |-- _c13: double (nullable = true)\n |-- _c14: double (nullable = true)\n |-- _c15: double (nullable = true)\n |-- _c18: double (nullable = true)\n |-- _c21: double (nullable = true)\n |-- _c22: double (nullable = true)\n |-- _c24: double (nullable = true)\n |-- _c25: double (nullable = true)\n |-- _c27: double (nullable = true)\n |-- _c28: double (nullable = true)\n |-- _c29: double (nullable = true)\n |-- _c30: double (nullable = true)\n |-- _c31: double (nullable = true)\n |-- _c32: double (nullable = true)\n |-- _c33: double (nullable = true)\n |-- _c34: double (nullable = true)\n |-- _c35: double (nullable = true)\n |-- _c36: double (nullable = true)\n |-- _c37: double (nullable = true)\n |-- _c38: double (nullable = true)\n |-- _c39: double (nullable = true)\n |-- _c40: double (nullable = true)\n |-- _c41: double (nullable = true)\n |-- _c42: double (nullable = true)\n |-- _c43: double (nullable = true)\n |-- _c44: double (nullable = true)\n |-- _c45: double (nullable = true)\n |-- _c46: double (nullable = true)\n |-- _c47: double (nullable = true)\n |-- _c48: double (nullable = true)\n |-- _c49: double (nullable = true)\n |-- _c50: double (nullable = true)\n |-- _c51: double (nullable = true)\n |-- _c52: double (nullable = true)\n |-- _c53: double (nullable = true)\n |-- _c54: double (nullable = true)\n |-- _c55: double (nullable = true)\n |-- _c56: double (nullable = true)\n |-- _c57: double (nullable = true)\n |-- _c58: double (nullable = true)\n |-- _c59: double (nullable = true)\n |-- _c60: double (nullable = true)\n |-- _c61: double (nullable = true)\n |-- _c62: double (nullable = true)\n |-- _c63: double (nullable = true)\n |-- _c64: double (nullable = true)\n |-- _c65: double (nullable = true)\n |-- _c66: double (nullable = true)\n |-- _c67: double (nullable = true)\n |-- _c68: double (nullable = true)\n |-- _c69: double (nullable = true)\n |-- _c70: double (nullable = true)\n |-- _c71: double (nullable = true)\n |-- _c72: double (nullable = true)\n |-- _c73: double (nullable = true)\n |-- _c74: double (nullable = true)\n |-- _c75: double (nullable = true)\n |-- _c76: double (nullable = true)\n |-- _c77: double (nullable = true)\n |-- _c78: double (nullable = true)\n |-- _c79: double (nullable = true)\n |-- _c80: double (nullable = true)\n |-- _c81: double (nullable = true)\n |-- _c82: double (nullable = true)\n |-- _c83: double (nullable = true)\n |-- _c84: double (nullable = true)\n |-- _c85: double (nullable = true)\n |-- _c86: double (nullable = true)\n |-- _c87: double (nullable = true)\n |-- _c88: double (nullable = true)\n |-- _c89: double (nullable = true)\n |-- _c90: double (nullable = true)\n |-- _c91: double (nullable = true)\n |-- _c92: double (nullable = true)\n |-- _c93: double (nullable = true)\n |-- _c94: double (nullable = true)\n |-- _c95: double (nullable = true)\n |-- _c96: double (nullable = true)\n |-- _c97: double (nullable = true)\n |-- _c98: double (nullable = true)\n |-- _c99: double (nullable = true)\n |-- _c100: double (nullable = true)\n |-- _c101: double (nullable = true)\n |-- _c102: double (nullable = true)\n |-- _c103: double (nullable = true)\n |-- _c104: double (nullable = true)\n |-- _c105: double (nullable = true)\n |-- _c106: double (nullable = true)\n |-- _c107: double (nullable = true)\n |-- _c108: double (nullable = true)\n |-- _c109: double (nullable = true)\n |-- _c110: double (nullable = true)\n |-- _c111: double (nullable = true)\n |-- _c112: double (nullable = true)\n |-- _c113: double (nullable = true)\n |-- _c114: double (nullable = true)\n |-- _c115: double (nullable = true)\n |-- _c116: double (nullable = true)\n |-- _c117: double (nullable = true)\n |-- _c118: double (nullable = true)\n |-- _c119: double (nullable = true)\n |-- _c120: double (nullable = true)\n |-- _c121: double (nullable = true)\n |-- _c122: double (nullable = true)\n |-- _c123: double (nullable = true)\n |-- _c124: double (nullable = true)\n |-- _c125: double (nullable = true)\n |-- _c126: double (nullable = true)\n |-- _c127: double (nullable = true)\n |-- _c128: double (nullable = true)\n |-- _c129: double (nullable = true)\n |-- _c130: double (nullable = true)\n |-- _c131: double (nullable = true)\n |-- _c132: double (nullable = true)\n |-- _c133: double (nullable = true)\n |-- _c134: double (nullable = true)\n |-- _c135: double (nullable = true)\n |-- _c136: double (nullable = true)\n |-- _c137: double (nullable = true)\n |-- _c138: double (nullable = true)\n |-- _c139: double (nullable = true)\n |-- _c140: double (nullable = true)\n |-- _c141: double (nullable = true)\n |-- _c142: double (nullable = true)\n |-- _c143: double (nullable = true)\n |-- _c144: double (nullable = true)\n |-- _c145: double (nullable = true)\n |-- _c146: double (nullable = true)\n |-- _c147: double (nullable = true)\n |-- _c148: double (nullable = true)\n |-- _c149: double (nullable = true)\n |-- _c150: double (nullable = true)\n |-- _c151: double (nullable = true)\n |-- _c152: double (nullable = true)\n |-- _c153: double (nullable = true)\n |-- _c154: double (nullable = true)\n |-- _c155: double (nullable = true)\n |-- _c156: double (nullable = true)\n |-- _c157: double (nullable = true)\n |-- _c158: double (nullable = true)\n |-- _c159: double (nullable = true)\n |-- _c160: double (nullable = true)\n |-- _c161: double (nullable = true)\n |-- _c162: double (nullable = true)\n |-- _c163: double (nullable = true)\n |-- _c164: double (nullable = true)\n |-- _c165: double (nullable = true)\n |-- _c166: double (nullable = true)\n |-- _c167: double (nullable = true)\n |-- _c168: double (nullable = true)\n |-- _c169: double (nullable = true)\n |-- _c170: double (nullable = true)\n |-- _c171: double (nullable = true)\n |-- _c172: double (nullable = true)\n |-- _c173: double (nullable = true)\n |-- _c174: double (nullable = true)\n |-- _c175: double (nullable = true)\n |-- _c176: double (nullable = true)\n |-- _c177: double (nullable = true)\n |-- _c178: double (nullable = true)\n |-- _c179: double (nullable = true)\n |-- _c180: double (nullable = true)\n |-- _c181: double (nullable = true)\n |-- _c182: double (nullable = true)\n |-- _c183: double (nullable = true)\n |-- _c184: double (nullable = true)\n |-- _c185: double (nullable = true)\n |-- _c186: double (nullable = true)\n |-- _c187: double (nullable = true)\n |-- _c188: double (nullable = true)\n |-- _c189: double (nullable = true)\n |-- _c190: double (nullable = true)\n |-- _c191: double (nullable = true)\n |-- _c192: double (nullable = true)\n |-- _c193: double (nullable = true)\n |-- _c194: double (nullable = true)\n |-- _c195: double (nullable = true)\n |-- _c196: double (nullable = true)\n |-- _c197: double (nullable = true)\n |-- _c198: double (nullable = true)\n |-- _c199: double (nullable = true)\n |-- _c200: double (nullable = true)\n |-- _c201: double (nullable = true)\n |-- _c202: double (nullable = true)\n |-- _c203: double (nullable = true)\n |-- _c204: double (nullable = true)\n |-- _c205: double (nullable = true)\n |-- _c206: double (nullable = true)\n |-- _c207: double (nullable = true)\n |-- _c208: double (nullable = true)\n |-- _c209: double (nullable = true)\n |-- _c210: double (nullable = true)\n |-- _c211: double (nullable = true)\n |-- _c212: double (nullable = true)\n |-- _c213: double (nullable = true)\n |-- _c214: double (nullable = true)\n |-- _c215: double (nullable = true)\n |-- _c216: double (nullable = true)\n |-- _c217: double (nullable = true)\n |-- _c218: double (nullable = true)\n |-- _c219: double (nullable = true)\n |-- _c220: double (nullable = true)\n |-- _c221: double (nullable = true)\n |-- _c222: double (nullable = true)\n |-- _c223: double (nullable = true)\n |-- _c224: double (nullable = true)\n |-- _c225: double (nullable = true)\n |-- _c226: double (nullable = true)\n |-- _c227: double (nullable = true)\n |-- _c228: double (nullable = true)\n |-- _c229: double (nullable = true)\n |-- _c230: double (nullable = true)\n |-- _c231: double (nullable = true)\n |-- _c232: double (nullable = true)\n |-- _c233: double (nullable = true)\n |-- _c234: double (nullable = true)\n |-- _c235: double (nullable = true)\n |-- _c236: double (nullable = true)\n |-- _c237: double (nullable = true)\n |-- _c238: double (nullable = true)\n |-- _c239: double (nullable = true)\n |-- _c240: double (nullable = true)\n |-- _c241: double (nullable = true)\n |-- _c242: double (nullable = true)\n |-- _c243: double (nullable = true)\n |-- _c244: double (nullable = true)\n |-- _c245: double (nullable = true)\n |-- _c246: double (nullable = true)\n |-- _c247: double (nullable = true)\n |-- _c248: double (nullable = true)\n |-- _c249: double (nullable = true)\n |-- _c250: double (nullable = true)\n |-- _c251: double (nullable = true)\n |-- _c252: double (nullable = true)\n |-- _c253: double (nullable = true)\n |-- _c254: double (nullable = true)\n |-- _c255: double (nullable = true)\n |-- _c256: double (nullable = true)\n |-- _c257: double (nullable = true)\n |-- _c258: double (nullable = true)\n |-- _c259: double (nullable = true)\n |-- _c260: double (nullable = true)\n |-- _c261: double (nullable = true)\n |-- _c262: double (nullable = true)\n |-- _c263: double (nullable = true)\n |-- _c264: double (nullable = true)\n |-- _c265: double (nullable = true)\n |-- _c266: double (nullable = true)\n |-- _c267: double (nullable = true)\n |-- _c268: double (nullable = true)\n |-- _c269: double (nullable = true)\n |-- _c270: double (nullable = true)\n |-- _c271: double (nullable = true)\n |-- _c272: double (nullable = true)\n |-- _c273: double (nullable = true)\n |-- _c274: double (nullable = true)\n |-- _c275: double (nullable = true)\n |-- _c276: double (nullable = true)\n |-- _c277: double (nullable = true)\n |-- _c278: double (nullable = true)\n |-- _c279: double (nullable = true)\n |-- _c280: double (nullable = true)\n |-- _c281: double (nullable = true)\n |-- _c282: double (nullable = true)\n |-- _c283: double (nullable = true)\n |-- _c284: double (nullable = true)\n |-- _c285: double (nullable = true)\n |-- _c286: double (nullable = true)\n |-- _c287: double (nullable = true)\n |-- _c288: double (nullable = true)\n |-- _c289: double (nullable = true)\n |-- _c290: double (nullable = true)\n |-- _c291: double (nullable = true)\n |-- _c292: double (nullable = true)\n |-- _c293: double (nullable = true)\n |-- _c294: double (nullable = true)\n |-- _c295: double (nullable = true)\n |-- _c296: double (nullable = true)\n |-- _c297: double (nullable = true)\n |-- _c298: double (nullable = true)\n |-- _c299: double (nullable = true)\n |-- _c300: double (nullable = true)\n |-- _c301: double (nullable = true)\n |-- _c302: double (nullable = true)\n |-- _c303: double (nullable = true)\n |-- _c304: double (nullable = true)\n |-- _c305: double (nullable = true)\n |-- _c306: double (nullable = true)\n |-- _c307: double (nullable = true)\n |-- _c308: double (nullable = true)\n |-- _c309: double (nullable = true)\n |-- _c310: double (nullable = true)\n |-- _c311: double (nullable = true)\n |-- _c312: double (nullable = true)\n |-- _c313: double (nullable = true)\n |-- _c314: double (nullable = true)\n |-- _c315: double (nullable = true)\n |-- _c316: double (nullable = true)\n |-- _c317: double (nullable = true)\n |-- _c318: double (nullable = true)\n |-- _c319: double (nullable = true)\n |-- _c320: double (nullable = true)\n |-- _c321: double (nullable = true)\n |-- _c322: double (nullable = true)\n |-- _c323: double (nullable = true)\n |-- _c324: double (nullable = true)\n |-- _c325: double (nullable = true)\n |-- _c326: double (nullable = true)\n |-- _c327: double (nullable = true)\n |-- _c328: double (nullable = true)\n |-- _c329: double (nullable = true)\n |-- _c330: double (nullable = true)\n |-- _c331: double (nullable = true)\n |-- _c332: double (nullable = true)\n |-- _c333: double (nullable = true)\n |-- _c334: double (nullable = true)\n |-- _c335: double (nullable = true)\n |-- _c336: double (nullable = true)\n |-- _c337: double (nullable = true)\n |-- _c338: double (nullable = true)\n |-- _c339: double (nullable = true)\n |-- _c340: double (nullable = true)\n |-- _c341: double (nullable = true)\n |-- _c342: double (nullable = true)\n |-- _c343: double (nullable = true)\n |-- _c344: double (nullable = true)\n |-- _c345: double (nullable = true)\n |-- _c346: double (nullable = true)\n |-- _c347: double (nullable = true)\n |-- _c348: double (nullable = true)\n |-- _c349: double (nullable = true)\n |-- _c350: double (nullable = true)\n |-- _c351: double (nullable = true)\n |-- _c352: double (nullable = true)\n |-- _c353: double (nullable = true)\n |-- _c354: double (nullable = true)\n |-- _c355: double (nullable = true)\n |-- _c356: double (nullable = true)\n |-- _c357: double (nullable = true)\n |-- _c358: double (nullable = true)\n |-- _c359: double (nullable = true)\n |-- _c360: double (nullable = true)\n |-- _c361: double (nullable = true)\n |-- _c362: double (nullable = true)\n |-- _c363: double (nullable = true)\n |-- _c364: double (nullable = true)\n |-- _c365: double (nullable = true)\n |-- _c366: double (nullable = true)\n |-- _c367: double (nullable = true)\n |-- _c368: double (nullable = true)\n |-- _c369: double (nullable = true)\n |-- _c370: double (nullable = true)\n |-- _c371: double (nullable = true)\n |-- _c372: double (nullable = true)\n |-- _c373: double (nullable = true)\n |-- _c374: double (nullable = true)\n |-- _c375: double (nullable = true)\n |-- _c376: double (nullable = true)\n |-- _c377: double (nullable = true)\n |-- _c378: double (nullable = true)\n |-- _c379: double (nullable = true)\n |-- _c380: double (nullable = true)\n |-- _c381: double (nullable = true)\n |-- _c382: double (nullable = true)\n |-- _c383: double (nullable = true)\n |-- _c384: double (nullable = true)\n |-- _c385: double (nullable = true)\n |-- _c386: double (nullable = true)\n |-- _c387: double (nullable = true)\n |-- _c388: double (nullable = true)\n |-- _c389: double (nullable = true)\n |-- _c390: double (nullable = true)\n |-- _c391: double (nullable = true)\n |-- _c392: double (nullable = true)\n |-- _c393: double (nullable = true)\n |-- _c394: double (nullable = true)\n |-- _c395: double (nullable = true)\n |-- _c396: double (nullable = true)\n |-- _c397: double (nullable = true)\n |-- _c398: double (nullable = true)\n |-- _c399: double (nullable = true)\n |-- _c400: double (nullable = true)\n |-- _c401: double (nullable = true)\n |-- _c402: double (nullable = true)\n |-- _c403: double (nullable = true)\n |-- _c404: double (nullable = true)\n |-- _c405: double (nullable = true)\n |-- _c406: double (nullable = true)\n |-- _c407: double (nullable = true)\n |-- _c408: double (nullable = true)\n |-- _c409: double (nullable = true)\n |-- _c410: double (nullable = true)\n |-- _c411: double (nullable = true)\n |-- _c412: double (nullable = true)\n |-- _c413: double (nullable = true)\n |-- _c414: double (nullable = true)\n |-- _c415: double (nullable = true)\n |-- _c416: double (nullable = true)\n |-- _c417: double (nullable = true)\n |-- _c418: double (nullable = true)\n |-- _c419: double (nullable = true)\n |-- _c420: double (nullable = true)\n |-- _c421: double (nullable = true)\n |-- _c422: double (nullable = true)\n |-- _c423: double (nullable = true)\n |-- _c424: double (nullable = true)\n |-- _c425: double (nullable = true)\n |-- _c426: double (nullable = true)\n |-- _c427: double (nullable = true)\n |-- _c428: double (nullable = true)\n |-- _c429: double (nullable = true)\n |-- _c430: double (nullable = true)\n |-- _c431: double (nullable = true)\n |-- _c432: double (nullable = true)\n |-- _c433: double (nullable = true)\n |-- _c434: double (nullable = true)\n |-- _c435: double (nullable = true)\n |-- _c436: double (nullable = true)\n |-- _c437: double (nullable = true)\n |-- _c438: double (nullable = true)\n |-- _c439: double (nullable = true)\n |-- _c440: double (nullable = true)\n |-- _c441: double (nullable = true)\n |-- _c442: double (nullable = true)\n |-- _c443: double (nullable = true)\n |-- _c444: double (nullable = true)\n |-- _c445: double (nullable = true)\n |-- _c446: double (nullable = true)\n |-- _c447: double (nullable = true)\n |-- _c448: double (nullable = true)\n |-- _c449: double (nullable = true)\n |-- _c450: double (nullable = true)\n |-- _c451: double (nullable = true)\n |-- _c452: double (nullable = true)\n |-- _c453: double (nullable = true)\n |-- _c454: double (nullable = true)\n |-- _c455: double (nullable = true)\n |-- _c456: double (nullable = true)\n |-- _c457: double (nullable = true)\n |-- _c458: double (nullable = true)\n |-- _c459: double (nullable = true)\n |-- _c460: double (nullable = true)\n |-- _c461: double (nullable = true)\n |-- _c462: double (nullable = true)\n |-- _c463: double (nullable = true)\n |-- _c464: double (nullable = true)\n |-- _c465: double (nullable = true)\n |-- _c466: double (nullable = true)\n |-- _c467: double (nullable = true)\n |-- _c468: double (nullable = true)\n |-- _c469: double (nullable = true)\n |-- _c470: double (nullable = true)\n |-- _c471: double (nullable = true)\n |-- _c472: double (nullable = true)\n |-- _c473: double (nullable = true)\n |-- _c474: double (nullable = true)\n |-- _c475: double (nullable = true)\n |-- _c476: double (nullable = true)\n |-- _c477: double (nullable = true)\n |-- _c478: double (nullable = true)\n |-- _c479: double (nullable = true)\n |-- _c480: double (nullable = true)\n |-- _c481: double (nullable = true)\n |-- _c482: double (nullable = true)\n |-- _c483: double (nullable = true)\n |-- _c484: double (nullable = true)\n |-- _c485: double (nullable = true)\n |-- _c486: double (nullable = true)\n |-- _c487: double (nullable = true)\n |-- _c488: double (nullable = true)\n |-- _c489: double (nullable = true)\n |-- _c490: double (nullable = true)\n |-- _c491: double (nullable = true)\n |-- _c492: double (nullable = true)\n |-- _c493: double (nullable = true)\n |-- _c494: double (nullable = true)\n |-- _c495: double (nullable = true)\n |-- _c496: double (nullable = true)\n |-- _c497: double (nullable = true)\n |-- _c498: double (nullable = true)\n |-- _c499: double (nullable = true)\n |-- _c500: double (nullable = true)\n |-- _c501: double (nullable = true)\n |-- _c502: double (nullable = true)\n |-- _c503: double (nullable = true)\n |-- _c504: double (nullable = true)\n |-- _c505: double (nullable = true)\n |-- _c506: double (nullable = true)\n |-- _c507: double (nullable = true)\n |-- _c508: double (nullable = true)\n |-- _c509: double (nullable = true)\n |-- _c510: double (nullable = true)\n |-- _c511: double (nullable = true)\n |-- _c512: double (nullable = true)\n |-- _c513: double (nullable = true)\n |-- _c514: double (nullable = true)\n |-- _c515: double (nullable = true)\n |-- _c516: double (nullable = true)\n |-- _c517: double (nullable = true)\n |-- _c518: double (nullable = true)\n |-- _c519: double (nullable = true)\n |-- _c520: double (nullable = true)\n |-- _c521: double (nullable = true)\n |-- _c522: double (nullable = true)\n |-- _c523: double (nullable = true)\n |-- _c524: double (nullable = true)\n |-- _c525: double (nullable = true)\n |-- _c526: double (nullable = true)\n |-- _c527: double (nullable = true)\n |-- _c528: double (nullable = true)\n |-- _c529: double (nullable = true)\n |-- _c530: double (nullable = true)\n |-- _c531: double (nullable = true)\n |-- _c532: double (nullable = true)\n |-- _c533: double (nullable = true)\n |-- _c534: double (nullable = true)\n |-- _c535: double (nullable = true)\n |-- _c536: double (nullable = true)\n |-- _c537: double (nullable = true)\n |-- _c538: double (nullable = true)\n |-- _c539: double (nullable = true)\n |-- _c540: double (nullable = true)\n |-- _c541: double (nullable = true)\n |-- _c542: double (nullable = true)\n |-- _c543: double (nullable = true)\n |-- _c544: double (nullable = true)\n |-- _c545: double (nullable = true)\n |-- _c546: double (nullable = true)\n |-- _c547: double (nullable = true)\n |-- _c548: double (nullable = true)\n |-- _c549: double (nullable = true)\n |-- _c550: double (nullable = true)\n |-- _c551: double (nullable = true)\n |-- _c552: double (nullable = true)\n |-- _c553: double (nullable = true)\n |-- _c554: double (nullable = true)\n |-- _c555: double (nullable = true)\n |-- _c556: double (nullable = true)\n |-- _c557: double (nullable = true)\n |-- _c558: double (nullable = true)\n |-- _c559: double (nullable = true)\n |-- _c560: double (nullable = true)\n |-- _c561: double (nullable = true)\n |-- _c562: double (nullable = true)\n |-- _c563: double (nullable = true)\n |-- _c564: double (nullable = true)\n |-- _c565: double (nullable = true)\n |-- _c566: double (nullable = true)\n |-- _c567: double (nullable = true)\n |-- _c568: double (nullable = true)\n |-- _c569: double (nullable = true)\n |-- _c570: double (nullable = true)\n |-- _c571: double (nullable = true)\n |-- _c572: double (nullable = true)\n |-- _c573: double (nullable = true)\n |-- _c574: double (nullable = true)\n |-- _c575: double (nullable = true)\n |-- _c16: double (nullable = true)\n |-- _c17: double (nullable = true)\n |-- _c19: double (nullable = true)\n |-- _c20: double (nullable = true)\n |-- _c23: double (nullable = true)\n |-- _c26: double (nullable = true)\n |-- id: long (nullable = false)\n |-- features: struct (nullable = true)\n |    |-- type: byte (nullable = false)\n |    |-- size: integer (nullable = true)\n |    |-- indices: array (nullable = true)\n |    |    |-- element: integer (containsNull = false)\n |    |-- values: array (nullable = true)\n |    |    |-- element: double (containsNull = false)\n |-- pcaFeatures: struct (nullable = true)\n |    |-- type: byte (nullable = false)\n |    |-- size: integer (nullable = true)\n |    |-- indices: array (nullable = true)\n |    |    |-- element: integer (containsNull = false)\n |    |-- values: array (nullable = true)\n |    |    |-- element: double (containsNull = false)\n\n"
                }
            ], 
            "source": "rddData1.printSchema()"
        }, 
        {
            "execution_count": 6, 
            "cell_type": "code", 
            "metadata": {
                "collapsed": false
            }, 
            "outputs": [
                {
                    "execution_count": 6, 
                    "metadata": {}, 
                    "data": {
                        "text/plain": "org.apache.spark.sql.DataFrame"
                    }, 
                    "output_type": "execute_result"
                }
            ], 
            "source": "rddData1.getClass().getName()"
        }, 
        {
            "execution_count": 7, 
            "cell_type": "code", 
            "metadata": {
                "collapsed": false
            }, 
            "outputs": [
                {
                    "execution_count": 7, 
                    "metadata": {}, 
                    "data": {
                        "text/plain": "org.apache.spark.rdd.MapPartitionsRDD"
                    }, 
                    "output_type": "execute_result"
                }
            ], 
            "source": "val data = rddData1.select(\"pcaFeatures.values\").rdd\ndata.getClass().getName()"
        }, 
        {
            "execution_count": 8, 
            "cell_type": "code", 
            "metadata": {
                "collapsed": false
            }, 
            "outputs": [
                {
                    "execution_count": 8, 
                    "metadata": {}, 
                    "data": {
                        "text/plain": "Array([WrappedArray(-609244.2377965321, -84386.21730476152, -33814.23386768338, -39512.118855511035, 30360.277377903265, -30540.011541693, 10524.699665373322, -24277.58385737917, 4992.795554603827, 13210.206957489212, -4352.554523430839, 6500.287989102386, 613.2874366632798, -3242.792252401915, -4747.942385609276, -305.3784498912197, -570.8960457629687, 1102.4274527053992, 1288.4615734008519, -1413.4762103036683, 658.3512903107811, -338.12129660124015, -158.48005732746853, -23.682025223079265, 29.62302114334561, -26.29003385764488, 117.82767231816474, 21.28111191863129, -49.67238912867781, 96.87960990230414, -7.89585755957023, 33.80282514917482, 81.23265259545266, 15.188858933019464, 46.72599504822341, -8.012979173379778, 3.2355621478213643, 36.99..."
                    }, 
                    "output_type": "execute_result"
                }
            ], 
            "source": "data.take(2)"
        }, 
        {
            "execution_count": 9, 
            "cell_type": "code", 
            "metadata": {
                "collapsed": false
            }, 
            "outputs": [
                {
                    "execution_count": 9, 
                    "metadata": {}, 
                    "data": {
                        "text/plain": "org.apache.spark.sql.DataFrame"
                    }, 
                    "output_type": "execute_result"
                }
            ], 
            "source": "val data1 = rddData1.select(\"pcaFeatures.values\")\ndata1.getClass().getName()"
        }, 
        {
            "execution_count": 10, 
            "cell_type": "code", 
            "metadata": {
                "collapsed": false
            }, 
            "outputs": [
                {
                    "output_type": "stream", 
                    "name": "stdout", 
                    "text": "root\n |-- values: array (nullable = true)\n |    |-- element: double (containsNull = false)\n\n"
                }
            ], 
            "source": "data1.printSchema()"
        }, 
        {
            "execution_count": 13, 
            "cell_type": "code", 
            "metadata": {
                "collapsed": false
            }, 
            "outputs": [
                {
                    "output_type": "stream", 
                    "name": "stdout", 
                    "text": "+--------------------+\n|              values|\n+--------------------+\n|[-609244.23779653...|\n|[-548719.47315475...|\n|[-522797.14383442...|\n|[-509502.33978694...|\n|[-493043.07020125...|\n|[-481658.07961601...|\n|[-474083.88489463...|\n|[-467657.62369514...|\n|[-462641.93985295...|\n|[-459262.74693302...|\n|[-460284.73928731...|\n|[-461565.45369169...|\n|[-455943.00582058...|\n|[-458484.03508680...|\n|[-469553.63001481...|\n|[-471337.70387576...|\n|[-481936.48135847...|\n|[-493802.03255654...|\n|[-506815.46995839...|\n|[-516461.81927031...|\n+--------------------+\nonly showing top 20 rows\n\n"
                }
            ], 
            "source": "data1.show()"
        }, 
        {
            "execution_count": 14, 
            "cell_type": "code", 
            "metadata": {
                "collapsed": false
            }, 
            "outputs": [
                {
                    "execution_count": 14, 
                    "metadata": {}, 
                    "data": {
                        "text/plain": "43489"
                    }, 
                    "output_type": "execute_result"
                }
            ], 
            "source": "data1.count()"
        }, 
        {
            "execution_count": 15, 
            "cell_type": "code", 
            "metadata": {
                "collapsed": false
            }, 
            "outputs": [
                {
                    "output_type": "stream", 
                    "name": "stdout", 
                    "text": "org.apache.spark.sql.catalyst.expressions.GenericRowWithSchema\norg.apache.spark.sql.catalyst.expressions.GenericRowWithSchema\n"
                }
            ], 
            "source": "data1.map(r =>  r.getClass().getName()).take(2).foreach(println)"
        }, 
        {
            "execution_count": 16, 
            "cell_type": "code", 
            "metadata": {
                "collapsed": false
            }, 
            "outputs": [
                {
                    "execution_count": 16, 
                    "metadata": {}, 
                    "data": {
                        "text/plain": "Array([WrappedArray(-609244.2377965321, -84386.21730476152, -33814.23386768338, -39512.118855511035, 30360.277377903265, -30540.011541693, 10524.699665373322, -24277.58385737917, 4992.795554603827, 13210.206957489212, -4352.554523430839, 6500.287989102386, 613.2874366632798, -3242.792252401915, -4747.942385609276, -305.3784498912197, -570.8960457629687, 1102.4274527053992, 1288.4615734008519, -1413.4762103036683, 658.3512903107811, -338.12129660124015, -158.48005732746853, -23.682025223079265, 29.62302114334561, -26.29003385764488, 117.82767231816474, 21.28111191863129, -49.67238912867781, 96.87960990230414, -7.89585755957023, 33.80282514917482, 81.23265259545266, 15.188858933019464, 46.72599504822341, -8.012979173379778, 3.2355621478213643, 36.9..."
                    }, 
                    "output_type": "execute_result"
                }
            ], 
            "source": "val data1RDD=data1.rdd\ndata1RDD.take(2)"
        }, 
        {
            "execution_count": 17, 
            "cell_type": "code", 
            "metadata": {
                "collapsed": false
            }, 
            "outputs": [], 
            "source": "import org.apache.spark.sql.types.DoubleType\nval data1Double = data1.map(r=>r.getList(0))"
        }, 
        {
            "execution_count": 18, 
            "cell_type": "code", 
            "metadata": {
                "collapsed": false
            }, 
            "outputs": [
                {
                    "execution_count": 18, 
                    "metadata": {}, 
                    "data": {
                        "text/plain": "org.apache.spark.rdd.MapPartitionsRDD"
                    }, 
                    "output_type": "execute_result"
                }
            ], 
            "source": "data1Double.getClass.getName()"
        }, 
        {
            "execution_count": 17, 
            "cell_type": "code", 
            "metadata": {
                "collapsed": false
            }, 
            "outputs": [
                {
                    "execution_count": 17, 
                    "metadata": {}, 
                    "data": {
                        "text/plain": "Name: Compile Error\nMessage: <console>:32: error: method elementClassTag in class RDD cannot be accessed in org.apache.spark.rdd.RDD[java.util.List[Nothing]]\n              data1Double.elementClassTag.runtimeClass\n                          ^\nStackTrace: "
                    }, 
                    "output_type": "execute_result"
                }
            ], 
            "source": "data1Double.elementClassTag.runtimeClass"
        }, 
        {
            "execution_count": 19, 
            "cell_type": "code", 
            "metadata": {
                "collapsed": false
            }, 
            "outputs": [
                {
                    "execution_count": 19, 
                    "metadata": {}, 
                    "data": {
                        "text/plain": "Array([-609244.2377965321, -84386.21730476152, -33814.23386768338, -39512.118855511035, 30360.277377903265, -30540.011541693, 10524.699665373322, -24277.58385737917, 4992.795554603827, 13210.206957489212, -4352.554523430839, 6500.287989102386, 613.2874366632798, -3242.792252401915, -4747.942385609276, -305.3784498912197, -570.8960457629687, 1102.4274527053992, 1288.4615734008519, -1413.4762103036683, 658.3512903107811, -338.12129660124015, -158.48005732746853, -23.682025223079265, 29.62302114334561, -26.29003385764488, 117.82767231816474, 21.28111191863129, -49.67238912867781, 96.87960990230414, -7.89585755957023, 33.80282514917482, 81.23265259545266, 15.188858933019464, 46.72599504822341, -8.012979173379778, 3.2355621478213643, 36.992477859202175..."
                    }, 
                    "output_type": "execute_result"
                }
            ], 
            "source": "data1Double.take(2)"
        }, 
        {
            "execution_count": 20, 
            "cell_type": "code", 
            "metadata": {
                "collapsed": false
            }, 
            "outputs": [], 
            "source": "import org.apache.spark.sql.functions.explode\nval data2 = data1.select(explode(data1(\"values\")).alias(\"b_columns\"))"
        }, 
        {
            "execution_count": 21, 
            "cell_type": "code", 
            "metadata": {
                "collapsed": false
            }, 
            "outputs": [
                {
                    "output_type": "stream", 
                    "name": "stdout", 
                    "text": "+-------------------+\n|          b_columns|\n+-------------------+\n| -609244.2377965321|\n| -84386.21730476152|\n| -33814.23386768338|\n|-39512.118855511035|\n| 30360.277377903265|\n|   -30540.011541693|\n| 10524.699665373322|\n| -24277.58385737917|\n|  4992.795554603827|\n| 13210.206957489212|\n| -4352.554523430839|\n|  6500.287989102386|\n|  613.2874366632798|\n| -3242.792252401915|\n| -4747.942385609276|\n| -305.3784498912197|\n| -570.8960457629687|\n| 1102.4274527053992|\n| 1288.4615734008519|\n|-1413.4762103036683|\n+-------------------+\nonly showing top 20 rows\n\n"
                }
            ], 
            "source": "data2.show()"
        }, 
        {
            "execution_count": 22, 
            "cell_type": "code", 
            "metadata": {
                "collapsed": false
            }, 
            "outputs": [
                {
                    "execution_count": 22, 
                    "metadata": {}, 
                    "data": {
                        "text/plain": "Array([-609244.2377965321], [-84386.21730476152], [-33814.23386768338], [-39512.118855511035], [30360.277377903265])"
                    }, 
                    "output_type": "execute_result"
                }
            ], 
            "source": "val data3=data2.rdd\ndata3.take(5)"
        }, 
        {
            "execution_count": 23, 
            "cell_type": "code", 
            "metadata": {
                "collapsed": false
            }, 
            "outputs": [
                {
                    "execution_count": 23, 
                    "metadata": {}, 
                    "data": {
                        "text/plain": "4348900"
                    }, 
                    "output_type": "execute_result"
                }
            ], 
            "source": "data3.count()"
        }, 
        {
            "execution_count": 24, 
            "cell_type": "code", 
            "metadata": {
                "collapsed": false
            }, 
            "outputs": [
                {
                    "execution_count": 24, 
                    "metadata": {}, 
                    "data": {
                        "text/plain": "org.apache.spark.rdd.MapPartitionsRDD"
                    }, 
                    "output_type": "execute_result"
                }
            ], 
            "source": "data3.getClass().getName()"
        }, 
        {
            "execution_count": 25, 
            "cell_type": "code", 
            "metadata": {
                "collapsed": false
            }, 
            "outputs": [
                {
                    "output_type": "stream", 
                    "name": "stdout", 
                    "text": "Using cached version of spark-tsne-core_2.10-0.1-SNAPSHOT.jar\n"
                }
            ], 
            "source": "%AddJar  https://github.com/kartha01/spark-tsne/raw/master/bin/spark-tsne-core_2.10-0.1-SNAPSHOT.jar"
        }, 
        {
            "execution_count": 26, 
            "cell_type": "code", 
            "metadata": {
                "collapsed": false
            }, 
            "outputs": [], 
            "source": "import com.github.saurfang.spark.tsne.impl._\nimport com.github.saurfang.spark.tsne.tree.SPTree\nimport org.apache.spark.mllib.linalg.Vectors\nimport org.apache.spark.mllib.linalg.distributed.RowMatrix\nimport org.apache.spark.mllib.stat.{MultivariateStatisticalSummary, Statistics}"
        }, 
        {
            "execution_count": 27, 
            "cell_type": "code", 
            "metadata": {
                "collapsed": false
            }, 
            "outputs": [
                {
                    "execution_count": 27, 
                    "metadata": {}, 
                    "data": {
                        "text/plain": "org.apache.spark.rdd.MapPartitionsRDD"
                    }, 
                    "output_type": "execute_result"
                }
            ], 
            "source": "val data3doubVals = data3.map{ row =>   row.getDouble(0) }\ndata3doubVals.getClass().getName()"
        }, 
        {
            "execution_count": 28, 
            "cell_type": "code", 
            "metadata": {
                "collapsed": false
            }, 
            "outputs": [
                {
                    "execution_count": 28, 
                    "metadata": {}, 
                    "data": {
                        "text/plain": "Array(-609244.2377965321, -84386.21730476152)"
                    }, 
                    "output_type": "execute_result"
                }
            ], 
            "source": "data3doubVals.take(2)"
        }, 
        {
            "execution_count": 29, 
            "cell_type": "code", 
            "metadata": {
                "collapsed": false
            }, 
            "outputs": [], 
            "source": "val mean = data3doubVals.mean()\nval std = data3doubVals.stdev()"
        }, 
        {
            "execution_count": 30, 
            "cell_type": "code", 
            "metadata": {
                "collapsed": false
            }, 
            "outputs": [
                {
                    "execution_count": 30, 
                    "metadata": {}, 
                    "data": {
                        "text/plain": "-1384.4681246138402"
                    }, 
                    "output_type": "execute_result"
                }
            ], 
            "source": "mean"
        }, 
        {
            "execution_count": 31, 
            "cell_type": "code", 
            "metadata": {
                "collapsed": false
            }, 
            "outputs": [
                {
                    "execution_count": 31, 
                    "metadata": {}, 
                    "data": {
                        "text/plain": "15709.650284532287"
                    }, 
                    "output_type": "execute_result"
                }
            ], 
            "source": "std"
        }, 
        {
            "execution_count": 32, 
            "cell_type": "code", 
            "metadata": {
                "collapsed": false
            }, 
            "outputs": [
                {
                    "execution_count": 32, 
                    "metadata": {}, 
                    "data": {
                        "text/plain": "Array([-609244.2377965321, -84386.21730476152, -33814.23386768338, -39512.118855511035, 30360.277377903265, -30540.011541693, 10524.699665373322, -24277.58385737917, 4992.795554603827, 13210.206957489212, -4352.554523430839, 6500.287989102386, 613.2874366632798, -3242.792252401915, -4747.942385609276, -305.3784498912197, -570.8960457629687, 1102.4274527053992, 1288.4615734008519, -1413.4762103036683, 658.3512903107811, -338.12129660124015, -158.48005732746853, -23.682025223079265, 29.62302114334561, -26.29003385764488, 117.82767231816474, 21.28111191863129, -49.67238912867781, 96.87960990230414, -7.89585755957023, 33.80282514917482, 81.23265259545266, 15.188858933019464, 46.72599504822341, -8.012979173379778, 3.2355621478213643, 36.992477859202175..."
                    }, 
                    "output_type": "execute_result"
                }
            ], 
            "source": "val data1Double2 = data1.map(r=>r.getList(0))\ndata1Double2.take(2)"
        }, 
        {
            "execution_count": 33, 
            "cell_type": "code", 
            "metadata": {
                "collapsed": false
            }, 
            "outputs": [
                {
                    "output_type": "stream", 
                    "name": "stdout", 
                    "text": "([-609244.2377965321, -84386.21730476152, -33814.23386768338, -39512.118855511035, 30360.277377903265, -30540.011541693, 10524.699665373322, -24277.58385737917, 4992.795554603827, 13210.206957489212, -4352.554523430839, 6500.287989102386, 613.2874366632798, -3242.792252401915, -4747.942385609276, -305.3784498912197, -570.8960457629687, 1102.4274527053992, 1288.4615734008519, -1413.4762103036683, 658.3512903107811, -338.12129660124015, -158.48005732746853, -23.682025223079265, 29.62302114334561, -26.29003385764488, 117.82767231816474, 21.28111191863129, -49.67238912867781, 96.87960990230414, -7.89585755957023, 33.80282514917482, 81.23265259545266, 15.188858933019464, 46.72599504822341, -8.012979173379778, 3.2355621478213643, 36.992477859202175, -18.513354054963074, 15.314210673828313, -55.241860997589455, 23.596351643827806, 13.310704048637467, -33.27054211641218, 28.57322094318328, 2.7267132993004157, -11.517832900498368, 9.215785417731738, -41.92339592499532, -6.559697232405785, 11.45692807127281, 6.773839210114429, 30.446545649656773, -46.19431018910357, -46.27118300312825, -6.4495782089972336, -82.95440915499113, -55.91773337313607, -11.914657145388796, 6.126757761228817, -3.402133473121685, 6.959248647116177, 15.244920125616021, -18.433332150595746, -13.907127529308543, -3.3836001560823212, -92.22895979831996, -8.664076486870258, -122.56306527789116, 29.872924088544863, -27.878107857500947, -13.89650130170004, 14.01094816572615, -1.8601925344693566, 14.256844862523375, 14.889276868832868, -23.53036950805821, 3.450578678312221, -59.78616624486674, -36.71059431133969, -6.565672543913042, 71.40606728591138, -2.8289857272553465, -30.095191903180115, 47.58124341188228, -8.92826795380167, -1.4369601828848313, 5.767551305539842, -6.111516741639624, -12.239345228020447, -2.129608057588005, -8.504357209633831, -25.77213179821359, -25.762582517940533, -9.801819811729086, -5.374387980820536, 10.95430986959404, 6.934772242690531, -3.943001366742122, 2.488263711862264],0)\n([-548719.4731547501, -55536.61180347821, -25464.62787713201, -15066.492328578508, 14834.278683585186, -15709.583230517967, 974.9404950587232, -11206.781386112934, 1638.283357835083, 3821.977151103432, -238.78485727703276, 2584.577229690567, 3781.3148187360457, -492.3614444737694, -2072.0477093064883, -98.46434764274376, -1105.8887303971667, -1732.9425072587812, 758.4310199684223, -792.3002274920987, 151.47192016323453, -48.41705589546362, -0.22157196856428313, 11.1922618851633, 43.72556397999145, -24.499476470474907, 51.07695002371905, 2.3676016810062044, 27.91875829875698, 5.326268622431959, -18.327569274982412, -10.480470546634338, 42.07246679772308, -29.161718963228793, 28.741127800934237, -5.659301985912847, -0.3073058569745686, 58.56884852376147, -34.80479743093538, 28.108279810575862, -9.739353065478532, 17.15026706538328, 1.7075553724215733, -0.04445158324714825, 49.82647272238107, 10.36617590834397, -27.208809883385072, -15.263868119921069, 0.8117108142897816, 20.451043562852863, 7.639055967449051, -3.5794549978258354, -8.22380881576583, -21.97374869668764, -9.816676065214386, 5.753705928601537, 11.302018542121765, -5.632734642270461, 0.8478678836513878, 1.235377003900965, 5.017610637376704, -7.758350245752745, -3.577178627517445, -6.22679847663443, -15.122962355077226, 2.015767627452553, 3.235796482662274, 8.874428369024782, 4.740545129237843, 7.4528525934592595, 1.5245112572173083, 6.343595405337307, 11.359497092211818, 6.542521054062734, -4.53664884670975, -0.5678781711552904, -11.249212924116106, 4.914637043418304, -18.345613402689278, -0.2348292632217444, -6.599848597670733, -4.111790514719765, -2.036482601022097, 3.2638785504546695, 2.002796792990678, 2.63493613348914, 0.6781696875830409, -7.7321166696403285, 8.50704896327592, 3.4375921072019757, 11.719609285609936, -2.891558596342571, 7.25145001463586, 3.8301602171450724, 1.865809591287641, -6.134930931195329, -1.0737437486746557, 2.2134717915015125, -1.1606761451811765, -0.3907355305446666],1)\n"
                }
            ], 
            "source": "val data1DoubleWithIdx=data1Double.zipWithIndex()\ndata1DoubleWithIdx.take(2).foreach(println)"
        }, 
        {
            "execution_count": 34, 
            "cell_type": "code", 
            "metadata": {
                "collapsed": false
            }, 
            "outputs": [], 
            "source": "//val scaledData = rk3.map(x => Vectors.dense(x._1.toArray().map(v => ((Double.valueOf(v+\"\")) - mean) / std))).cache()\n//val scaledData = rk3.map(x => Vectors.dense(x._1.toArray().map(v => (new java.).cache()\nval scaledData = data1DoubleWithIdx.map(x => Vectors.dense(x._1.toArray().map(v => (v.asInstanceOf[Double] - mean) / std))).cache()"
        }, 
        {
            "execution_count": 36, 
            "cell_type": "code", 
            "metadata": {
                "collapsed": false
            }, 
            "outputs": [
                {
                    "output_type": "stream", 
                    "name": "stdout", 
                    "text": "[-38.69339919491503,-5.283488026583963,-2.0643213028745695,-2.4270209737537987,2.020716243045395,-1.8559002198658547,0.758079751890653,-1.45726450418224,0.40594561710242,0.9290260965562653,-0.18893395747576733,0.5019052602004485,0.12716741143780325,-0.11829188391404102,-0.21410242749369862,0.0686896051266712,0.05178804518977193,0.15830368800557165,0.17014571614280027,-0.0018465137774829634,0.13003595738448617,0.06660535461077913,0.07804044298131059,0.08662103068777986,0.09001417091693627,0.08645501753106859,0.09562885040230111,0.0894831655111108,0.0849666104152173,0.09429539854077328,0.08762590141230849,0.09028023692923604,0.09329938927109162,0.0890953622898252,0.0911028631281001,0.08761844601949653,0.08833447350053324,0.09048327472143741,0.08695004317847836,0.08910334157252968,0.08461208489949687,0.08963054242168889,0.08897580807630899,0.08601067229534808,0.08994734573743525,0.08830208265546,0.08739534406218756,0.08871514545449763,0.08545987366827089,0.0877109548859991,0.08885780570555031,0.08855970302494708,0.09006659248529685,0.08518800801965658,0.08518311466985996,0.08771796452793346,0.0828480387459878,0.08456906214830219,0.08737008415902592,0.08851851296424136,0.08791195005152441,0.08857150528875586,0.08909893087293057,0.08695513698406397,0.08724325317629669,0.08791312979242911,0.08225766591939085,0.08757700032836414,0.08032674416555409,0.09003007852408684,0.08635392845708584,0.08724392959031076,0.08902038221414185,0.08801010251900297,0.08903603480298651,0.08907629235136315,0.08663068435366512,0.08834816040804527,0.08432281650936906,0.08579169528869156,0.08771057452670408,0.09267387660011786,0.08794843385195826,0.08621279966010287,0.09115730408306527,0.0875601831833516,0.08803704343391318,0.08849564762674605,0.08773948387822036,0.08734941609342606,0.08799295283595854,0.08758716728143717,0.08648798465955655,0.0864885925203364,0.08750457711688255,0.08778640591324141,0.08882581147317878,0.08856994723978709,0.08787752102962869,0.08828690411340978]\n[-34.8406867827632,-3.4470623278089483,-1.5328259583364172,-0.8709311764524753,1.0324066108694983,-0.9118672183306733,0.1501884877727441,-0.6252407331543298,0.19241367106848475,0.3314170068345529,0.07292862963759586,0.2526501406725984,0.3288286403444712,0.05678717628860514,-0.04376797524064801,0.0818607514285213,0.01773301054899756,-0.02218218587513999,0.13640654666209598,0.037694530839097656,0.09777047973431723,0.08504651882886609,0.08811440914176201,0.08884095834222167,0.0909118702661402,0.08656899571357038,0.09137982377946352,0.0882792233548524,0.08990568582568847,0.08846755771544215,0.0869618693347973,0.08746137750883184,0.09080664213232897,0.08627222001148208,0.08995803387209832,0.08776826967214553,0.08810895173902819,0.09185672163297073,0.08591300905735519,0.08991774984419851,0.08750855344640733,0.08922021600055963,0.08823720801417774,0.08812568376481913,0.0913002244708418,0.08878837372309538,0.08639653271383207,0.08715688966303961,0.08818018290273946,0.08943032739309136,0.08861477851941472,0.0879006626249113,0.08760502562893611,0.08672977127050778,0.08750363143997592,0.0884947662973283,0.08884794491766863,0.08776996082014445,0.0881824844860788,0.0882071514336703,0.08844791004795975,0.08763465445972372,0.08790080752758368,0.08773214560315333,0.08716585903933326,0.0882568273086527,0.08833448841715051,0.08869341632351609,0.08843027340404212,0.08860292571743524,0.08822555631526088,0.08853231579499704,0.08885160372286474,0.08854497843516551,0.08783973231573527,0.08809236497169337,0.08741244310459251,0.08844135524934275,0.0869607207333084,0.08811356524680462,0.08770839904519186,0.08786677673265703,0.08799888075000369,0.08833627598512839,0.08825600164835938,0.08829624056705263,0.08817168232352299,0.08763632436170354,0.08867003073573439,0.08834733374603337,0.0888745267152214,0.08794445076716935,0.08859010540793276,0.0883723227243259,0.08824728170875398,0.08773799344468865,0.08806016402715565,0.08826941219504215,0.08805463033322027,0.08810364101141434]\n"
                }
            ], 
            "source": "scaledData.take(2).foreach(println)"
        }, 
        {
            "execution_count": 37, 
            "cell_type": "code", 
            "metadata": {
                "collapsed": false
            }, 
            "outputs": [
                {
                    "execution_count": 37, 
                    "metadata": {}, 
                    "data": {
                        "text/plain": "43489"
                    }, 
                    "output_type": "execute_result"
                }
            ], 
            "source": "scaledData.count()"
        }, 
        {
            "execution_count": 38, 
            "cell_type": "code", 
            "metadata": {
                "collapsed": false
            }, 
            "outputs": [
                {
                    "execution_count": 38, 
                    "metadata": {}, 
                    "data": {
                        "text/plain": "MapPartitionsRDD[56] at mapPartitions at RowMatrix.scala:429"
                    }, 
                    "output_type": "execute_result"
                }
            ], 
            "source": "val labels = data1DoubleWithIdx.map(_._2).collect()\nval matrix = new RowMatrix(scaledData)\nval pcaMatrix = matrix.multiply(matrix.computePrincipalComponents(50))\npcaMatrix.rows.cache()"
        }, 
        {
            "execution_count": 39, 
            "cell_type": "code", 
            "metadata": {
                "collapsed": false
            }, 
            "outputs": [
                {
                    "execution_count": 39, 
                    "metadata": {}, 
                    "data": {
                        "text/plain": "Array(0, 1, 2, 3, 4, 5, 6, 7, 8, 9, 10, 11, 12, 13, 14, 15, 16, 17, 18, 19, 20, 21, 22, 23, 24, 25, 26, 27, 28, 29, 30, 31, 32, 33, 34, 35, 36, 37, 38, 39, 40, 41, 42, 43, 44, 45, 46, 47, 48, 49, 50, 51, 52, 53, 54, 55, 56, 57, 58, 59, 60, 61, 62, 63, 64, 65, 66, 67, 68, 69, 70, 71, 72, 73, 74, 75, 76, 77, 78, 79, 80, 81, 82, 83, 84, 85, 86, 87, 88, 89, 90, 91, 92, 93, 94, 95, 96, 97, 98, 99, 100, 101, 102, 103, 104, 105, 106, 107, 108, 109, 110, 111, 112, 113, 114, 115, 116, 117, 118, 119, 120, 121, 122, 123, 124, 125, 126, 127, 128, 129, 130, 131, 132, 133, 134, 135, 136, 137, 138, 139, 140, 141, 142, 143, 144, 145, 146, 147, 148, 149, 150, 151, 152, 153, 154, 155, 156, 157, 158, 159, 160, 161, 162, 163, 164, 165, 166, 167, 168, 169, 170, 171, 172, 173, 174, 175, ..."
                    }, 
                    "output_type": "execute_result"
                }
            ], 
            "source": "labels"
        }, 
        {
            "execution_count": 40, 
            "cell_type": "code", 
            "metadata": {
                "collapsed": true
            }, 
            "outputs": [], 
            "source": "import java.io.{BufferedWriter, OutputStreamWriter}\n\nimport org.apache.hadoop.fs.{FileSystem, Path}\n\nimport org.apache.spark.{SparkConf, SparkContext}\nimport org.apache.spark.SparkContext._\nimport org.slf4j.LoggerFactory"
        }, 
        {
            "execution_count": 41, 
            "cell_type": "code", 
            "metadata": {
                "collapsed": false
            }, 
            "outputs": [], 
            "source": "val hadoopConf = sc.hadoopConfiguration\nval fs = FileSystem.get(hadoopConf)\n   val costWriter = new BufferedWriter(new OutputStreamWriter(fs.create(new Path(s\"MGH-TEST-01/cost.txt\"), true)))\n\n    //SimpleTSNE.tsne(pcaMatrix, perplexity = 20, maxIterations = 200)\n    BHTSNE.tsne(pcaMatrix, maxIterations = 500, callback = {\n    //LBFGSTSNE.tsne(pcaMatrix, perplexity = 10, maxNumIterations = 500, numCorrections = 10, convergenceTol = 1e-8)\n      case (i, y, loss) =>\n        if(loss.isDefined) println(s\"$i iteration finished with loss $loss\")\n\n        val os = fs.create(new Path(s\"MGH-TEST-01/result${\"%05d\".format(i)}.csv\"), true)\n        val writer = new BufferedWriter(new OutputStreamWriter(os))\n        try {\n          (0 until y.rows).foreach {\n            row =>\n              writer.write(labels(row).toString)\n              writer.write(y(row, ::).inner.toArray.mkString(\",\", \",\", \"\\n\"))\n              //writer.write(y(row, ::).inner.toArray.mkString(, \",\", \"\\n\"))\n          }\n          //if(loss.isDefined) costWriter.write(loss.get + \"\\n\")\n          costWriter.write(loss.get + \"\\n\")  \n        } finally {\n          writer.close()\n        }\n    })\n    costWriter.close()"
        }, 
        {
            "source": "<h1> Backup...</h1>", 
            "cell_type": "markdown", 
            "metadata": {}
        }, 
        {
            "execution_count": 68, 
            "cell_type": "code", 
            "metadata": {
                "collapsed": false
            }, 
            "outputs": [], 
            "source": "val result = data1.map { row => row.getSeq[(Double)](0) }.collect\nresult\nvar r=data1.map { row => row.getSeq[(Double)](0) }.map(x => ( x.tail.map(_.toDouble)))\nr.take(2).foreach(println)\nr.getClass().getName()\nval data3=data2.flatMap(_._1)\ndata3.getClass().getName()"
        }, 
        {
            "execution_count": 111, 
            "cell_type": "code", 
            "metadata": {
                "collapsed": false
            }, 
            "outputs": [
                {
                    "output_type": "stream", 
                    "name": "stdout", 
                    "text": "[[18.0,1.0,0.0,10.0,0.5],1.0]\n"
                }
            ], 
            "source": "import org.apache.spark.ml.feature.VectorAssembler\nimport org.apache.spark.mllib.linalg.Vectors\n\nval dataset = sqlContext.createDataFrame(\n  Seq((0, 18, 1.0, Vectors.dense(0.0, 10.0, 0.5), 1.0))\n).toDF(\"id\", \"hour\", \"mobile\", \"userFeatures\", \"clicked\")\n\nval assembler = new VectorAssembler().setInputCols(Array(\"hour\", \"mobile\", \"userFeatures\")).setOutputCol(\"features\")\n\nval output = assembler.transform(dataset)\nprintln(output.select(\"features\", \"clicked\").first())"
        }, 
        {
            "execution_count": 121, 
            "cell_type": "code", 
            "metadata": {
                "collapsed": false
            }, 
            "outputs": [
                {
                    "execution_count": 121, 
                    "metadata": {}, 
                    "data": {
                        "text/plain": "org.apache.spark.sql.DataFrame"
                    }, 
                    "output_type": "execute_result"
                }
            ], 
            "source": "output.getClass().getName()"
        }, 
        {
            "execution_count": null, 
            "cell_type": "code", 
            "metadata": {
                "collapsed": true
            }, 
            "outputs": [], 
            "source": "val rows: Array[Row] = ???\nrows.map(_.getInt(0))"
        }, 
        {
            "execution_count": null, 
            "cell_type": "code", 
            "metadata": {
                "collapsed": true
            }, 
            "outputs": [], 
            "source": "val featuresArray = df.rdd.map(r => {r.getAs[mutable.WrappedArray[Double]](\"pcaFeatures.values\")}"
        }, 
        {
            "execution_count": null, 
            "cell_type": "code", 
            "metadata": {
                "collapsed": true
            }, 
            "outputs": [], 
            "source": "val rk=data1.map(r =>  r.getList(0).toArray)\nrk.getClass().getName()\nrk.take(2).foreach(println)\n\n\ndata1Double.take(2).foreach(println)\n\nrk.map(x => x.getClass().getName()).take(2).foreach(println)\n\n\nval rk2=data1.map(row => row.getAs[Seq[Double]](0))\nrk2.take(2).foreach(println)"
        }, 
        {
            "execution_count": null, 
            "cell_type": "code", 
            "metadata": {
                "collapsed": true
            }, 
            "outputs": [], 
            "source": "val sDWithRowId=scaledData.zipWithIndex()\nsDWithRowId.take(2).foreach(println)\n\n\nval rk3=data1Double.map((_, 1))\nrk3.take(2).foreach(println)"
        }
    ], 
    "metadata": {
        "kernelspec": {
            "display_name": "Scala 2.10 with Spark 1.6", 
            "name": "scala", 
            "language": "scala"
        }, 
        "language_info": {
            "name": "scala"
        }
    }, 
    "nbformat": 4
}